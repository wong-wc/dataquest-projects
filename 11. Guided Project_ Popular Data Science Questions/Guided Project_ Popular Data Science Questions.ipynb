{
 "cells": [
  {
   "cell_type": "markdown",
   "metadata": {
    "collapsed": true
   },
   "source": [
    "# Popular Data Science Questions"
   ]
  },
  {
   "cell_type": "markdown",
   "metadata": {},
   "source": [
    "In this project, I would be investigating the [Data Science Stack Exchange](https://datascience.stackexchange.com/) site to determine what kind of data science questions are learners most interested in. The Data Science Stack Exchange (DSSE) is a data science dedicated site and coupled with the fact that there are a lot of unanswered questions makes it an ideal candidate for the investigation. On the DSSE website, technical kinds of questions are the usual and are welcomed on the site. Technical questions range from the the concepts behind key data science topics and also in relation to code handling. Besides questions, the site's home also links to the users of the site as well as job listings. Within each question post, related questions related to the questions being asked are shown on the side. There are also tags associated with the question which could help identify what the question is relating to. These tags are very useful in categorizing content data science learners are asking on the site."
   ]
  },
  {
   "cell_type": "markdown",
   "metadata": {
    "collapsed": true
   },
   "source": [
    "# Stack Exchange Data Explorer (SEDE)"
   ]
  },
  {
   "cell_type": "markdown",
   "metadata": {},
   "source": [
    "Stack Exchange provides a public data base for each of its website, including the Data Science Stack Exchange site. Queries could be entered onto this [public data base](https://data.stackexchange.com/datascience/query/new) for exploration. Upon further investigation of the various tables from Data Science Stack Exchange's data model, several tables are of interest which could be useful and promising towards finding the most popular content. These tables include:\n",
    "* `Tags`\n",
    "* `Posts`\n",
    "* `PostTags` which links the `PostId` of `Id` from `Posts` to the `TagId` of `Id` from `Tags` (ile the table connecting the `Tags` and `Posts` table to associate the tags for each post)"
   ]
  },
  {
   "cell_type": "markdown",
   "metadata": {},
   "source": [
    "Looking at the `Posts` table, there are a lot of columns but only the relevant columns that useful towards our goal should be used for the analysis. The relevant columns are as follows, along with accompanying description of what each column is about:\n",
    "\n",
    "* `Id`: An identification number for the post.\n",
    "* `PostTypeId`: An identification number for the type of post.\n",
    "\n",
    "<img src=\"https://dq-content.s3.amazonaws.com/469/PostTypes.png\"/>\n",
    "\n",
    "* `Score`: The post's score.\n",
    "* `ViewCount`: How many times the post was viewed.\n",
    "* `Tags`: What tags were used.\n",
    "* `AnswerCount`: How many answers the question got (only applicable to question posts).\n",
    "* `FavoriteCount`: How many times the question was favored (only applicable to question posts).\n",
    "\n",
    "With the exception of the `Tags` column, the last few columns related to how popular the post was which is the kind of information that is relevant for our investigation."
   ]
  },
  {
   "cell_type": "markdown",
   "metadata": {},
   "source": [
    "Querying the data base, an overwhelming majority of posts are either questions or answers; the other post types are inconsequential and so, they can be ignored. A query is ran against the SEDE DSSE database to extract all the columns listed above for all the questions in 2019:\n",
    "\n",
    "`SELECT Id, PostTypeId, CreationDate, Score, ViewCount, Tags, AnswerCount, FavoriteCount\n",
    "FROM Posts\n",
    "WHERE YEAR(CreationDate) = 2019 AND PostTypeId = 1;`\n",
    "\n",
    "The result of the query is stored in a csv file `2019_questions.csv` to be loaded in as a pandas DataFrame.\n"
   ]
  },
  {
   "cell_type": "markdown",
   "metadata": {},
   "source": [
    "# Data Exploration and Cleaning"
   ]
  },
  {
   "cell_type": "code",
   "execution_count": 1,
   "metadata": {
    "collapsed": true
   },
   "outputs": [],
   "source": [
    "# Importing the libraries\n",
    "import pandas as pd\n",
    "import numpy as np\n",
    "import matplotlib.pyplot as plt\n",
    "import seaborn as sns\n",
    "\n",
    "%matplotlib inline"
   ]
  },
  {
   "cell_type": "code",
   "execution_count": 2,
   "metadata": {
    "collapsed": false
   },
   "outputs": [],
   "source": [
    "# Reading in the csv file into a pandas DataFrame\n",
    "\n",
    "df = pd.read_csv(\"2019_questions.csv\", parse_dates=['CreationDate'])"
   ]
  },
  {
   "cell_type": "code",
   "execution_count": 3,
   "metadata": {
    "collapsed": false
   },
   "outputs": [
    {
     "data": {
      "text/html": [
       "<div>\n",
       "<style scoped>\n",
       "    .dataframe tbody tr th:only-of-type {\n",
       "        vertical-align: middle;\n",
       "    }\n",
       "\n",
       "    .dataframe tbody tr th {\n",
       "        vertical-align: top;\n",
       "    }\n",
       "\n",
       "    .dataframe thead th {\n",
       "        text-align: right;\n",
       "    }\n",
       "</style>\n",
       "<table border=\"1\" class=\"dataframe\">\n",
       "  <thead>\n",
       "    <tr style=\"text-align: right;\">\n",
       "      <th></th>\n",
       "      <th>Id</th>\n",
       "      <th>CreationDate</th>\n",
       "      <th>Score</th>\n",
       "      <th>ViewCount</th>\n",
       "      <th>Tags</th>\n",
       "      <th>AnswerCount</th>\n",
       "      <th>FavoriteCount</th>\n",
       "    </tr>\n",
       "  </thead>\n",
       "  <tbody>\n",
       "    <tr>\n",
       "      <th>0</th>\n",
       "      <td>44419</td>\n",
       "      <td>2019-01-23 09:21:13</td>\n",
       "      <td>1</td>\n",
       "      <td>21</td>\n",
       "      <td>&lt;machine-learning&gt;&lt;data-mining&gt;</td>\n",
       "      <td>0</td>\n",
       "      <td>NaN</td>\n",
       "    </tr>\n",
       "    <tr>\n",
       "      <th>1</th>\n",
       "      <td>44420</td>\n",
       "      <td>2019-01-23 09:34:01</td>\n",
       "      <td>0</td>\n",
       "      <td>25</td>\n",
       "      <td>&lt;machine-learning&gt;&lt;regression&gt;&lt;linear-regressi...</td>\n",
       "      <td>0</td>\n",
       "      <td>NaN</td>\n",
       "    </tr>\n",
       "    <tr>\n",
       "      <th>2</th>\n",
       "      <td>44423</td>\n",
       "      <td>2019-01-23 09:58:41</td>\n",
       "      <td>2</td>\n",
       "      <td>1651</td>\n",
       "      <td>&lt;python&gt;&lt;time-series&gt;&lt;forecast&gt;&lt;forecasting&gt;</td>\n",
       "      <td>0</td>\n",
       "      <td>NaN</td>\n",
       "    </tr>\n",
       "    <tr>\n",
       "      <th>3</th>\n",
       "      <td>44427</td>\n",
       "      <td>2019-01-23 10:57:09</td>\n",
       "      <td>0</td>\n",
       "      <td>55</td>\n",
       "      <td>&lt;machine-learning&gt;&lt;scikit-learn&gt;&lt;pca&gt;</td>\n",
       "      <td>1</td>\n",
       "      <td>NaN</td>\n",
       "    </tr>\n",
       "    <tr>\n",
       "      <th>4</th>\n",
       "      <td>44428</td>\n",
       "      <td>2019-01-23 11:02:15</td>\n",
       "      <td>0</td>\n",
       "      <td>19</td>\n",
       "      <td>&lt;dataset&gt;&lt;bigdata&gt;&lt;data&gt;&lt;speech-to-text&gt;</td>\n",
       "      <td>0</td>\n",
       "      <td>NaN</td>\n",
       "    </tr>\n",
       "  </tbody>\n",
       "</table>\n",
       "</div>"
      ],
      "text/plain": [
       "      Id        CreationDate  Score  ViewCount  \\\n",
       "0  44419 2019-01-23 09:21:13      1         21   \n",
       "1  44420 2019-01-23 09:34:01      0         25   \n",
       "2  44423 2019-01-23 09:58:41      2       1651   \n",
       "3  44427 2019-01-23 10:57:09      0         55   \n",
       "4  44428 2019-01-23 11:02:15      0         19   \n",
       "\n",
       "                                                Tags  AnswerCount  \\\n",
       "0                    <machine-learning><data-mining>            0   \n",
       "1  <machine-learning><regression><linear-regressi...            0   \n",
       "2       <python><time-series><forecast><forecasting>            0   \n",
       "3              <machine-learning><scikit-learn><pca>            1   \n",
       "4           <dataset><bigdata><data><speech-to-text>            0   \n",
       "\n",
       "   FavoriteCount  \n",
       "0            NaN  \n",
       "1            NaN  \n",
       "2            NaN  \n",
       "3            NaN  \n",
       "4            NaN  "
      ]
     },
     "execution_count": 3,
     "metadata": {},
     "output_type": "execute_result"
    }
   ],
   "source": [
    "# First five rows of the dataframe\n",
    "df.head()"
   ]
  },
  {
   "cell_type": "code",
   "execution_count": 4,
   "metadata": {
    "collapsed": false,
    "scrolled": true
   },
   "outputs": [
    {
     "name": "stdout",
     "output_type": "stream",
     "text": [
      "<class 'pandas.core.frame.DataFrame'>\n",
      "RangeIndex: 8839 entries, 0 to 8838\n",
      "Data columns (total 7 columns):\n",
      "Id               8839 non-null int64\n",
      "CreationDate     8839 non-null datetime64[ns]\n",
      "Score            8839 non-null int64\n",
      "ViewCount        8839 non-null int64\n",
      "Tags             8839 non-null object\n",
      "AnswerCount      8839 non-null int64\n",
      "FavoriteCount    1407 non-null float64\n",
      "dtypes: datetime64[ns](1), float64(1), int64(4), object(1)\n",
      "memory usage: 483.5+ KB\n"
     ]
    }
   ],
   "source": [
    "# Overview of the dataframe\n",
    "df.info()"
   ]
  },
  {
   "cell_type": "markdown",
   "metadata": {},
   "source": [
    "Initial data exploration would show that there are substantial missing (null) values in the `FavoriteCount` column. The datatypes of the columns are adequate and in the right form. However, for the `Tags` column, there are several values for each row encased in arrow brackets ('<' and '>'). These values could be split out such that each row would only have one tag."
   ]
  },
  {
   "cell_type": "code",
   "execution_count": 5,
   "metadata": {
    "collapsed": false
   },
   "outputs": [
    {
     "data": {
      "text/plain": [
       "Id                        int64\n",
       "CreationDate     datetime64[ns]\n",
       "Score                     int64\n",
       "ViewCount                 int64\n",
       "Tags                     object\n",
       "AnswerCount               int64\n",
       "FavoriteCount             int64\n",
       "dtype: object"
      ]
     },
     "execution_count": 5,
     "metadata": {},
     "output_type": "execute_result"
    }
   ],
   "source": [
    "# Filling in the missing values with 0\n",
    "df.fillna(0, inplace=True)\n",
    "df['FavoriteCount'] = df['FavoriteCount'].astype(int)\n",
    "df.dtypes"
   ]
  },
  {
   "cell_type": "code",
   "execution_count": 6,
   "metadata": {
    "collapsed": false
   },
   "outputs": [],
   "source": [
    "# Cleaning the `Tags` column to convert to a list of values\n",
    "df['Tags'] = df['Tags'].str.replace('><',',').str.replace(r'[<>]','').str.split(',')"
   ]
  },
  {
   "cell_type": "code",
   "execution_count": 7,
   "metadata": {
    "collapsed": false
   },
   "outputs": [
    {
     "data": {
      "text/html": [
       "<div>\n",
       "<style scoped>\n",
       "    .dataframe tbody tr th:only-of-type {\n",
       "        vertical-align: middle;\n",
       "    }\n",
       "\n",
       "    .dataframe tbody tr th {\n",
       "        vertical-align: top;\n",
       "    }\n",
       "\n",
       "    .dataframe thead th {\n",
       "        text-align: right;\n",
       "    }\n",
       "</style>\n",
       "<table border=\"1\" class=\"dataframe\">\n",
       "  <thead>\n",
       "    <tr style=\"text-align: right;\">\n",
       "      <th></th>\n",
       "      <th>Id</th>\n",
       "      <th>CreationDate</th>\n",
       "      <th>Score</th>\n",
       "      <th>ViewCount</th>\n",
       "      <th>Tags</th>\n",
       "      <th>AnswerCount</th>\n",
       "      <th>FavoriteCount</th>\n",
       "    </tr>\n",
       "  </thead>\n",
       "  <tbody>\n",
       "    <tr>\n",
       "      <th>0</th>\n",
       "      <td>44419</td>\n",
       "      <td>2019-01-23 09:21:13</td>\n",
       "      <td>1</td>\n",
       "      <td>21</td>\n",
       "      <td>[machine-learning, data-mining]</td>\n",
       "      <td>0</td>\n",
       "      <td>0</td>\n",
       "    </tr>\n",
       "    <tr>\n",
       "      <th>1</th>\n",
       "      <td>44420</td>\n",
       "      <td>2019-01-23 09:34:01</td>\n",
       "      <td>0</td>\n",
       "      <td>25</td>\n",
       "      <td>[machine-learning, regression, linear-regressi...</td>\n",
       "      <td>0</td>\n",
       "      <td>0</td>\n",
       "    </tr>\n",
       "    <tr>\n",
       "      <th>2</th>\n",
       "      <td>44423</td>\n",
       "      <td>2019-01-23 09:58:41</td>\n",
       "      <td>2</td>\n",
       "      <td>1651</td>\n",
       "      <td>[python, time-series, forecast, forecasting]</td>\n",
       "      <td>0</td>\n",
       "      <td>0</td>\n",
       "    </tr>\n",
       "    <tr>\n",
       "      <th>3</th>\n",
       "      <td>44427</td>\n",
       "      <td>2019-01-23 10:57:09</td>\n",
       "      <td>0</td>\n",
       "      <td>55</td>\n",
       "      <td>[machine-learning, scikit-learn, pca]</td>\n",
       "      <td>1</td>\n",
       "      <td>0</td>\n",
       "    </tr>\n",
       "    <tr>\n",
       "      <th>4</th>\n",
       "      <td>44428</td>\n",
       "      <td>2019-01-23 11:02:15</td>\n",
       "      <td>0</td>\n",
       "      <td>19</td>\n",
       "      <td>[dataset, bigdata, data, speech-to-text]</td>\n",
       "      <td>0</td>\n",
       "      <td>0</td>\n",
       "    </tr>\n",
       "  </tbody>\n",
       "</table>\n",
       "</div>"
      ],
      "text/plain": [
       "      Id        CreationDate  Score  ViewCount  \\\n",
       "0  44419 2019-01-23 09:21:13      1         21   \n",
       "1  44420 2019-01-23 09:34:01      0         25   \n",
       "2  44423 2019-01-23 09:58:41      2       1651   \n",
       "3  44427 2019-01-23 10:57:09      0         55   \n",
       "4  44428 2019-01-23 11:02:15      0         19   \n",
       "\n",
       "                                                Tags  AnswerCount  \\\n",
       "0                    [machine-learning, data-mining]            0   \n",
       "1  [machine-learning, regression, linear-regressi...            0   \n",
       "2       [python, time-series, forecast, forecasting]            0   \n",
       "3              [machine-learning, scikit-learn, pca]            1   \n",
       "4           [dataset, bigdata, data, speech-to-text]            0   \n",
       "\n",
       "   FavoriteCount  \n",
       "0              0  \n",
       "1              0  \n",
       "2              0  \n",
       "3              0  \n",
       "4              0  "
      ]
     },
     "execution_count": 7,
     "metadata": {},
     "output_type": "execute_result"
    }
   ],
   "source": [
    "df.head()"
   ]
  },
  {
   "cell_type": "markdown",
   "metadata": {},
   "source": [
    "# Most Used and Most Viewed Tags"
   ]
  },
  {
   "cell_type": "markdown",
   "metadata": {},
   "source": [
    "To determine the most popular tags, we will be considering the number of times a tag was used as well as how many times a question with that tag was viewed."
   ]
  },
  {
   "cell_type": "markdown",
   "metadata": {},
   "source": [
    "## How many times each tag was used"
   ]
  },
  {
   "cell_type": "code",
   "execution_count": 8,
   "metadata": {
    "collapsed": false
   },
   "outputs": [
    {
     "data": {
      "text/html": [
       "<div>\n",
       "<style scoped>\n",
       "    .dataframe tbody tr th:only-of-type {\n",
       "        vertical-align: middle;\n",
       "    }\n",
       "\n",
       "    .dataframe tbody tr th {\n",
       "        vertical-align: top;\n",
       "    }\n",
       "\n",
       "    .dataframe thead th {\n",
       "        text-align: right;\n",
       "    }\n",
       "</style>\n",
       "<table border=\"1\" class=\"dataframe\">\n",
       "  <thead>\n",
       "    <tr style=\"text-align: right;\">\n",
       "      <th></th>\n",
       "      <th>Count</th>\n",
       "    </tr>\n",
       "  </thead>\n",
       "  <tbody>\n",
       "    <tr>\n",
       "      <th>machine-learning</th>\n",
       "      <td>2693</td>\n",
       "    </tr>\n",
       "    <tr>\n",
       "      <th>python</th>\n",
       "      <td>1814</td>\n",
       "    </tr>\n",
       "    <tr>\n",
       "      <th>deep-learning</th>\n",
       "      <td>1220</td>\n",
       "    </tr>\n",
       "    <tr>\n",
       "      <th>neural-network</th>\n",
       "      <td>1055</td>\n",
       "    </tr>\n",
       "    <tr>\n",
       "      <th>keras</th>\n",
       "      <td>935</td>\n",
       "    </tr>\n",
       "    <tr>\n",
       "      <th>classification</th>\n",
       "      <td>685</td>\n",
       "    </tr>\n",
       "    <tr>\n",
       "      <th>tensorflow</th>\n",
       "      <td>584</td>\n",
       "    </tr>\n",
       "    <tr>\n",
       "      <th>scikit-learn</th>\n",
       "      <td>540</td>\n",
       "    </tr>\n",
       "    <tr>\n",
       "      <th>nlp</th>\n",
       "      <td>493</td>\n",
       "    </tr>\n",
       "    <tr>\n",
       "      <th>cnn</th>\n",
       "      <td>489</td>\n",
       "    </tr>\n",
       "    <tr>\n",
       "      <th>time-series</th>\n",
       "      <td>466</td>\n",
       "    </tr>\n",
       "    <tr>\n",
       "      <th>lstm</th>\n",
       "      <td>402</td>\n",
       "    </tr>\n",
       "    <tr>\n",
       "      <th>pandas</th>\n",
       "      <td>354</td>\n",
       "    </tr>\n",
       "    <tr>\n",
       "      <th>regression</th>\n",
       "      <td>347</td>\n",
       "    </tr>\n",
       "    <tr>\n",
       "      <th>dataset</th>\n",
       "      <td>340</td>\n",
       "    </tr>\n",
       "    <tr>\n",
       "      <th>r</th>\n",
       "      <td>268</td>\n",
       "    </tr>\n",
       "    <tr>\n",
       "      <th>predictive-modeling</th>\n",
       "      <td>265</td>\n",
       "    </tr>\n",
       "    <tr>\n",
       "      <th>clustering</th>\n",
       "      <td>257</td>\n",
       "    </tr>\n",
       "    <tr>\n",
       "      <th>statistics</th>\n",
       "      <td>234</td>\n",
       "    </tr>\n",
       "    <tr>\n",
       "      <th>machine-learning-model</th>\n",
       "      <td>224</td>\n",
       "    </tr>\n",
       "  </tbody>\n",
       "</table>\n",
       "</div>"
      ],
      "text/plain": [
       "                        Count\n",
       "machine-learning         2693\n",
       "python                   1814\n",
       "deep-learning            1220\n",
       "neural-network           1055\n",
       "keras                     935\n",
       "classification            685\n",
       "tensorflow                584\n",
       "scikit-learn              540\n",
       "nlp                       493\n",
       "cnn                       489\n",
       "time-series               466\n",
       "lstm                      402\n",
       "pandas                    354\n",
       "regression                347\n",
       "dataset                   340\n",
       "r                         268\n",
       "predictive-modeling       265\n",
       "clustering                257\n",
       "statistics                234\n",
       "machine-learning-model    224"
      ]
     },
     "execution_count": 8,
     "metadata": {},
     "output_type": "execute_result"
    }
   ],
   "source": [
    "# Initializing an empty dictionary to store the counts of tags being used\n",
    "tag_counts = {}\n",
    "\n",
    "# Looping through the `Tags` column\n",
    "for tags in df['Tags']:\n",
    "    # Looping through each tag in the list\n",
    "    for tag in tags:\n",
    "        if tag in tag_counts:\n",
    "            tag_counts[tag] += 1\n",
    "        else:\n",
    "            tag_counts[tag] = 1\n",
    "\n",
    "# Loading the dictionary into a DataFrame for better viewing\n",
    "tag_counts_df = pd.DataFrame.from_dict(tag_counts,orient='index')\n",
    "tag_counts_df.rename(columns={0:'Count'}, inplace=True)\n",
    "\n",
    "# Looking at just the top 20 counts, sorted in descending count order\n",
    "top_20_counts = tag_counts_df.sort_values('Count', ascending=False).head(20)\n",
    "top_20_counts"
   ]
  },
  {
   "cell_type": "code",
   "execution_count": 9,
   "metadata": {
    "collapsed": false,
    "scrolled": false
   },
   "outputs": [
    {
     "data": {
      "text/plain": [
       "<matplotlib.axes._subplots.AxesSubplot at 0x7fd689762198>"
      ]
     },
     "execution_count": 9,
     "metadata": {},
     "output_type": "execute_result"
    },
    {
     "data": {
      "image/png": "[encoded data removed]",
      "text/plain": [
       "<matplotlib.figure.Figure at 0x7fd689044ba8>"
      ]
     },
     "metadata": {},
     "output_type": "display_data"
    }
   ],
   "source": [
    "# Creating a horizontal bar chart for visualization\n",
    "top_20_counts.plot(kind='barh', figsize=(12,6), grid=False)"
   ]
  },
  {
   "cell_type": "markdown",
   "metadata": {},
   "source": [
    "## How many times each tag was viewed"
   ]
  },
  {
   "cell_type": "code",
   "execution_count": 10,
   "metadata": {
    "collapsed": false
   },
   "outputs": [
    {
     "data": {
      "text/html": [
       "<div>\n",
       "<style scoped>\n",
       "    .dataframe tbody tr th:only-of-type {\n",
       "        vertical-align: middle;\n",
       "    }\n",
       "\n",
       "    .dataframe tbody tr th {\n",
       "        vertical-align: top;\n",
       "    }\n",
       "\n",
       "    .dataframe thead th {\n",
       "        text-align: right;\n",
       "    }\n",
       "</style>\n",
       "<table border=\"1\" class=\"dataframe\">\n",
       "  <thead>\n",
       "    <tr style=\"text-align: right;\">\n",
       "      <th></th>\n",
       "      <th>Views</th>\n",
       "    </tr>\n",
       "  </thead>\n",
       "  <tbody>\n",
       "    <tr>\n",
       "      <th>python</th>\n",
       "      <td>537585</td>\n",
       "    </tr>\n",
       "    <tr>\n",
       "      <th>machine-learning</th>\n",
       "      <td>388499</td>\n",
       "    </tr>\n",
       "    <tr>\n",
       "      <th>keras</th>\n",
       "      <td>268608</td>\n",
       "    </tr>\n",
       "    <tr>\n",
       "      <th>deep-learning</th>\n",
       "      <td>233628</td>\n",
       "    </tr>\n",
       "    <tr>\n",
       "      <th>pandas</th>\n",
       "      <td>201787</td>\n",
       "    </tr>\n",
       "    <tr>\n",
       "      <th>neural-network</th>\n",
       "      <td>185367</td>\n",
       "    </tr>\n",
       "    <tr>\n",
       "      <th>scikit-learn</th>\n",
       "      <td>128110</td>\n",
       "    </tr>\n",
       "    <tr>\n",
       "      <th>tensorflow</th>\n",
       "      <td>121369</td>\n",
       "    </tr>\n",
       "    <tr>\n",
       "      <th>classification</th>\n",
       "      <td>104457</td>\n",
       "    </tr>\n",
       "    <tr>\n",
       "      <th>dataframe</th>\n",
       "      <td>89352</td>\n",
       "    </tr>\n",
       "    <tr>\n",
       "      <th>lstm</th>\n",
       "      <td>74458</td>\n",
       "    </tr>\n",
       "    <tr>\n",
       "      <th>nlp</th>\n",
       "      <td>71382</td>\n",
       "    </tr>\n",
       "    <tr>\n",
       "      <th>cnn</th>\n",
       "      <td>70349</td>\n",
       "    </tr>\n",
       "    <tr>\n",
       "      <th>time-series</th>\n",
       "      <td>64134</td>\n",
       "    </tr>\n",
       "    <tr>\n",
       "      <th>numpy</th>\n",
       "      <td>49767</td>\n",
       "    </tr>\n",
       "    <tr>\n",
       "      <th>regression</th>\n",
       "      <td>49451</td>\n",
       "    </tr>\n",
       "    <tr>\n",
       "      <th>dataset</th>\n",
       "      <td>43151</td>\n",
       "    </tr>\n",
       "    <tr>\n",
       "      <th>pytorch</th>\n",
       "      <td>40240</td>\n",
       "    </tr>\n",
       "    <tr>\n",
       "      <th>csv</th>\n",
       "      <td>38654</td>\n",
       "    </tr>\n",
       "    <tr>\n",
       "      <th>clustering</th>\n",
       "      <td>33928</td>\n",
       "    </tr>\n",
       "  </tbody>\n",
       "</table>\n",
       "</div>"
      ],
      "text/plain": [
       "                   Views\n",
       "python            537585\n",
       "machine-learning  388499\n",
       "keras             268608\n",
       "deep-learning     233628\n",
       "pandas            201787\n",
       "neural-network    185367\n",
       "scikit-learn      128110\n",
       "tensorflow        121369\n",
       "classification    104457\n",
       "dataframe          89352\n",
       "lstm               74458\n",
       "nlp                71382\n",
       "cnn                70349\n",
       "time-series        64134\n",
       "numpy              49767\n",
       "regression         49451\n",
       "dataset            43151\n",
       "pytorch            40240\n",
       "csv                38654\n",
       "clustering         33928"
      ]
     },
     "execution_count": 10,
     "metadata": {},
     "output_type": "execute_result"
    }
   ],
   "source": [
    "# Initializing an empty dictionary to store the tag views\n",
    "tag_views = {}\n",
    "\n",
    "# Looping through the DataFrame by iterating over the rows\n",
    "for index, row in df.iterrows():\n",
    "    for tag in row['Tags']:\n",
    "        if tag in tag_views:\n",
    "            tag_views[tag] += row['ViewCount']\n",
    "        else:\n",
    "            tag_views[tag] = row['ViewCount']\n",
    "\n",
    "# Loading the dictionary into a DataFrame for better viewing\n",
    "tag_views_df = pd.DataFrame.from_dict(tag_views,orient='index')\n",
    "tag_views_df.rename(columns={0:'Views'}, inplace=True)\n",
    "\n",
    "# Looking at just the top 20 counts, sorted in descending count order\n",
    "top_20_views = tag_views_df.sort_values('Views', ascending=False).head(20)\n",
    "top_20_views\n"
   ]
  },
  {
   "cell_type": "code",
   "execution_count": 11,
   "metadata": {
    "collapsed": false
   },
   "outputs": [
    {
     "data": {
      "text/plain": [
       "<matplotlib.axes._subplots.AxesSubplot at 0x7fd689044588>"
      ]
     },
     "execution_count": 11,
     "metadata": {},
     "output_type": "execute_result"
    },
    {
     "data": {
      "image/png": "[encoded data removed]",
      "text/plain": [
       "<matplotlib.figure.Figure at 0x7fd6885b0390>"
      ]
     },
     "metadata": {},
     "output_type": "display_data"
    }
   ],
   "source": [
    "# Creating a horizontal bar chart for visualization\n",
    "top_20_views.plot(kind='barh', figsize=(12,6), grid=False)"
   ]
  },
  {
   "cell_type": "markdown",
   "metadata": {},
   "source": [
    "# Domain Knowledge"
   ]
  },
  {
   "cell_type": "markdown",
   "metadata": {},
   "source": [
    "From above, it is clear that the most used tags are also the most viewed tags. Looking at possible relations between the tags, almost all of tags relate to machine learning. Several tags like `pytorch`, `cnn`, `nlp`, `tensorflow` and `keras` all relate to deep learning, which is a subset of machine learning. As such, it is clear that the most popular topic right now is deep learning, of which most data science learners would have lots of questions on."
   ]
  },
  {
   "cell_type": "markdown",
   "metadata": {},
   "source": [
    "# Is Deep Learning Just a Fad?"
   ]
  },
  {
   "cell_type": "markdown",
   "metadata": {},
   "source": [
    "In order to officially make a recommendation as to deep learning being the most popular, it would be nice to solidify the findings with additional proof to show learn that deep learning is not just a fad. It is worthwhile to investigate if interest in deep learning is slowing down or continuing to grow. To track the interest in deep learning across time, we would:\n",
    "* Count how many deep learning questions are asked per time period\n",
    "* The total amount of questions per time period\n",
    "* How many deep learning questions there are relative to the total amount of questions per time period"
   ]
  },
  {
   "cell_type": "code",
   "execution_count": 12,
   "metadata": {
    "collapsed": true
   },
   "outputs": [],
   "source": [
    "# Reading in the all_questions.csv into a DataFrame\n",
    "all_questions = pd.read_csv(\"all_questions.csv\", parse_dates=['CreationDate'])\n",
    "\n",
    "# Transforming the tags column in similar fashion as per before\n",
    "all_questions['Tags'] = all_questions['Tags'].str.replace('><',',').str.replace(r'[<>]','').str.split(',')"
   ]
  },
  {
   "cell_type": "code",
   "execution_count": 13,
   "metadata": {
    "collapsed": false
   },
   "outputs": [
    {
     "data": {
      "text/html": [
       "<div>\n",
       "<style scoped>\n",
       "    .dataframe tbody tr th:only-of-type {\n",
       "        vertical-align: middle;\n",
       "    }\n",
       "\n",
       "    .dataframe tbody tr th {\n",
       "        vertical-align: top;\n",
       "    }\n",
       "\n",
       "    .dataframe thead th {\n",
       "        text-align: right;\n",
       "    }\n",
       "</style>\n",
       "<table border=\"1\" class=\"dataframe\">\n",
       "  <thead>\n",
       "    <tr style=\"text-align: right;\">\n",
       "      <th></th>\n",
       "      <th>Id</th>\n",
       "      <th>CreationDate</th>\n",
       "      <th>Tags</th>\n",
       "    </tr>\n",
       "  </thead>\n",
       "  <tbody>\n",
       "    <tr>\n",
       "      <th>0</th>\n",
       "      <td>45416</td>\n",
       "      <td>2019-02-12 00:36:29</td>\n",
       "      <td>[python, keras, tensorflow, cnn, probability]</td>\n",
       "    </tr>\n",
       "    <tr>\n",
       "      <th>1</th>\n",
       "      <td>45418</td>\n",
       "      <td>2019-02-12 00:50:39</td>\n",
       "      <td>[neural-network]</td>\n",
       "    </tr>\n",
       "    <tr>\n",
       "      <th>2</th>\n",
       "      <td>45422</td>\n",
       "      <td>2019-02-12 04:40:51</td>\n",
       "      <td>[python, ibm-watson, chatbot]</td>\n",
       "    </tr>\n",
       "    <tr>\n",
       "      <th>3</th>\n",
       "      <td>45426</td>\n",
       "      <td>2019-02-12 04:51:49</td>\n",
       "      <td>[keras]</td>\n",
       "    </tr>\n",
       "    <tr>\n",
       "      <th>4</th>\n",
       "      <td>45427</td>\n",
       "      <td>2019-02-12 05:08:24</td>\n",
       "      <td>[r, predictive-modeling, machine-learning-mode...</td>\n",
       "    </tr>\n",
       "  </tbody>\n",
       "</table>\n",
       "</div>"
      ],
      "text/plain": [
       "      Id        CreationDate  \\\n",
       "0  45416 2019-02-12 00:36:29   \n",
       "1  45418 2019-02-12 00:50:39   \n",
       "2  45422 2019-02-12 04:40:51   \n",
       "3  45426 2019-02-12 04:51:49   \n",
       "4  45427 2019-02-12 05:08:24   \n",
       "\n",
       "                                                Tags  \n",
       "0      [python, keras, tensorflow, cnn, probability]  \n",
       "1                                   [neural-network]  \n",
       "2                      [python, ibm-watson, chatbot]  \n",
       "3                                            [keras]  \n",
       "4  [r, predictive-modeling, machine-learning-mode...  "
      ]
     },
     "execution_count": 13,
     "metadata": {},
     "output_type": "execute_result"
    }
   ],
   "source": [
    "all_questions.head()"
   ]
  },
  {
   "cell_type": "code",
   "execution_count": 14,
   "metadata": {
    "collapsed": false
   },
   "outputs": [],
   "source": [
    "# Creating a `CreationMonth` column to track the month in which the post was created\n",
    "all_questions['CreationMonth'] = all_questions['CreationDate'].dt.year * 100 + all_questions['CreationDate'].dt.month"
   ]
  },
  {
   "cell_type": "code",
   "execution_count": 15,
   "metadata": {
    "collapsed": false
   },
   "outputs": [],
   "source": [
    "# Creating a custom function to deal with classifying whether a post relates to Deep Learning or not\n",
    "def classify(tags):\n",
    "    result = False\n",
    "    for tag in tags:\n",
    "        if tag.lower() in ['pytorch', 'cnn', 'rnn', 'nlp', 'lstm', 'tensorflow', 'keras', 'neural-network', 'deep-learning']:\n",
    "            result = True\n",
    "    return result\n",
    "    \n",
    "\n",
    "# Creating a 'Deep_Learning' column which is Boolean to classify whether a post is a Deep Learning question or not\n",
    "all_questions['Deep_Learning'] = all_questions['Tags'].apply(classify)"
   ]
  },
  {
   "cell_type": "code",
   "execution_count": 16,
   "metadata": {
    "collapsed": false
   },
   "outputs": [
    {
     "data": {
      "text/plain": [
       "CreationMonth\n",
       "201405      4\n",
       "201406     12\n",
       "201407     12\n",
       "201408      6\n",
       "201409      4\n",
       "201410     11\n",
       "201411      8\n",
       "201412     10\n",
       "201501      5\n",
       "201502      6\n",
       "201503      8\n",
       "201504      6\n",
       "201505     17\n",
       "201506     16\n",
       "201507     20\n",
       "201508     12\n",
       "201509     12\n",
       "201510     17\n",
       "201511     14\n",
       "201512     33\n",
       "201601     41\n",
       "201602     26\n",
       "201603     46\n",
       "201604     33\n",
       "201605     43\n",
       "201606     33\n",
       "201607     51\n",
       "201608     61\n",
       "201609     33\n",
       "201610     46\n",
       "         ... \n",
       "201708    102\n",
       "201709     59\n",
       "201710     80\n",
       "201711    130\n",
       "201712    140\n",
       "201801    175\n",
       "201802    155\n",
       "201803    180\n",
       "201804    163\n",
       "201805    234\n",
       "201806    163\n",
       "201807    202\n",
       "201808    258\n",
       "201809    221\n",
       "201810    169\n",
       "201811    165\n",
       "201812    158\n",
       "201901    213\n",
       "201902    298\n",
       "201903    281\n",
       "201904    308\n",
       "201905    305\n",
       "201906    333\n",
       "201907    378\n",
       "201908    291\n",
       "201909    251\n",
       "201910    248\n",
       "201911    276\n",
       "201912    298\n",
       "202001    176\n",
       "Name: Deep_Learning, Length: 69, dtype: int64"
      ]
     },
     "execution_count": 16,
     "metadata": {},
     "output_type": "execute_result"
    }
   ],
   "source": [
    "# Counting how many deep learning questions are asked per time period\n",
    "deep_learning_count = all_questions.groupby('CreationMonth')['Deep_Learning'].sum().astype(int)\n",
    "deep_learning_count"
   ]
  },
  {
   "cell_type": "code",
   "execution_count": 17,
   "metadata": {
    "collapsed": false
   },
   "outputs": [
    {
     "data": {
      "text/plain": [
       "CreationMonth\n",
       "201405     58\n",
       "201406     99\n",
       "201407     76\n",
       "201408     65\n",
       "201409     48\n",
       "201410     71\n",
       "201411     64\n",
       "201412     81\n",
       "201501     63\n",
       "201502     73\n",
       "201503     54\n",
       "201504     71\n",
       "201505     92\n",
       "201506    121\n",
       "201507    117\n",
       "201508    101\n",
       "201509     93\n",
       "201510    115\n",
       "201511    117\n",
       "201512    150\n",
       "201601    172\n",
       "201602    148\n",
       "201603    196\n",
       "201604    181\n",
       "201605    164\n",
       "201606    173\n",
       "201607    208\n",
       "201608    224\n",
       "201609    153\n",
       "201610    167\n",
       "         ... \n",
       "201708    294\n",
       "201709    195\n",
       "201710    236\n",
       "201711    340\n",
       "201712    322\n",
       "201801    416\n",
       "201802    385\n",
       "201803    420\n",
       "201804    446\n",
       "201805    587\n",
       "201806    415\n",
       "201807    465\n",
       "201808    540\n",
       "201809    507\n",
       "201810    461\n",
       "201811    412\n",
       "201812    421\n",
       "201901    552\n",
       "201902    712\n",
       "201903    723\n",
       "201904    746\n",
       "201905    829\n",
       "201906    818\n",
       "201907    909\n",
       "201908    766\n",
       "201909    719\n",
       "201910    645\n",
       "201911    667\n",
       "201912    724\n",
       "202001    459\n",
       "Length: 69, dtype: int64"
      ]
     },
     "execution_count": 17,
     "metadata": {},
     "output_type": "execute_result"
    }
   ],
   "source": [
    "# Counting how many questions are asked per time period\n",
    "all_questions_count = all_questions.groupby('CreationMonth').size()\n",
    "all_questions_count"
   ]
  },
  {
   "cell_type": "code",
   "execution_count": 18,
   "metadata": {
    "collapsed": false
   },
   "outputs": [],
   "source": [
    "# Putting both series into a DataFrame and calculating the ratio of deep learning questions to total per month\n",
    "final_table = pd.DataFrame(deep_learning_count)\n",
    "final_table['Total_Count'] = all_questions_count\n",
    "final_table['Ratio'] = round(final_table['Deep_Learning'] / final_table['Total_Count'],4)"
   ]
  },
  {
   "cell_type": "code",
   "execution_count": 19,
   "metadata": {
    "collapsed": false
   },
   "outputs": [],
   "source": [
    "import datetime as dt\n",
    "\n",
    "# Format the index\n",
    "final_table.reset_index(inplace=True)\n",
    "final_table['CreationMonth'] = final_table['CreationMonth'].astype(str).apply(lambda x: dt.datetime.strptime(x, \"%Y%m\"))\n",
    "final_table.set_index('CreationMonth', inplace=True)"
   ]
  },
  {
   "cell_type": "code",
   "execution_count": 20,
   "metadata": {
    "collapsed": false
   },
   "outputs": [
    {
     "data": {
      "image/png": "[encoded data removed]",
      "text/plain": [
       "<matplotlib.figure.Figure at 0x7fd688dede80>"
      ]
     },
     "metadata": {},
     "output_type": "display_data"
    }
   ],
   "source": [
    "# Plotting a bar chart to track the time series of the ratios\n",
    "ax = final_table['Ratio'].plot(kind='line', grid=False, figsize=(12,6), color='blue')"
   ]
  },
  {
   "cell_type": "markdown",
   "metadata": {},
   "source": [
    "# Conclusion"
   ]
  },
  {
   "cell_type": "markdown",
   "metadata": {},
   "source": [
    "It seems that deep learning questions was a high-growth trend since the start of DSSE and it looks like it is plateauing. There is no evidence to suggest that interest in deep learning is decreasing and so we maintain our previous idea of proposing that we create deep learning content."
   ]
  }
 ],
 "metadata": {
  "kernelspec": {
   "display_name": "Python 3",
   "language": "python",
   "name": "python3"
  },
  "language_info": {
   "codemirror_mode": {
    "name": "ipython",
    "version": 3
   },
   "file_extension": ".py",
   "mimetype": "text/x-python",
   "name": "python",
   "nbconvert_exporter": "python",
   "pygments_lexer": "ipython3",
   "version": "3.4.3"
  }
 },
 "nbformat": 4,
 "nbformat_minor": 2
}
