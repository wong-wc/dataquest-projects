{
 "cells": [
  {
   "cell_type": "markdown",
   "metadata": {
    "collapsed": true
   },
   "source": [
    "# Analyzing Startup Fundraising Deals from Crunchbase"
   ]
  },
  {
   "cell_type": "markdown",
   "metadata": {},
   "source": [
    "# Introduction"
   ]
  },
  {
   "cell_type": "markdown",
   "metadata": {},
   "source": [
    "Every year, thousands of startup companies raise financing from investors. Each time a startup raises money, we refer to the event as a fundraising round. Crunchbase is a website that crowdsources information on the fundraising rounds of many startups. Throughout this project, we'll practice working with different memory constraints."
   ]
  },
  {
   "cell_type": "markdown",
   "metadata": {},
   "source": [
    "# Working with 10 MB of Memory"
   ]
  },
  {
   "cell_type": "markdown",
   "metadata": {},
   "source": [
    "Let's assume we only have 10 megabytes of available memory. While `crunchbase-investments.csv` consumes 10.3 megabytes of disk space, pandas often requires 4 to 6 times amount of space in memory as the file does on disk (especially when there's many string columns). Let's explore the data set in chunks to become familiar with what's contained in the data."
   ]
  },
  {
   "cell_type": "code",
   "execution_count": 1,
   "metadata": {},
   "outputs": [],
   "source": [
    "# Importing required libraries\n",
    "import pandas as pd\n",
    "import numpy as np\n",
    "import sqlite3"
   ]
  },
  {
   "cell_type": "code",
   "execution_count": 2,
   "metadata": {},
   "outputs": [],
   "source": [
    "# Dictionary to store each column's missing value counts\n",
    "missing_val_counts = {}\n",
    "# Dictionary to store each column's memory footprint\n",
    "memory_footprint = {}"
   ]
  },
  {
   "cell_type": "code",
   "execution_count": 3,
   "metadata": {},
   "outputs": [
    {
     "name": "stdout",
     "output_type": "stream",
     "text": [
      "<_io.TextIOWrapper name='crunchbase-investments.csv' mode='r' encoding='UTF-8'>\n"
     ]
    }
   ],
   "source": [
    "# Checking encoding of the csv file\n",
    "with open(\"crunchbase-investments.csv\") as f:\n",
    "    print(f)"
   ]
  },
  {
   "cell_type": "code",
   "execution_count": 4,
   "metadata": {},
   "outputs": [],
   "source": [
    "# Reading in chunks of 5,000 rows as the data set contains over 50,000 rows\n",
    "chunk_iter = pd.read_csv(\"crunchbase-investments.csv\", chunksize=5000, encoding = \"ISO-8859-1\")\n",
    "for chunk in chunk_iter:\n",
    "    for col in chunk.columns:\n",
    "        col_missing_value_counts = chunk[col].isnull().sum()\n",
    "        col_memory_footprint = chunk[col].memory_usage(deep=True)\n",
    "        if col in missing_val_counts:\n",
    "            missing_val_counts[col] += col_missing_value_counts\n",
    "        else:\n",
    "            missing_val_counts[col] = col_missing_value_counts\n",
    "        if col in memory_footprint:\n",
    "            memory_footprint[col] += col_memory_footprint\n",
    "        else:\n",
    "            memory_footprint[col] = col_memory_footprint"
   ]
  },
  {
   "cell_type": "code",
   "execution_count": 5,
   "metadata": {},
   "outputs": [
    {
     "data": {
      "text/plain": [
       "company_permalink             1\n",
       "company_name                  1\n",
       "company_country_code          1\n",
       "company_region                1\n",
       "investor_permalink            2\n",
       "investor_name                 2\n",
       "investor_region               2\n",
       "funded_year                   3\n",
       "funded_quarter                3\n",
       "funded_month                  3\n",
       "funded_at                     3\n",
       "funding_round_type            3\n",
       "company_state_code          492\n",
       "company_city                533\n",
       "company_category_code       643\n",
       "raised_amount_usd          3599\n",
       "investor_country_code     12001\n",
       "investor_city             12480\n",
       "investor_state_code       16809\n",
       "investor_category_code    50427\n",
       "dtype: int64"
      ]
     },
     "execution_count": 5,
     "metadata": {},
     "output_type": "execute_result"
    }
   ],
   "source": [
    "missing_val_counts_series = pd.Series(missing_val_counts).sort_values(ascending=True)\n",
    "missing_val_counts_series"
   ]
  },
  {
   "cell_type": "code",
   "execution_count": 6,
   "metadata": {},
   "outputs": [
    {
     "data": {
      "text/plain": [
       "raised_amount_usd          424408\n",
       "funded_year                424408\n",
       "investor_category_code     623872\n",
       "investor_state_code       2478055\n",
       "investor_country_code     2648740\n",
       "investor_city             2886531\n",
       "company_state_code        3107499\n",
       "company_country_code      3173624\n",
       "funded_month              3385032\n",
       "funded_quarter            3385032\n",
       "investor_region           3397729\n",
       "funding_round_type        3412155\n",
       "company_region            3413033\n",
       "company_category_code     3422552\n",
       "company_city              3507374\n",
       "funded_at                 3543633\n",
       "company_name              3592774\n",
       "investor_name             3917114\n",
       "company_permalink         4059236\n",
       "investor_permalink        4981996\n",
       "dtype: int64"
      ]
     },
     "execution_count": 6,
     "metadata": {},
     "output_type": "execute_result"
    }
   ],
   "source": [
    "memory_footprint_series = pd.Series(memory_footprint).sort_values(ascending=True)\n",
    "memory_footprint_series"
   ]
  },
  {
   "cell_type": "code",
   "execution_count": 7,
   "metadata": {},
   "outputs": [
    {
     "data": {
      "text/plain": [
       "57.015225410461426"
      ]
     },
     "execution_count": 7,
     "metadata": {},
     "output_type": "execute_result"
    }
   ],
   "source": [
    "total_mem_mb = memory_footprint_series.sum() / 2**20\n",
    "total_mem_mb"
   ]
  },
  {
   "cell_type": "markdown",
   "metadata": {},
   "source": [
    "All the chunks combined would consume around 57 MB of memory."
   ]
  },
  {
   "cell_type": "markdown",
   "metadata": {},
   "source": [
    "Taking look at the columns, not all columns would be useful for analysis. Hence, only the following columns would be retained and the others would be dropped."
   ]
  },
  {
   "cell_type": "code",
   "execution_count": 8,
   "metadata": {},
   "outputs": [],
   "source": [
    "# Drop columns representing URLs or containing way too many missing values\n",
    "drop_cols = [\"investor_permalink\", \"company_permalink\", \"investor_category_code\"]\n",
    "useful_cols = chunk.columns.drop(drop_cols)"
   ]
  },
  {
   "cell_type": "code",
   "execution_count": 9,
   "metadata": {},
   "outputs": [
    {
     "data": {
      "text/plain": [
       "Index(['company_name', 'company_category_code', 'company_country_code',\n",
       "       'company_state_code', 'company_region', 'company_city', 'investor_name',\n",
       "       'investor_country_code', 'investor_state_code', 'investor_region',\n",
       "       'investor_city', 'funding_round_type', 'funded_at', 'funded_month',\n",
       "       'funded_quarter', 'funded_year', 'raised_amount_usd'],\n",
       "      dtype='object')"
      ]
     },
     "execution_count": 9,
     "metadata": {},
     "output_type": "execute_result"
    }
   ],
   "source": [
    "useful_cols"
   ]
  },
  {
   "cell_type": "markdown",
   "metadata": {},
   "source": [
    "# Selecting Data Types"
   ]
  },
  {
   "cell_type": "code",
   "execution_count": 10,
   "metadata": {},
   "outputs": [],
   "source": [
    "chunk_iter = pd.read_csv(\"crunchbase-investments.csv\", chunksize = 5000, encoding = \"ISO-8859-1\",\n",
    "                        usecols = useful_cols)"
   ]
  },
  {
   "cell_type": "code",
   "execution_count": 11,
   "metadata": {},
   "outputs": [],
   "source": [
    "# Checking the datatypes for each column\n",
    "col_types = {}\n",
    "\n",
    "for chunk in chunk_iter:\n",
    "    for col in chunk.columns:\n",
    "        if col not in col_types:\n",
    "            col_types[col] = [str(chunk.dtypes[col])]\n",
    "        else:\n",
    "            col_types[col].append(str(chunk.dtypes[col]))"
   ]
  },
  {
   "cell_type": "code",
   "execution_count": 12,
   "metadata": {},
   "outputs": [
    {
     "data": {
      "text/plain": [
       "{'company_name': {'object'},\n",
       " 'company_category_code': {'object'},\n",
       " 'company_country_code': {'object'},\n",
       " 'company_state_code': {'object'},\n",
       " 'company_region': {'object'},\n",
       " 'company_city': {'object'},\n",
       " 'investor_name': {'object'},\n",
       " 'investor_country_code': {'float64', 'object'},\n",
       " 'investor_state_code': {'float64', 'object'},\n",
       " 'investor_region': {'object'},\n",
       " 'investor_city': {'float64', 'object'},\n",
       " 'funding_round_type': {'object'},\n",
       " 'funded_at': {'object'},\n",
       " 'funded_month': {'object'},\n",
       " 'funded_quarter': {'object'},\n",
       " 'funded_year': {'float64', 'int64'},\n",
       " 'raised_amount_usd': {'float64'}}"
      ]
     },
     "execution_count": 12,
     "metadata": {},
     "output_type": "execute_result"
    }
   ],
   "source": [
    "uniq_col_types = {}\n",
    "for k,v in col_types.items():\n",
    "    uniq_col_types[k] = set(col_types[k])\n",
    "uniq_col_types"
   ]
  },
  {
   "cell_type": "code",
   "execution_count": 13,
   "metadata": {},
   "outputs": [
    {
     "data": {
      "text/html": [
       "<div>\n",
       "<style scoped>\n",
       "    .dataframe tbody tr th:only-of-type {\n",
       "        vertical-align: middle;\n",
       "    }\n",
       "\n",
       "    .dataframe tbody tr th {\n",
       "        vertical-align: top;\n",
       "    }\n",
       "\n",
       "    .dataframe thead th {\n",
       "        text-align: right;\n",
       "    }\n",
       "</style>\n",
       "<table border=\"1\" class=\"dataframe\">\n",
       "  <thead>\n",
       "    <tr style=\"text-align: right;\">\n",
       "      <th></th>\n",
       "      <th>company_name</th>\n",
       "      <th>company_category_code</th>\n",
       "      <th>company_country_code</th>\n",
       "      <th>company_state_code</th>\n",
       "      <th>company_region</th>\n",
       "      <th>company_city</th>\n",
       "      <th>investor_name</th>\n",
       "      <th>investor_country_code</th>\n",
       "      <th>investor_state_code</th>\n",
       "      <th>investor_region</th>\n",
       "      <th>investor_city</th>\n",
       "      <th>funding_round_type</th>\n",
       "      <th>funded_at</th>\n",
       "      <th>funded_month</th>\n",
       "      <th>funded_quarter</th>\n",
       "      <th>funded_year</th>\n",
       "      <th>raised_amount_usd</th>\n",
       "    </tr>\n",
       "  </thead>\n",
       "  <tbody>\n",
       "    <tr>\n",
       "      <th>50000</th>\n",
       "      <td>NuORDER</td>\n",
       "      <td>fashion</td>\n",
       "      <td>USA</td>\n",
       "      <td>CA</td>\n",
       "      <td>Los Angeles</td>\n",
       "      <td>West Hollywood</td>\n",
       "      <td>Mortimer Singer</td>\n",
       "      <td>NaN</td>\n",
       "      <td>NaN</td>\n",
       "      <td>unknown</td>\n",
       "      <td>NaN</td>\n",
       "      <td>series-a</td>\n",
       "      <td>2012-10-01</td>\n",
       "      <td>2012-10</td>\n",
       "      <td>2012-Q4</td>\n",
       "      <td>2012</td>\n",
       "      <td>3060000.0</td>\n",
       "    </tr>\n",
       "    <tr>\n",
       "      <th>50001</th>\n",
       "      <td>ChaCha</td>\n",
       "      <td>advertising</td>\n",
       "      <td>USA</td>\n",
       "      <td>IN</td>\n",
       "      <td>Indianapolis</td>\n",
       "      <td>Carmel</td>\n",
       "      <td>Morton Meyerson</td>\n",
       "      <td>NaN</td>\n",
       "      <td>NaN</td>\n",
       "      <td>unknown</td>\n",
       "      <td>NaN</td>\n",
       "      <td>series-b</td>\n",
       "      <td>2007-10-01</td>\n",
       "      <td>2007-10</td>\n",
       "      <td>2007-Q4</td>\n",
       "      <td>2007</td>\n",
       "      <td>12000000.0</td>\n",
       "    </tr>\n",
       "    <tr>\n",
       "      <th>50002</th>\n",
       "      <td>Binfire</td>\n",
       "      <td>software</td>\n",
       "      <td>USA</td>\n",
       "      <td>FL</td>\n",
       "      <td>Bocat Raton</td>\n",
       "      <td>Bocat Raton</td>\n",
       "      <td>Moshe Ariel</td>\n",
       "      <td>NaN</td>\n",
       "      <td>NaN</td>\n",
       "      <td>unknown</td>\n",
       "      <td>NaN</td>\n",
       "      <td>angel</td>\n",
       "      <td>2008-04-18</td>\n",
       "      <td>2008-04</td>\n",
       "      <td>2008-Q2</td>\n",
       "      <td>2008</td>\n",
       "      <td>500000.0</td>\n",
       "    </tr>\n",
       "    <tr>\n",
       "      <th>50003</th>\n",
       "      <td>Binfire</td>\n",
       "      <td>software</td>\n",
       "      <td>USA</td>\n",
       "      <td>FL</td>\n",
       "      <td>Bocat Raton</td>\n",
       "      <td>Bocat Raton</td>\n",
       "      <td>Moshe Ariel</td>\n",
       "      <td>NaN</td>\n",
       "      <td>NaN</td>\n",
       "      <td>unknown</td>\n",
       "      <td>NaN</td>\n",
       "      <td>angel</td>\n",
       "      <td>2010-01-01</td>\n",
       "      <td>2010-01</td>\n",
       "      <td>2010-Q1</td>\n",
       "      <td>2010</td>\n",
       "      <td>750000.0</td>\n",
       "    </tr>\n",
       "    <tr>\n",
       "      <th>50004</th>\n",
       "      <td>Unified Color</td>\n",
       "      <td>software</td>\n",
       "      <td>USA</td>\n",
       "      <td>CA</td>\n",
       "      <td>SF Bay</td>\n",
       "      <td>South San Frnacisco</td>\n",
       "      <td>Mr. Andrew Oung</td>\n",
       "      <td>NaN</td>\n",
       "      <td>NaN</td>\n",
       "      <td>unknown</td>\n",
       "      <td>NaN</td>\n",
       "      <td>angel</td>\n",
       "      <td>2010-01-01</td>\n",
       "      <td>2010-01</td>\n",
       "      <td>2010-Q1</td>\n",
       "      <td>2010</td>\n",
       "      <td>NaN</td>\n",
       "    </tr>\n",
       "    <tr>\n",
       "      <th>...</th>\n",
       "      <td>...</td>\n",
       "      <td>...</td>\n",
       "      <td>...</td>\n",
       "      <td>...</td>\n",
       "      <td>...</td>\n",
       "      <td>...</td>\n",
       "      <td>...</td>\n",
       "      <td>...</td>\n",
       "      <td>...</td>\n",
       "      <td>...</td>\n",
       "      <td>...</td>\n",
       "      <td>...</td>\n",
       "      <td>...</td>\n",
       "      <td>...</td>\n",
       "      <td>...</td>\n",
       "      <td>...</td>\n",
       "      <td>...</td>\n",
       "    </tr>\n",
       "    <tr>\n",
       "      <th>52865</th>\n",
       "      <td>Garantia Data</td>\n",
       "      <td>enterprise</td>\n",
       "      <td>USA</td>\n",
       "      <td>CA</td>\n",
       "      <td>SF Bay</td>\n",
       "      <td>Santa Clara</td>\n",
       "      <td>Zohar Gilon</td>\n",
       "      <td>NaN</td>\n",
       "      <td>NaN</td>\n",
       "      <td>unknown</td>\n",
       "      <td>NaN</td>\n",
       "      <td>series-a</td>\n",
       "      <td>2012-08-08</td>\n",
       "      <td>2012-08</td>\n",
       "      <td>2012-Q3</td>\n",
       "      <td>2012</td>\n",
       "      <td>3800000.0</td>\n",
       "    </tr>\n",
       "    <tr>\n",
       "      <th>52866</th>\n",
       "      <td>DudaMobile</td>\n",
       "      <td>mobile</td>\n",
       "      <td>USA</td>\n",
       "      <td>CA</td>\n",
       "      <td>SF Bay</td>\n",
       "      <td>Palo Alto</td>\n",
       "      <td>Zohar Gilon</td>\n",
       "      <td>NaN</td>\n",
       "      <td>NaN</td>\n",
       "      <td>unknown</td>\n",
       "      <td>NaN</td>\n",
       "      <td>series-c+</td>\n",
       "      <td>2013-04-08</td>\n",
       "      <td>2013-04</td>\n",
       "      <td>2013-Q2</td>\n",
       "      <td>2013</td>\n",
       "      <td>10300000.0</td>\n",
       "    </tr>\n",
       "    <tr>\n",
       "      <th>52867</th>\n",
       "      <td>SiteBrains</td>\n",
       "      <td>software</td>\n",
       "      <td>USA</td>\n",
       "      <td>CA</td>\n",
       "      <td>SF Bay</td>\n",
       "      <td>San Francisco</td>\n",
       "      <td>zohar israel</td>\n",
       "      <td>NaN</td>\n",
       "      <td>NaN</td>\n",
       "      <td>unknown</td>\n",
       "      <td>NaN</td>\n",
       "      <td>angel</td>\n",
       "      <td>2010-08-01</td>\n",
       "      <td>2010-08</td>\n",
       "      <td>2010-Q3</td>\n",
       "      <td>2010</td>\n",
       "      <td>350000.0</td>\n",
       "    </tr>\n",
       "    <tr>\n",
       "      <th>52868</th>\n",
       "      <td>Comprehend Systems</td>\n",
       "      <td>enterprise</td>\n",
       "      <td>USA</td>\n",
       "      <td>CA</td>\n",
       "      <td>SF Bay</td>\n",
       "      <td>Palo Alto</td>\n",
       "      <td>Zorba Lieberman</td>\n",
       "      <td>NaN</td>\n",
       "      <td>NaN</td>\n",
       "      <td>unknown</td>\n",
       "      <td>NaN</td>\n",
       "      <td>series-a</td>\n",
       "      <td>2013-07-11</td>\n",
       "      <td>2013-07</td>\n",
       "      <td>2013-Q3</td>\n",
       "      <td>2013</td>\n",
       "      <td>8400000.0</td>\n",
       "    </tr>\n",
       "    <tr>\n",
       "      <th>52869</th>\n",
       "      <td>SmartThings</td>\n",
       "      <td>mobile</td>\n",
       "      <td>USA</td>\n",
       "      <td>DC</td>\n",
       "      <td>unknown</td>\n",
       "      <td>Minneapolis</td>\n",
       "      <td>Zorik Gordon</td>\n",
       "      <td>NaN</td>\n",
       "      <td>NaN</td>\n",
       "      <td>unknown</td>\n",
       "      <td>NaN</td>\n",
       "      <td>series-a</td>\n",
       "      <td>2012-12-04</td>\n",
       "      <td>2012-12</td>\n",
       "      <td>2012-Q4</td>\n",
       "      <td>2012</td>\n",
       "      <td>3000000.0</td>\n",
       "    </tr>\n",
       "  </tbody>\n",
       "</table>\n",
       "<p>2870 rows × 17 columns</p>\n",
       "</div>"
      ],
      "text/plain": [
       "             company_name company_category_code company_country_code  \\\n",
       "50000             NuORDER               fashion                  USA   \n",
       "50001              ChaCha           advertising                  USA   \n",
       "50002             Binfire              software                  USA   \n",
       "50003             Binfire              software                  USA   \n",
       "50004       Unified Color              software                  USA   \n",
       "...                   ...                   ...                  ...   \n",
       "52865       Garantia Data            enterprise                  USA   \n",
       "52866          DudaMobile                mobile                  USA   \n",
       "52867          SiteBrains              software                  USA   \n",
       "52868  Comprehend Systems            enterprise                  USA   \n",
       "52869         SmartThings                mobile                  USA   \n",
       "\n",
       "      company_state_code company_region         company_city    investor_name  \\\n",
       "50000                 CA    Los Angeles       West Hollywood  Mortimer Singer   \n",
       "50001                 IN   Indianapolis               Carmel  Morton Meyerson   \n",
       "50002                 FL    Bocat Raton          Bocat Raton      Moshe Ariel   \n",
       "50003                 FL    Bocat Raton          Bocat Raton      Moshe Ariel   \n",
       "50004                 CA         SF Bay  South San Frnacisco  Mr. Andrew Oung   \n",
       "...                  ...            ...                  ...              ...   \n",
       "52865                 CA         SF Bay          Santa Clara      Zohar Gilon   \n",
       "52866                 CA         SF Bay            Palo Alto      Zohar Gilon   \n",
       "52867                 CA         SF Bay        San Francisco     zohar israel   \n",
       "52868                 CA         SF Bay            Palo Alto  Zorba Lieberman   \n",
       "52869                 DC        unknown          Minneapolis     Zorik Gordon   \n",
       "\n",
       "       investor_country_code  investor_state_code investor_region  \\\n",
       "50000                    NaN                  NaN         unknown   \n",
       "50001                    NaN                  NaN         unknown   \n",
       "50002                    NaN                  NaN         unknown   \n",
       "50003                    NaN                  NaN         unknown   \n",
       "50004                    NaN                  NaN         unknown   \n",
       "...                      ...                  ...             ...   \n",
       "52865                    NaN                  NaN         unknown   \n",
       "52866                    NaN                  NaN         unknown   \n",
       "52867                    NaN                  NaN         unknown   \n",
       "52868                    NaN                  NaN         unknown   \n",
       "52869                    NaN                  NaN         unknown   \n",
       "\n",
       "       investor_city funding_round_type   funded_at funded_month  \\\n",
       "50000            NaN           series-a  2012-10-01      2012-10   \n",
       "50001            NaN           series-b  2007-10-01      2007-10   \n",
       "50002            NaN              angel  2008-04-18      2008-04   \n",
       "50003            NaN              angel  2010-01-01      2010-01   \n",
       "50004            NaN              angel  2010-01-01      2010-01   \n",
       "...              ...                ...         ...          ...   \n",
       "52865            NaN           series-a  2012-08-08      2012-08   \n",
       "52866            NaN          series-c+  2013-04-08      2013-04   \n",
       "52867            NaN              angel  2010-08-01      2010-08   \n",
       "52868            NaN           series-a  2013-07-11      2013-07   \n",
       "52869            NaN           series-a  2012-12-04      2012-12   \n",
       "\n",
       "      funded_quarter  funded_year  raised_amount_usd  \n",
       "50000        2012-Q4         2012          3060000.0  \n",
       "50001        2007-Q4         2007         12000000.0  \n",
       "50002        2008-Q2         2008           500000.0  \n",
       "50003        2010-Q1         2010           750000.0  \n",
       "50004        2010-Q1         2010                NaN  \n",
       "...              ...          ...                ...  \n",
       "52865        2012-Q3         2012          3800000.0  \n",
       "52866        2013-Q2         2013         10300000.0  \n",
       "52867        2010-Q3         2010           350000.0  \n",
       "52868        2013-Q3         2013          8400000.0  \n",
       "52869        2012-Q4         2012          3000000.0  \n",
       "\n",
       "[2870 rows x 17 columns]"
      ]
     },
     "execution_count": 13,
     "metadata": {},
     "output_type": "execute_result"
    }
   ],
   "source": [
    "chunk"
   ]
  },
  {
   "cell_type": "markdown",
   "metadata": {},
   "source": [
    "First, looking at the numeric columns, certain columns are not necessary. The `funded_at` provides a full information on the date, while columns like `funded_month`, `funded_quarter` and `funded_year` can be obtained from `funded_at`. These 3 columns can thus be dropped and the `funded_at` column can be parsed when reading using pandas as a date."
   ]
  },
  {
   "cell_type": "code",
   "execution_count": 14,
   "metadata": {},
   "outputs": [],
   "source": [
    "useful_cols = useful_cols.drop([\"funded_month\", \"funded_quarter\", \"funded_year\"])"
   ]
  },
  {
   "cell_type": "code",
   "execution_count": 15,
   "metadata": {},
   "outputs": [
    {
     "data": {
      "text/plain": [
       "Index(['company_name', 'company_category_code', 'company_country_code',\n",
       "       'company_state_code', 'company_region', 'company_city', 'investor_name',\n",
       "       'investor_country_code', 'investor_state_code', 'investor_region',\n",
       "       'investor_city', 'funding_round_type', 'funded_at',\n",
       "       'raised_amount_usd'],\n",
       "      dtype='object')"
      ]
     },
     "execution_count": 15,
     "metadata": {},
     "output_type": "execute_result"
    }
   ],
   "source": [
    "useful_cols"
   ]
  },
  {
   "cell_type": "code",
   "execution_count": 16,
   "metadata": {},
   "outputs": [],
   "source": [
    "# Looking at the unique value counts of the text columns\n",
    "text_cols = [\"company_name\", \"company_category_code\", \"company_country_code\", \"company_state_code\",\n",
    "             \"company_region\", \"company_city\", \"investor_name\", \"investor_country_code\",\n",
    "            \"investor_state_code\", \"investor_region\", \"investor_city\", \"funding_round_type\"]\n",
    "\n",
    "val_counts = {}\n",
    "chunk_iter = pd.read_csv(\"crunchbase-investments.csv\", chunksize = 5000, encoding = \"ISO-8859-1\",\n",
    "                        usecols = useful_cols, parse_dates = [\"funded_at\"])\n",
    "\n",
    "for chunk in chunk_iter:\n",
    "    for col in text_cols:\n",
    "        col_val_count = chunk[col].value_counts()\n",
    "        if col in val_counts:\n",
    "            val_counts[col].append(col_val_count)\n",
    "        else:\n",
    "            val_counts[col] = [col_val_count]\n",
    "            \n",
    "combined_val_counts = {}            \n",
    "for col in val_counts:\n",
    "    combined = pd.concat(val_counts[col])\n",
    "    combined_val_counts[col] = combined.groupby(combined.index).sum()"
   ]
  },
  {
   "cell_type": "code",
   "execution_count": 17,
   "metadata": {},
   "outputs": [
    {
     "data": {
      "text/plain": [
       "{'company_name': #waywire          5\n",
       " 0xdata            1\n",
       " 1-800-DENTIST     2\n",
       " 1000memories     10\n",
       " 100Plus           4\n",
       "                  ..\n",
       " yaM Labs          1\n",
       " ybuy              4\n",
       " zozi             38\n",
       " zulily            6\n",
       " zuuka!            3\n",
       " Name: company_name, Length: 11573, dtype: int64,\n",
       " 'company_category_code': 2/7/08                 1\n",
       " advertising         3200\n",
       " analytics           1863\n",
       " automotive           164\n",
       " biotech             4951\n",
       " cleantech           1948\n",
       " consulting           233\n",
       " design                55\n",
       " ecommerce           2168\n",
       " education            783\n",
       " enterprise          4489\n",
       " fashion              368\n",
       " finance              931\n",
       " games_video         1893\n",
       " government            10\n",
       " hardware            1537\n",
       " health               670\n",
       " hospitality          331\n",
       " legal                 87\n",
       " local                 22\n",
       " manufacturing        310\n",
       " medical             1315\n",
       " messaging            452\n",
       " mobile              4067\n",
       " music                287\n",
       " nanotech             216\n",
       " network_hosting     1075\n",
       " news                 363\n",
       " nonprofit            149\n",
       " other                481\n",
       " pets                  43\n",
       " photo_video          230\n",
       " public_relations     659\n",
       " real_estate          190\n",
       " search               632\n",
       " security             996\n",
       " semiconductor       1292\n",
       " social               920\n",
       " software            7243\n",
       " sports               121\n",
       " transportation       130\n",
       " travel               337\n",
       " web                 5015\n",
       " Name: company_category_code, dtype: int64,\n",
       " 'company_country_code': 2008-02        1\n",
       " USA        52868\n",
       " Name: company_country_code, dtype: int64,\n",
       " 'company_state_code': 2008-Q1        1\n",
       " AL            17\n",
       " AR            33\n",
       " AZ           261\n",
       " CA         27054\n",
       " CO           977\n",
       " CT           333\n",
       " DC           219\n",
       " DE            28\n",
       " FL           550\n",
       " GA           568\n",
       " HI            31\n",
       " IA            33\n",
       " ID            32\n",
       " IL           911\n",
       " IN           143\n",
       " KS            65\n",
       " KY            45\n",
       " LA            43\n",
       " MA          4889\n",
       " MD           600\n",
       " ME            94\n",
       " MI           265\n",
       " MN           205\n",
       " MO           182\n",
       " MS            33\n",
       " MT            19\n",
       " NC           596\n",
       " NE            39\n",
       " NH           159\n",
       " NJ           691\n",
       " NM            90\n",
       " NV           105\n",
       " NY          5890\n",
       " OH           439\n",
       " OK            29\n",
       " OR           466\n",
       " PA           918\n",
       " RI           191\n",
       " SC            97\n",
       " SD             3\n",
       " TN           176\n",
       " TX          1619\n",
       " UT           419\n",
       " VA           704\n",
       " VT            55\n",
       " WA          1888\n",
       " WI           163\n",
       " WV             9\n",
       " WY             1\n",
       " Name: company_state_code, dtype: int64,\n",
       " 'company_region': 2008              1\n",
       " Akron            11\n",
       " Alachua          19\n",
       " Albuquerque      83\n",
       " Allentown        20\n",
       "                ... \n",
       " Zeeland           2\n",
       " piscataway        9\n",
       " unknown         102\n",
       " w. babylon        2\n",
       " wilkes barre      1\n",
       " Name: company_region, Length: 546, dtype: int64,\n",
       " 'company_city': (Oct. 01, 2011 - Sep. 30, 2012)    2\n",
       " 10000000                           1\n",
       " ALLSTON                            2\n",
       " ATLANTA                            2\n",
       " AUSTIN                             2\n",
       "                                   ..\n",
       " sausalito                          1\n",
       " scottsdale                         2\n",
       " seattle                            1\n",
       " w. babylon                         2\n",
       " westminster                        1\n",
       " Name: company_city, Length: 1229, dtype: int64,\n",
       " 'investor_name': .406 Ventures           36\n",
       " 1-800-FLOWERS.COM        1\n",
       " 10 Others                1\n",
       " 10X Fund LP             11\n",
       " 10X Venture Partners     2\n",
       "                         ..\n",
       " ventureblue Capital      2\n",
       " venturecapital.de        1\n",
       " yet2Ventures             1\n",
       " zohar israel             1\n",
       " zulily                   1\n",
       " Name: investor_name, Length: 10465, dtype: int64,\n",
       " 'investor_country_code': ARE        7\n",
       " ARG       14\n",
       " AUS      163\n",
       " BEL       44\n",
       " BGR        4\n",
       "        ...  \n",
       " UKR        9\n",
       " USA    36574\n",
       " VNM        5\n",
       " WSM        4\n",
       " ZAF        5\n",
       " Name: investor_country_code, Length: 72, dtype: int64,\n",
       " 'investor_state_code': AL       67\n",
       " AR       14\n",
       " AZ       84\n",
       " CA    18405\n",
       " CO      729\n",
       " CT      577\n",
       " DC      323\n",
       " DE       20\n",
       " FL      242\n",
       " GA      274\n",
       " HI       13\n",
       " IA        9\n",
       " ID       40\n",
       " IL      992\n",
       " IN       88\n",
       " KS       13\n",
       " KY       54\n",
       " LA       15\n",
       " MA     3619\n",
       " MD      486\n",
       " ME       41\n",
       " MI      315\n",
       " MN      101\n",
       " MO      148\n",
       " MS        6\n",
       " MT        1\n",
       " NC      339\n",
       " ND        5\n",
       " NE       35\n",
       " NH       51\n",
       " NJ      456\n",
       " NM       41\n",
       " NV       38\n",
       " NY     4404\n",
       " OH      309\n",
       " OK       21\n",
       " OR       85\n",
       " PA      762\n",
       " RI       92\n",
       " SC       34\n",
       " SD        9\n",
       " TN      147\n",
       " TX      816\n",
       " UT      200\n",
       " VA      579\n",
       " VT       26\n",
       " WA      847\n",
       " WI       82\n",
       " WV        4\n",
       " WY        3\n",
       " Name: investor_state_code, dtype: int64,\n",
       " 'investor_region': Aalborg               1\n",
       " Abbotsford            1\n",
       " Aberdeen              2\n",
       " Abu Dhabi             2\n",
       " Accra                 1\n",
       "                   ...  \n",
       " mkalles               1\n",
       " portland metro        1\n",
       " regina                1\n",
       " unknown           12285\n",
       " wilkes barre          1\n",
       " Name: investor_region, Length: 585, dtype: int64,\n",
       " 'investor_city': (Oct. 01, 2011 - Sep. 30, 2012)    2\n",
       " ABERDEEN                           2\n",
       " ADELAIDE                           2\n",
       " ALBURY                             1\n",
       " AUSTIN                             1\n",
       "                                   ..\n",
       " cape town                          1\n",
       " herndon                            2\n",
       " kansas city                        1\n",
       " paris                              1\n",
       " portland metro                     1\n",
       " Name: investor_city, Length: 990, dtype: int64,\n",
       " 'funding_round_type': angel              8989\n",
       " crowdfunding          5\n",
       " other               964\n",
       " post-ipo             33\n",
       " private-equity      357\n",
       " series-a          13938\n",
       " series-b           8794\n",
       " series-c+         10870\n",
       " venture            8917\n",
       " Name: funding_round_type, dtype: int64}"
      ]
     },
     "execution_count": 17,
     "metadata": {},
     "output_type": "execute_result"
    }
   ],
   "source": [
    "combined_val_counts"
   ]
  },
  {
   "cell_type": "code",
   "execution_count": 18,
   "metadata": {},
   "outputs": [],
   "source": [
    "# Dictionary to store the number of unique values each text column has,\n",
    "# where key: column name, value: number of unique values\n",
    "unique_val_counts = {}\n",
    "for col in combined_val_counts:\n",
    "    unique_val_counts[col] = len(combined_val_counts[col])"
   ]
  },
  {
   "cell_type": "code",
   "execution_count": 19,
   "metadata": {
    "scrolled": true
   },
   "outputs": [
    {
     "data": {
      "text/plain": [
       "{'company_name': 11573,\n",
       " 'company_category_code': 43,\n",
       " 'company_country_code': 2,\n",
       " 'company_state_code': 50,\n",
       " 'company_region': 546,\n",
       " 'company_city': 1229,\n",
       " 'investor_name': 10465,\n",
       " 'investor_country_code': 72,\n",
       " 'investor_state_code': 50,\n",
       " 'investor_region': 585,\n",
       " 'investor_city': 990,\n",
       " 'funding_round_type': 9}"
      ]
     },
     "execution_count": 19,
     "metadata": {},
     "output_type": "execute_result"
    }
   ],
   "source": [
    "unique_val_counts"
   ]
  },
  {
   "cell_type": "markdown",
   "metadata": {},
   "source": [
    "Looking at the above unique value counts, the `funding_round_type` is ideal for conversion to category dtype. Taking a look closer at the `company_country_code` column, it seems like all the companies in this dataset relate to US companies. Notably, there appears to be an incorrect row, where the `company_country_code` consists of a date instead. We will leave it as such and do the dropping of this incorrect row in SQLite instead."
   ]
  },
  {
   "cell_type": "markdown",
   "metadata": {},
   "source": [
    "# Loading into SQLite"
   ]
  },
  {
   "cell_type": "markdown",
   "metadata": {},
   "source": [
    "Now that we are in good shape to start exploring and analyzing the data. Next step is to load the dataset in chunks into a SQLite database so we can query the full data set."
   ]
  },
  {
   "cell_type": "code",
   "execution_count": 20,
   "metadata": {},
   "outputs": [],
   "source": [
    "chunk_iter = pd.read_csv(\"crunchbase-investments.csv\", chunksize = 5000, encoding = \"ISO-8859-1\",\n",
    "                        usecols = useful_cols, parse_dates = [\"funded_at\"], dtype={\"funding_round_type\":\"category\"})"
   ]
  },
  {
   "cell_type": "code",
   "execution_count": 21,
   "metadata": {},
   "outputs": [],
   "source": [
    "# Setting up connection to the sqlite database\n",
    "conn = sqlite3.connect(\"crunchbase.db\")\n",
    "for chunk in chunk_iter:\n",
    "    chunk.to_sql(\"crunchbase_investments\", conn, if_exists=\"append\", index=False)"
   ]
  }
 ],
 "metadata": {
  "anaconda-cloud": {},
  "kernelspec": {
   "display_name": "Python 3",
   "language": "python",
   "name": "python3"
  },
  "language_info": {
   "codemirror_mode": {
    "name": "ipython",
    "version": 3
   },
   "file_extension": ".py",
   "mimetype": "text/x-python",
   "name": "python",
   "nbconvert_exporter": "python",
   "pygments_lexer": "ipython3",
   "version": "3.8.2"
  }
 },
 "nbformat": 4,
 "nbformat_minor": 2
}
