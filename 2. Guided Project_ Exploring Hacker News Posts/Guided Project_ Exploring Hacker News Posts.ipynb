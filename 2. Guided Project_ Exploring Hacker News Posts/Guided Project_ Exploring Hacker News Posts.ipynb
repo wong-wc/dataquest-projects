{
 "cells": [
  {
   "cell_type": "markdown",
   "metadata": {
    "collapsed": true
   },
   "source": [
    "# Exploring Hacker News Posts\n",
    "\n",
    "This project aims to explore the posts from the popular Hacker News technology site in a bid to gain greater insights about the type of posts that are made by the users on Hacker News. The data set used in this project is obtained from [Kaggle](https://www.kaggle.com/hacker-news/hacker-news-posts), where the accompanying description of the dataset, including the column details, can be found. The original data set consists of about 300,000 data points (rows) which has been trimmed down further to about 20,000 by removing submissions without comments and then doing a randomly sampling further."
   ]
  },
  {
   "cell_type": "code",
   "execution_count": 1,
   "metadata": {
    "collapsed": true
   },
   "outputs": [],
   "source": [
    "# Importing libraries\n",
    "\n",
    "from csv import reader\n",
    "import datetime as dt\n",
    "import pytz"
   ]
  },
  {
   "cell_type": "markdown",
   "metadata": {},
   "source": [
    "## Exploring \"Ask HN\" and\"Show HN\" Posts"
   ]
  },
  {
   "cell_type": "markdown",
   "metadata": {},
   "source": [
    "## Average Number of Comments Per Post"
   ]
  },
  {
   "cell_type": "code",
   "execution_count": 2,
   "metadata": {
    "collapsed": false
   },
   "outputs": [
    {
     "name": "stdout",
     "output_type": "stream",
     "text": [
      "[['id', 'title', 'url', 'num_points', 'num_comments', 'author', 'created_at'], ['12224879', 'Interactive Dynamic Video', 'http://www.interactivedynamicvideo.com/', '386', '52', 'ne0phyte', '8/4/2016 11:52'], ['10975351', 'How to Use Open Source and Shut the Fuck Up at the Same Time', 'http://hueniverse.com/2016/01/26/how-to-use-open-source-and-shut-the-fuck-up-at-the-same-time/', '39', '10', 'josep2', '1/26/2016 19:30'], ['11964716', \"Florida DJs May Face Felony for April Fools' Water Joke\", 'http://www.thewire.com/entertainment/2013/04/florida-djs-april-fools-water-joke/63798/', '2', '1', 'vezycash', '6/23/2016 22:20'], ['11919867', 'Technology ventures: From Idea to Enterprise', 'https://www.amazon.com/Technology-Ventures-Enterprise-Thomas-Byers/dp/0073523429', '3', '1', 'hswarna', '6/17/2016 0:01']]\n"
     ]
    }
   ],
   "source": [
    "# Reading in the csv file into a list of lists: hn\n",
    "\n",
    "opened_file = open('hacker_news.csv')\n",
    "read_file = reader(opened_file)\n",
    "hn = list(read_file)\n",
    "print(hn[:5])"
   ]
  },
  {
   "cell_type": "code",
   "execution_count": 3,
   "metadata": {
    "collapsed": false
   },
   "outputs": [
    {
     "name": "stdout",
     "output_type": "stream",
     "text": [
      "['id', 'title', 'url', 'num_points', 'num_comments', 'author', 'created_at']\n",
      "\n",
      "\n",
      "[['12224879', 'Interactive Dynamic Video', 'http://www.interactivedynamicvideo.com/', '386', '52', 'ne0phyte', '8/4/2016 11:52'], ['10975351', 'How to Use Open Source and Shut the Fuck Up at the Same Time', 'http://hueniverse.com/2016/01/26/how-to-use-open-source-and-shut-the-fuck-up-at-the-same-time/', '39', '10', 'josep2', '1/26/2016 19:30'], ['11964716', \"Florida DJs May Face Felony for April Fools' Water Joke\", 'http://www.thewire.com/entertainment/2013/04/florida-djs-april-fools-water-joke/63798/', '2', '1', 'vezycash', '6/23/2016 22:20'], ['11919867', 'Technology ventures: From Idea to Enterprise', 'https://www.amazon.com/Technology-Ventures-Enterprise-Thomas-Byers/dp/0073523429', '3', '1', 'hswarna', '6/17/2016 0:01'], ['10301696', 'Note by Note: The Making of Steinway L1037 (2007)', 'http://www.nytimes.com/2007/11/07/movies/07stein.html?_r=0', '8', '2', 'walterbell', '9/30/2015 4:12']]\n"
     ]
    }
   ],
   "source": [
    "# Separating out the headers and the rest of the rows data\n",
    "\n",
    "headers = hn[0]\n",
    "hn = hn[1:]\n",
    "print(headers)\n",
    "print('\\n')\n",
    "print(hn[:5])"
   ]
  },
  {
   "cell_type": "code",
   "execution_count": 4,
   "metadata": {
    "collapsed": false
   },
   "outputs": [
    {
     "name": "stdout",
     "output_type": "stream",
     "text": [
      "1744\n",
      "1162\n",
      "17194\n"
     ]
    }
   ],
   "source": [
    "# Creating three empty lists to contain posts with\n",
    "# 'Ask HN', 'Show HN' and others\n",
    "\n",
    "ask_posts = []\n",
    "show_posts = []\n",
    "other_posts = []\n",
    "\n",
    "# Separating out the three different type of posts\n",
    "\n",
    "for row in hn:\n",
    "    title = row[1]\n",
    "    if title.lower().startswith('ask hn'):\n",
    "        ask_posts.append(row)\n",
    "    elif title.lower().startswith('show hn'):\n",
    "        show_posts.append(row)\n",
    "    else:\n",
    "        other_posts.append(row)\n",
    "\n",
    "# Printing out the number of 'Ask HN', 'Show HN' and other posts        \n",
    "print(len(ask_posts))     \n",
    "print(len(show_posts))\n",
    "print(len(other_posts))"
   ]
  },
  {
   "cell_type": "code",
   "execution_count": 5,
   "metadata": {
    "collapsed": false
   },
   "outputs": [
    {
     "name": "stdout",
     "output_type": "stream",
     "text": [
      "[['12296411', 'Ask HN: How to improve my personal website?', '', '2', '6', 'ahmedbaracat', '8/16/2016 9:55'], ['10610020', 'Ask HN: Am I the only one outraged by Twitter shutting down share counts?', '', '28', '29', 'tkfx', '11/22/2015 13:43'], ['11610310', 'Ask HN: Aby recent changes to CSS that broke mobile?', '', '1', '1', 'polskibus', '5/2/2016 10:14'], ['12210105', 'Ask HN: Looking for Employee #3 How do I do it?', '', '1', '3', 'sph130', '8/2/2016 14:20'], ['10394168', 'Ask HN: Someone offered to buy my browser extension from me. What now?', '', '28', '17', 'roykolak', '10/15/2015 16:38']]\n",
      "\n",
      "\n",
      "[['10627194', 'Show HN: Wio Link  ESP8266 Based Web of Things Hardware Development Platform', 'https://iot.seeed.cc', '26', '22', 'kfihihc', '11/25/2015 14:03'], ['10646440', 'Show HN: Something pointless I made', 'http://dn.ht/picklecat/', '747', '102', 'dhotson', '11/29/2015 22:46'], ['11590768', 'Show HN: Shanhu.io, a programming playground powered by e8vm', 'https://shanhu.io', '1', '1', 'h8liu', '4/28/2016 18:05'], ['12178806', 'Show HN: Webscope  Easy way for web developers to communicate with Clients', 'http://webscopeapp.com', '3', '3', 'fastbrick', '7/28/2016 7:11'], ['10872799', 'Show HN: GeoScreenshot  Easily test Geo-IP based web pages', 'https://www.geoscreenshot.com/', '1', '9', 'kpsychwave', '1/9/2016 20:45']]\n"
     ]
    }
   ],
   "source": [
    "# Printing out the first five rows of posts that start with\n",
    "# 'Ask HN' and 'Show HN'\n",
    "print(ask_posts[:5])\n",
    "print('\\n')\n",
    "print(show_posts[:5])"
   ]
  },
  {
   "cell_type": "code",
   "execution_count": 6,
   "metadata": {
    "collapsed": false
   },
   "outputs": [
    {
     "name": "stdout",
     "output_type": "stream",
     "text": [
      "Average Number of Comments per \"Ask HN\" post: 14.038417431192661\n",
      "Average Number of Comments per \"Show HN\" post: 10.31669535283993\n"
     ]
    }
   ],
   "source": [
    "# Determining whether 'Ask HN' or 'Show HN' posts\n",
    "# receive more comments on average\n",
    "\n",
    "total_ask_comments = 0\n",
    "for row in ask_posts:\n",
    "    comment = int(row[4])\n",
    "    total_ask_comments += comment\n",
    "avg_ask_comments = total_ask_comments / len(ask_posts)    \n",
    "\n",
    "total_show_comments = 0\n",
    "for row in show_posts:\n",
    "    comment = int(row[4])\n",
    "    total_show_comments += comment\n",
    "avg_show_comments = total_show_comments / len(show_posts) \n",
    "\n",
    "print('Average Number of Comments per \"Ask HN\" post: {}'.format(avg_ask_comments))\n",
    "print('Average Number of Comments per \"Show HN\" post: {}'.format(avg_show_comments))"
   ]
  },
  {
   "cell_type": "markdown",
   "metadata": {},
   "source": [
    "It appears that \"Ask HN\" posts receive a higher average number of comments per post as compared to \"Show HN\" posts, as seen from the calculated average above. \n",
    "\n",
    "**With \"Ask HN\" posts being more likely to receive comments, the focus of the remainining analysis will be on \"Ask HN\" posts.**"
   ]
  },
  {
   "cell_type": "markdown",
   "metadata": {},
   "source": [
    "## Average Number of Comments Per Ask Post by Hour"
   ]
  },
  {
   "cell_type": "code",
   "execution_count": 7,
   "metadata": {
    "collapsed": false
   },
   "outputs": [
    {
     "name": "stdout",
     "output_type": "stream",
     "text": [
      "[['8/16/2016 9:55', 6], ['11/22/2015 13:43', 29], ['5/2/2016 10:14', 1], ['8/2/2016 14:20', 3], ['10/15/2015 16:38', 17]]\n"
     ]
    }
   ],
   "source": [
    "# Creating an empty list of lists which would contain the creation time and\n",
    "# number of comments\n",
    "\n",
    "result_list = []\n",
    "\n",
    "# Extracting creation time and number of comments by iterating over the ask posts\n",
    "\n",
    "for row in ask_posts:\n",
    "    creation_time = row[6]\n",
    "    comment = int(row[4])\n",
    "    result_list.append([creation_time, comment])\n",
    "    \n",
    "# Checking first 5 rows\n",
    "print(result_list[:5])"
   ]
  },
  {
   "cell_type": "code",
   "execution_count": 8,
   "metadata": {
    "collapsed": true
   },
   "outputs": [],
   "source": [
    "# Creating two empty dictionaries which would serve as frequency tables\n",
    "counts_by_hour = {}\n",
    "comments_by_hour = {}\n",
    "\n",
    "# Looping over the result_list to obtain two frequency tables:\n",
    "# number of ask posts by hour and number of comments on ask posts by hour\n",
    "for row in result_list:\n",
    "    comment = row[1]\n",
    "    hour = row[0]\n",
    "    fmt_hour = dt.datetime.strptime(hour,'%m/%d/%Y %H:%M')\n",
    "    str_hour = fmt_hour.strftime('%H')\n",
    "    if str_hour not in counts_by_hour:\n",
    "        counts_by_hour[str_hour] = 1\n",
    "        comments_by_hour[str_hour] = comment\n",
    "    else:\n",
    "        counts_by_hour[str_hour] += 1\n",
    "        comments_by_hour[str_hour] += comment"
   ]
  },
  {
   "cell_type": "code",
   "execution_count": 9,
   "metadata": {
    "collapsed": false
   },
   "outputs": [
    {
     "name": "stdout",
     "output_type": "stream",
     "text": [
      "[['08', 10.25], ['13', 14.741176470588234], ['19', 10.8], ['01', 11.383333333333333], ['02', 23.810344827586206], ['00', 8.127272727272727], ['21', 16.009174311926607], ['03', 7.796296296296297], ['23', 7.985294117647059], ['05', 10.08695652173913], ['09', 5.5777777777777775], ['18', 13.20183486238532], ['22', 6.746478873239437], ['20', 21.525], ['11', 11.051724137931034], ['14', 13.233644859813085], ['06', 9.022727272727273], ['16', 16.796296296296298], ['17', 11.46], ['04', 7.170212765957447], ['07', 7.852941176470588], ['12', 9.41095890410959], ['15', 38.5948275862069], ['10', 13.440677966101696]]\n"
     ]
    }
   ],
   "source": [
    "# Creating an empty list to show the average number of\n",
    "# comments per ask post by hour\n",
    "\n",
    "avg_by_hour = []\n",
    "\n",
    "# Looping over the dictionaries to calculate out the average\n",
    "\n",
    "for hour in counts_by_hour:\n",
    "    avg_by_hour.append([hour, comments_by_hour[hour]/counts_by_hour[hour]])\n",
    "    \n",
    "print(avg_by_hour)    "
   ]
  },
  {
   "cell_type": "code",
   "execution_count": 10,
   "metadata": {
    "collapsed": false
   },
   "outputs": [
    {
     "name": "stdout",
     "output_type": "stream",
     "text": [
      "[[10.25, '08'], [14.741176470588234, '13'], [10.8, '19'], [11.383333333333333, '01'], [23.810344827586206, '02'], [8.127272727272727, '00'], [16.009174311926607, '21'], [7.796296296296297, '03'], [7.985294117647059, '23'], [10.08695652173913, '05'], [5.5777777777777775, '09'], [13.20183486238532, '18'], [6.746478873239437, '22'], [21.525, '20'], [11.051724137931034, '11'], [13.233644859813085, '14'], [9.022727272727273, '06'], [16.796296296296298, '16'], [11.46, '17'], [7.170212765957447, '04'], [7.852941176470588, '07'], [9.41095890410959, '12'], [38.5948275862069, '15'], [13.440677966101696, '10']]\n"
     ]
    }
   ],
   "source": [
    "# Creating a swapped column list of the avg_by_hour list\n",
    "\n",
    "swap_avg_by_hour = []\n",
    "for row in avg_by_hour:\n",
    "    swap_avg_by_hour.append([row[1], row[0]])\n",
    "    \n",
    "print(swap_avg_by_hour)"
   ]
  },
  {
   "cell_type": "code",
   "execution_count": 11,
   "metadata": {
    "collapsed": false
   },
   "outputs": [
    {
     "name": "stdout",
     "output_type": "stream",
     "text": [
      "Top 5 Hours for Ask Posts Comments\n",
      "15:00: 38.59 average comments per post\n",
      "02:00: 23.81 average comments per post\n",
      "20:00: 21.52 average comments per post\n",
      "16:00: 16.80 average comments per post\n",
      "21:00: 16.01 average comments per post\n"
     ]
    }
   ],
   "source": [
    "sorted_swap = sorted(swap_avg_by_hour, reverse = True)\n",
    "print('Top 5 Hours for Ask Posts Comments')\n",
    "for row in sorted_swap[:5]:\n",
    "    avg = row[0]\n",
    "    hour = row[1]\n",
    "    fmt_hour = dt.datetime.strptime(hour, '%H')\n",
    "    str_hour = fmt_hour.strftime('%H:%M')\n",
    "    template = '{}: {:.2f} average comments per post'\n",
    "    print(template.format(str_hour, avg))"
   ]
  },
  {
   "cell_type": "markdown",
   "metadata": {},
   "source": [
    "# Conclusion"
   ]
  },
  {
   "cell_type": "markdown",
   "metadata": {},
   "source": [
    "For a potential user who is keen to create a \"Ask HN\" post, it is recommended that the ask post be created during the hours of 15:00 or 3:00 PM (US/Eastern Time)."
   ]
  },
  {
   "cell_type": "code",
   "execution_count": 12,
   "metadata": {
    "collapsed": false
   },
   "outputs": [
    {
     "name": "stdout",
     "output_type": "stream",
     "text": [
      "2020-01-01 15:00:00-04:56\n"
     ]
    }
   ],
   "source": [
    "recommended = dt.datetime(2020,1,1,15, tzinfo=pytz.timezone('US/Eastern'))\n",
    "print(recommended)"
   ]
  },
  {
   "cell_type": "code",
   "execution_count": 13,
   "metadata": {
    "collapsed": false
   },
   "outputs": [
    {
     "name": "stdout",
     "output_type": "stream",
     "text": [
      "Asia/Singapore\n"
     ]
    }
   ],
   "source": [
    "print(' '.join(pytz.country_timezones('sg')))"
   ]
  },
  {
   "cell_type": "code",
   "execution_count": 14,
   "metadata": {
    "collapsed": false
   },
   "outputs": [
    {
     "name": "stdout",
     "output_type": "stream",
     "text": [
      "03:56\n"
     ]
    }
   ],
   "source": [
    "recommended_sg = recommended.astimezone(pytz.timezone('Asia/Singapore'))\n",
    "recommended_sg = recommended_sg.strftime('%H:%M')\n",
    "print(recommended_sg)"
   ]
  },
  {
   "cell_type": "markdown",
   "metadata": {},
   "source": [
    "Converting to Singapore Time GMT+8, the recommended hour is at 4:00 AM."
   ]
  }
 ],
 "metadata": {
  "kernelspec": {
   "display_name": "Python 3",
   "language": "python",
   "name": "python3"
  },
  "language_info": {
   "codemirror_mode": {
    "name": "ipython",
    "version": 3
   },
   "file_extension": ".py",
   "mimetype": "text/x-python",
   "name": "python",
   "nbconvert_exporter": "python",
   "pygments_lexer": "ipython3",
   "version": "3.4.3"
  }
 },
 "nbformat": 4,
 "nbformat_minor": 2
}
