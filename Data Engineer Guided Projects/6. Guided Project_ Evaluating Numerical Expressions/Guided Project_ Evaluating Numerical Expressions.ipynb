{
 "cells": [
  {
   "cell_type": "markdown",
   "metadata": {
    "collapsed": true
   },
   "source": [
    "# Evaluating Numerical Expressions with Stacks"
   ]
  },
  {
   "cell_type": "markdown",
   "metadata": {},
   "source": [
    "In this project, we would be using stacks to implement an algorithm that can evaluate numerical expressions, even complex ones. A function named `evaluate` would be used to evaluate expressions stored in a string. An implementation of a Linked List has been created beforehand and is contained within the `linked_list.py` file. The stack implementation will be based on the Linked List implementation."
   ]
  },
  {
   "cell_type": "code",
   "execution_count": 1,
   "metadata": {},
   "outputs": [],
   "source": [
    "from linked_list import LinkedList"
   ]
  },
  {
   "cell_type": "code",
   "execution_count": 2,
   "metadata": {},
   "outputs": [],
   "source": [
    "class Stack(LinkedList):\n",
    "    def push(self, data):\n",
    "        self.append(data)\n",
    "    def peek(self):\n",
    "        return self.tail.data\n",
    "    def pop(self):\n",
    "        ret = self.tail.data\n",
    "        if self.length == 1:\n",
    "            self.tail = self.head = None\n",
    "        else:\n",
    "            self.tail = self.tail.prev\n",
    "            self.tail.next = None\n",
    "        self.length -= 1\n",
    "        return ret"
   ]
  },
  {
   "cell_type": "markdown",
   "metadata": {},
   "source": [
    "# Infix and Postfix Notation"
   ]
  },
  {
   "cell_type": "markdown",
   "metadata": {},
   "source": [
    "A computer can easily evaluate an expression written in **postfix notation**, where the operands appear before the operator. For example, the infix notation for the expression is `1 + 2` which is converted to `1 2 +` in postfix notation. We can evaluate an expression in postfix notation using a stack. We read the expression from left to right and do the following:\n",
    "1. If we find a number, we push that number to the top of the stack.\n",
    "2. If we find an operator, we pop the top two elements of the stack, perform the operation, and then push back the result.\n",
    "\n",
    "It is noteworthy that when we perform the operation, the top element of the two popped would be the second operand and the bottom would be first operand. The operator must be applied in the correct order to the two popped operands from the stack in the second step.\n",
    "\n",
    "After processing the entire expression, there will be a single element on the stack. This value is the result of the operation."
   ]
  },
  {
   "cell_type": "markdown",
   "metadata": {},
   "source": [
    "# Tokenization"
   ]
  },
  {
   "cell_type": "markdown",
   "metadata": {},
   "source": [
    "Let's implement a function `evaluate_postfix` that would evaluate an expression in postfix notation which is in a form of a string. We will assume that the string passed in would have spaces between all elements of the expression. With this assumption, we can implement a `tokenize` function that would convert the expression which is a string to a list of strings of which the elements (tokens) are within this list."
   ]
  },
  {
   "cell_type": "code",
   "execution_count": 3,
   "metadata": {},
   "outputs": [],
   "source": [
    "# Tokenization function to transform an expression into a list of tokens\n",
    "def tokenize(string):\n",
    "    return string.split(\" \")"
   ]
  },
  {
   "cell_type": "code",
   "execution_count": 4,
   "metadata": {
    "scrolled": true
   },
   "outputs": [
    {
     "data": {
      "text/plain": [
       "['1', '2', '+']"
      ]
     },
     "execution_count": 4,
     "metadata": {},
     "output_type": "execute_result"
    }
   ],
   "source": [
    "# Testing out tokenize function\n",
    "tokenize(\"1 2 +\")"
   ]
  },
  {
   "cell_type": "markdown",
   "metadata": {},
   "source": [
    "# Processing an Operator"
   ]
  },
  {
   "cell_type": "code",
   "execution_count": 5,
   "metadata": {},
   "outputs": [],
   "source": [
    "# Function that processes the `-` token\n",
    "def process_minus(stack):\n",
    "    top = stack.pop()\n",
    "    second_to_top = stack.pop()\n",
    "    result = second_to_top - top\n",
    "    stack.push(result)"
   ]
  },
  {
   "cell_type": "code",
   "execution_count": 6,
   "metadata": {},
   "outputs": [],
   "source": [
    "# Function that processes the `+` token\n",
    "def process_plus(stack):\n",
    "    top = stack.pop()\n",
    "    second_to_top = stack.pop()\n",
    "    result = second_to_top + top\n",
    "    stack.push(result)"
   ]
  },
  {
   "cell_type": "code",
   "execution_count": 7,
   "metadata": {},
   "outputs": [],
   "source": [
    "# Function that processes the `*` token\n",
    "def process_times(stack):\n",
    "    top = stack.pop()\n",
    "    second_to_top = stack.pop()\n",
    "    result = second_to_top * top\n",
    "    stack.push(result)"
   ]
  },
  {
   "cell_type": "code",
   "execution_count": 8,
   "metadata": {},
   "outputs": [],
   "source": [
    "# Function that processes the `/` token\n",
    "def process_divide(stack):\n",
    "    top = stack.pop()\n",
    "    second_to_top = stack.pop()\n",
    "    result = second_to_top / top\n",
    "    stack.push(result)"
   ]
  },
  {
   "cell_type": "code",
   "execution_count": 9,
   "metadata": {},
   "outputs": [],
   "source": [
    "# Function that processes the `**` token\n",
    "def process_pow(stack):\n",
    "    top = stack.pop()\n",
    "    second_to_top = stack.pop()\n",
    "    result = second_to_top ** top\n",
    "    stack.push(result)"
   ]
  },
  {
   "cell_type": "markdown",
   "metadata": {},
   "source": [
    "# Evaluting Postfix Expressions"
   ]
  },
  {
   "cell_type": "code",
   "execution_count": 10,
   "metadata": {},
   "outputs": [],
   "source": [
    "# Implementing the function that can evaluate a postfix expression\n",
    "\n",
    "def evaluate_postfix(expression):\n",
    "    tokenized = tokenize(expression)\n",
    "    stack = Stack()\n",
    "    for token in tokenized:\n",
    "        if token == \"+\":\n",
    "            process_plus(stack)\n",
    "        elif token == \"-\":\n",
    "            process_minus(stack)\n",
    "        elif token == \"*\":\n",
    "            process_times(stack)\n",
    "        elif token == \"/\":\n",
    "            process_divide(stack)\n",
    "        elif token == \"**\":\n",
    "            process_pow(stack)\n",
    "        else:\n",
    "            stack.push(float(token))\n",
    "    return stack.peek()"
   ]
  },
  {
   "cell_type": "code",
   "execution_count": 11,
   "metadata": {},
   "outputs": [],
   "source": [
    "# Testing out the function\n",
    "expressions = [\n",
    "    \"4 6 -\",\n",
    "    \"4 1 2 9 3 / * + 5 - *\",\n",
    "    \"1 2 + 3 -\",\n",
    "    \"1 2 - 3 +\",\n",
    "    \"10 3 5 * 16 4 - / +\",\n",
    "    \"5 3 4 2 - ** *\",\n",
    "    \"12 2 4 + / 21 *\",\n",
    "    \"1 1 + 2 **\",\n",
    "    \"1 1 2 ** +\"\n",
    "]"
   ]
  },
  {
   "cell_type": "code",
   "execution_count": 12,
   "metadata": {},
   "outputs": [
    {
     "data": {
      "text/plain": [
       "[-2.0, 8.0, 0.0, 2.0, 11.25, 45.0, 42.0, 4.0, 2.0]"
      ]
     },
     "execution_count": 12,
     "metadata": {},
     "output_type": "execute_result"
    }
   ],
   "source": [
    "results = []\n",
    "for exp in expressions:\n",
    "    results.append(evaluate_postfix(exp))\n",
    "results"
   ]
  },
  {
   "cell_type": "markdown",
   "metadata": {},
   "source": [
    "Seems to work alright!"
   ]
  },
  {
   "cell_type": "markdown",
   "metadata": {},
   "source": [
    "# Operator Precedence in Infix Notation"
   ]
  },
  {
   "cell_type": "markdown",
   "metadata": {},
   "source": [
    "Now we can evaluate postfix expressions but most of the time, we are interested in evaluating expressions in infix notation. After all, it would be very annoying to have to write expressions in postfix notation in order to use our algorithm as implemented above. To convert out expression from infix to postfix notation, the Shunting-yard algorithm has to be implemented, which can be implemented using a stack data structure. In the Shunting-yard algorithm, we need to compare the precedence of the operators. We will use numbers to represent the operator precedence. The higher the precedence, the higher the number."
   ]
  },
  {
   "cell_type": "code",
   "execution_count": 13,
   "metadata": {},
   "outputs": [],
   "source": [
    "# Dictionary to store the operator precedence\n",
    "precedence = {\n",
    "    \"+\" : 1,\n",
    "    \"-\" : 1,\n",
    "    \"*\" : 2,\n",
    "    \"/\" : 2,\n",
    "    \"**\": 3,\n",
    "}"
   ]
  },
  {
   "cell_type": "code",
   "execution_count": 14,
   "metadata": {},
   "outputs": [
    {
     "data": {
      "text/plain": [
       "False"
      ]
     },
     "execution_count": 14,
     "metadata": {},
     "output_type": "execute_result"
    }
   ],
   "source": [
    "# test to see if precedence of `/` is smaller than `-`\n",
    "precedence[\"/\"] < precedence[\"-\"]"
   ]
  },
  {
   "cell_type": "markdown",
   "metadata": {},
   "source": [
    "# From Infix to Postfix"
   ]
  },
  {
   "cell_type": "markdown",
   "metadata": {},
   "source": [
    "The `infix_to_postfix` function, when given a string with an infix expressions, will output a string with that expression written in postfix notation. This function would implement the Shunting-yard algorithm."
   ]
  },
  {
   "cell_type": "markdown",
   "metadata": {},
   "source": [
    "## Handling Opening Parenthesis"
   ]
  },
  {
   "cell_type": "code",
   "execution_count": 15,
   "metadata": {},
   "outputs": [],
   "source": [
    "# Process opening parenthesis\n",
    "def process_opening_parenthesis(stack):\n",
    "    stack.push(\"(\")"
   ]
  },
  {
   "cell_type": "markdown",
   "metadata": {},
   "source": [
    "## Handling Closing Parenthesis"
   ]
  },
  {
   "cell_type": "code",
   "execution_count": 16,
   "metadata": {},
   "outputs": [],
   "source": [
    "# Process closing parenthesis\n",
    "def process_closing_parenthesis(stack, postfix):\n",
    "    while stack.peek() != \"(\":\n",
    "        postfix.append(stack.pop())\n",
    "    stack.pop()"
   ]
  },
  {
   "cell_type": "markdown",
   "metadata": {},
   "source": [
    "## Handling Operators"
   ]
  },
  {
   "cell_type": "code",
   "execution_count": 17,
   "metadata": {},
   "outputs": [],
   "source": [
    "# Process operators\n",
    "def process_operator(stack, postfix, operator):\n",
    "    while len(stack) > 0 and stack.peek() in precedence and precedence[stack.peek()] >= precedence[operator]:\n",
    "        postfix.append(stack.pop())\n",
    "    stack.push(operator)"
   ]
  },
  {
   "cell_type": "markdown",
   "metadata": {},
   "source": [
    "## Handling Numbers"
   ]
  },
  {
   "cell_type": "code",
   "execution_count": 18,
   "metadata": {},
   "outputs": [],
   "source": [
    "# Process numbers\n",
    "def process_number(postfix, number):\n",
    "    postfix.append(number)"
   ]
  },
  {
   "cell_type": "markdown",
   "metadata": {},
   "source": [
    "## Putting it all together"
   ]
  },
  {
   "cell_type": "markdown",
   "metadata": {},
   "source": [
    "We now have all what we need to implement the `infix_to_postfix` function that uses the shunting-yard algorithm. This function will work as follows:\n",
    "\n",
    "1. We start by splitting the expression into tokens using the tokenize() function.\n",
    "2. We initialize an empty stack.\n",
    "3. We initialize an empty postfix token list.\n",
    "4. Iterate over all tokens, and for each, do the following:\n",
    "    * If the token is \"(\", we call the process_opening_parenthesis() function.\n",
    "    * If the token is \")\", we call the process_closing_parenthesis() function.\n",
    "    * If the token is an operator, we call the process_operator() function.\n",
    "    * Otherwise, the token is a number, and we call the process_number() function.\n",
    "5. After processing all tokens, we use a while loop to pop the remaining stack element into the postfix token list.\n",
    "6. Use the str.join() method to convert the postfix token list into a string."
   ]
  },
  {
   "cell_type": "code",
   "execution_count": 19,
   "metadata": {},
   "outputs": [],
   "source": [
    "# Implementing the function to convert infix to postfix expressions\n",
    "def infix_to_postfix(expression):\n",
    "    tokens = tokenize(expression)\n",
    "    stack = Stack()\n",
    "    postfix = []\n",
    "    for token in tokens:\n",
    "        if token == \"(\":\n",
    "            process_opening_parenthesis(stack)\n",
    "        elif token == \")\":\n",
    "            process_closing_parenthesis(stack, postfix)\n",
    "        elif token in (\"+\", \"-\", \"/\", \"*\", \"**\"):\n",
    "            process_operator(stack, postfix, token)\n",
    "        else:\n",
    "            process_number(postfix, token)\n",
    "    while len(stack) > 0:\n",
    "        postfix.append(stack.pop())\n",
    "    return \" \".join(postfix)"
   ]
  },
  {
   "cell_type": "markdown",
   "metadata": {},
   "source": [
    "With that, we can combine the previous `evaluate_postfix` together with the `infix_to_postfix` functions to put together an `evaluate` function that can return the value of an expression in infix notation."
   ]
  },
  {
   "cell_type": "code",
   "execution_count": 20,
   "metadata": {},
   "outputs": [],
   "source": [
    "# Putting all together for the evaluate function to evaluate an infix expression\n",
    "def evaluate(expression):\n",
    "    postfix_expression = infix_to_postfix(expression)\n",
    "    result = evaluate_postfix(postfix_expression)\n",
    "    return result"
   ]
  },
  {
   "cell_type": "code",
   "execution_count": 21,
   "metadata": {},
   "outputs": [],
   "source": [
    "# Testing out\n",
    "expressions = [\n",
    "    \"1 + 1\",\n",
    "    \"1 * ( 2 - ( 1 + 1 ) )\",\n",
    "    \"4 * ( 1 + 2 * ( 9 / 3 ) - 5 )\",\n",
    "    \"10 + 3 * 5 / ( 16 - 4 * 1 )\",\n",
    "    \"2 * 2 * 2 * 2 * 2 * 2 * 2 * 2\",\n",
    "    \"2 ** 2 ** 2 ** 2 ** 2\",\n",
    "    \"( 1 - 2 ) / ( 3 - 5 )\",\n",
    "    \"9 / 8 * 8\",\n",
    "    \"64 / ( 8 * 8 )\",\n",
    "]\n",
    "\n",
    "results = [evaluate(exp) for exp in expressions]"
   ]
  },
  {
   "cell_type": "code",
   "execution_count": 22,
   "metadata": {},
   "outputs": [
    {
     "data": {
      "text/plain": [
       "[2.0, 0.0, 8.0, 11.25, 256.0, 65536.0, 0.5, 9.0, 1.0]"
      ]
     },
     "execution_count": 22,
     "metadata": {},
     "output_type": "execute_result"
    }
   ],
   "source": [
    "results"
   ]
  },
  {
   "cell_type": "markdown",
   "metadata": {},
   "source": [
    "All is working fine! Our implementation to evaluate numerical expressions is done."
   ]
  }
 ],
 "metadata": {
  "kernelspec": {
   "display_name": "Python 3",
   "language": "python",
   "name": "python3"
  },
  "language_info": {
   "codemirror_mode": {
    "name": "ipython",
    "version": 3
   },
   "file_extension": ".py",
   "mimetype": "text/x-python",
   "name": "python",
   "nbconvert_exporter": "python",
   "pygments_lexer": "ipython3",
   "version": "3.8.2"
  }
 },
 "nbformat": 4,
 "nbformat_minor": 1
}
