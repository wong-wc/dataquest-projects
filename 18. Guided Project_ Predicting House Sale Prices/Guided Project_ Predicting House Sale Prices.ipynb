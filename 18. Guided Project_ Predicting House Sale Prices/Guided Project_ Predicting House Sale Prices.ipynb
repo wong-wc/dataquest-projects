{
 "cells": [
  {
   "cell_type": "markdown",
   "metadata": {
    "collapsed": true
   },
   "source": [
    "# Predicting House Sale Prices"
   ]
  },
  {
   "cell_type": "markdown",
   "metadata": {},
   "source": [
    "In this project, we would be setting up a pipeline of functions that allow us to quickly iterate on different models. The dataset to be used in this project would be the housing data for the city of Ames, Iowa, United States from 2006 to 2010. The dataset is available for download [here](http://www.amstat.org/publications/jse/v19n3/decock/AmesHousing.txt), along with the accompanying data documentation that contains information on the different columns in the dataset [here](https://s3.amazonaws.com/dq-content/307/data_description.txt).\n",
    "The pipeline of functions would look something like this:\n",
    "![Image](https://s3.amazonaws.com/dq-content/240/pipeline.svg)"
   ]
  },
  {
   "cell_type": "markdown",
   "metadata": {},
   "source": [
    "# Introduction"
   ]
  },
  {
   "cell_type": "code",
   "execution_count": 1,
   "metadata": {
    "collapsed": true
   },
   "outputs": [],
   "source": [
    "# Importing the relevant libraries that are to be used\n",
    "import pandas as pd\n",
    "import numpy as np\n",
    "import matplotlib.pyplot as plt\n",
    "import seaborn as sns\n",
    "from sklearn.linear_model import LinearRegression\n",
    "from sklearn.model_selection import KFold\n",
    "from sklearn.metrics import mean_squared_error\n",
    "\n",
    "%matplotlib inline"
   ]
  },
  {
   "cell_type": "code",
   "execution_count": 2,
   "metadata": {
    "collapsed": true
   },
   "outputs": [],
   "source": [
    "# Reading the dataset into a dataframe\n",
    "data = pd.read_csv('AmesHousing.tsv', sep='\\t')"
   ]
  },
  {
   "cell_type": "code",
   "execution_count": 3,
   "metadata": {
    "collapsed": false
   },
   "outputs": [
    {
     "data": {
      "text/html": [
       "<div>\n",
       "<style scoped>\n",
       "    .dataframe tbody tr th:only-of-type {\n",
       "        vertical-align: middle;\n",
       "    }\n",
       "\n",
       "    .dataframe tbody tr th {\n",
       "        vertical-align: top;\n",
       "    }\n",
       "\n",
       "    .dataframe thead th {\n",
       "        text-align: right;\n",
       "    }\n",
       "</style>\n",
       "<table border=\"1\" class=\"dataframe\">\n",
       "  <thead>\n",
       "    <tr style=\"text-align: right;\">\n",
       "      <th></th>\n",
       "      <th>Order</th>\n",
       "      <th>PID</th>\n",
       "      <th>MS SubClass</th>\n",
       "      <th>MS Zoning</th>\n",
       "      <th>Lot Frontage</th>\n",
       "      <th>Lot Area</th>\n",
       "      <th>Street</th>\n",
       "      <th>Alley</th>\n",
       "      <th>Lot Shape</th>\n",
       "      <th>Land Contour</th>\n",
       "      <th>...</th>\n",
       "      <th>Pool Area</th>\n",
       "      <th>Pool QC</th>\n",
       "      <th>Fence</th>\n",
       "      <th>Misc Feature</th>\n",
       "      <th>Misc Val</th>\n",
       "      <th>Mo Sold</th>\n",
       "      <th>Yr Sold</th>\n",
       "      <th>Sale Type</th>\n",
       "      <th>Sale Condition</th>\n",
       "      <th>SalePrice</th>\n",
       "    </tr>\n",
       "  </thead>\n",
       "  <tbody>\n",
       "    <tr>\n",
       "      <th>0</th>\n",
       "      <td>1</td>\n",
       "      <td>526301100</td>\n",
       "      <td>20</td>\n",
       "      <td>RL</td>\n",
       "      <td>141.0</td>\n",
       "      <td>31770</td>\n",
       "      <td>Pave</td>\n",
       "      <td>NaN</td>\n",
       "      <td>IR1</td>\n",
       "      <td>Lvl</td>\n",
       "      <td>...</td>\n",
       "      <td>0</td>\n",
       "      <td>NaN</td>\n",
       "      <td>NaN</td>\n",
       "      <td>NaN</td>\n",
       "      <td>0</td>\n",
       "      <td>5</td>\n",
       "      <td>2010</td>\n",
       "      <td>WD</td>\n",
       "      <td>Normal</td>\n",
       "      <td>215000</td>\n",
       "    </tr>\n",
       "    <tr>\n",
       "      <th>1</th>\n",
       "      <td>2</td>\n",
       "      <td>526350040</td>\n",
       "      <td>20</td>\n",
       "      <td>RH</td>\n",
       "      <td>80.0</td>\n",
       "      <td>11622</td>\n",
       "      <td>Pave</td>\n",
       "      <td>NaN</td>\n",
       "      <td>Reg</td>\n",
       "      <td>Lvl</td>\n",
       "      <td>...</td>\n",
       "      <td>0</td>\n",
       "      <td>NaN</td>\n",
       "      <td>MnPrv</td>\n",
       "      <td>NaN</td>\n",
       "      <td>0</td>\n",
       "      <td>6</td>\n",
       "      <td>2010</td>\n",
       "      <td>WD</td>\n",
       "      <td>Normal</td>\n",
       "      <td>105000</td>\n",
       "    </tr>\n",
       "    <tr>\n",
       "      <th>2</th>\n",
       "      <td>3</td>\n",
       "      <td>526351010</td>\n",
       "      <td>20</td>\n",
       "      <td>RL</td>\n",
       "      <td>81.0</td>\n",
       "      <td>14267</td>\n",
       "      <td>Pave</td>\n",
       "      <td>NaN</td>\n",
       "      <td>IR1</td>\n",
       "      <td>Lvl</td>\n",
       "      <td>...</td>\n",
       "      <td>0</td>\n",
       "      <td>NaN</td>\n",
       "      <td>NaN</td>\n",
       "      <td>Gar2</td>\n",
       "      <td>12500</td>\n",
       "      <td>6</td>\n",
       "      <td>2010</td>\n",
       "      <td>WD</td>\n",
       "      <td>Normal</td>\n",
       "      <td>172000</td>\n",
       "    </tr>\n",
       "    <tr>\n",
       "      <th>3</th>\n",
       "      <td>4</td>\n",
       "      <td>526353030</td>\n",
       "      <td>20</td>\n",
       "      <td>RL</td>\n",
       "      <td>93.0</td>\n",
       "      <td>11160</td>\n",
       "      <td>Pave</td>\n",
       "      <td>NaN</td>\n",
       "      <td>Reg</td>\n",
       "      <td>Lvl</td>\n",
       "      <td>...</td>\n",
       "      <td>0</td>\n",
       "      <td>NaN</td>\n",
       "      <td>NaN</td>\n",
       "      <td>NaN</td>\n",
       "      <td>0</td>\n",
       "      <td>4</td>\n",
       "      <td>2010</td>\n",
       "      <td>WD</td>\n",
       "      <td>Normal</td>\n",
       "      <td>244000</td>\n",
       "    </tr>\n",
       "    <tr>\n",
       "      <th>4</th>\n",
       "      <td>5</td>\n",
       "      <td>527105010</td>\n",
       "      <td>60</td>\n",
       "      <td>RL</td>\n",
       "      <td>74.0</td>\n",
       "      <td>13830</td>\n",
       "      <td>Pave</td>\n",
       "      <td>NaN</td>\n",
       "      <td>IR1</td>\n",
       "      <td>Lvl</td>\n",
       "      <td>...</td>\n",
       "      <td>0</td>\n",
       "      <td>NaN</td>\n",
       "      <td>MnPrv</td>\n",
       "      <td>NaN</td>\n",
       "      <td>0</td>\n",
       "      <td>3</td>\n",
       "      <td>2010</td>\n",
       "      <td>WD</td>\n",
       "      <td>Normal</td>\n",
       "      <td>189900</td>\n",
       "    </tr>\n",
       "  </tbody>\n",
       "</table>\n",
       "<p>5 rows × 82 columns</p>\n",
       "</div>"
      ],
      "text/plain": [
       "   Order        PID  MS SubClass MS Zoning  Lot Frontage  Lot Area Street  \\\n",
       "0      1  526301100           20        RL         141.0     31770   Pave   \n",
       "1      2  526350040           20        RH          80.0     11622   Pave   \n",
       "2      3  526351010           20        RL          81.0     14267   Pave   \n",
       "3      4  526353030           20        RL          93.0     11160   Pave   \n",
       "4      5  527105010           60        RL          74.0     13830   Pave   \n",
       "\n",
       "  Alley Lot Shape Land Contour    ...     Pool Area Pool QC  Fence  \\\n",
       "0   NaN       IR1          Lvl    ...             0     NaN    NaN   \n",
       "1   NaN       Reg          Lvl    ...             0     NaN  MnPrv   \n",
       "2   NaN       IR1          Lvl    ...             0     NaN    NaN   \n",
       "3   NaN       Reg          Lvl    ...             0     NaN    NaN   \n",
       "4   NaN       IR1          Lvl    ...             0     NaN  MnPrv   \n",
       "\n",
       "  Misc Feature Misc Val Mo Sold Yr Sold Sale Type  Sale Condition  SalePrice  \n",
       "0          NaN        0       5    2010       WD           Normal     215000  \n",
       "1          NaN        0       6    2010       WD           Normal     105000  \n",
       "2         Gar2    12500       6    2010       WD           Normal     172000  \n",
       "3          NaN        0       4    2010       WD           Normal     244000  \n",
       "4          NaN        0       3    2010       WD           Normal     189900  \n",
       "\n",
       "[5 rows x 82 columns]"
      ]
     },
     "execution_count": 3,
     "metadata": {},
     "output_type": "execute_result"
    }
   ],
   "source": [
    "# Checking first few rows\n",
    "data.head()"
   ]
  },
  {
   "cell_type": "code",
   "execution_count": 4,
   "metadata": {
    "collapsed": false
   },
   "outputs": [
    {
     "name": "stdout",
     "output_type": "stream",
     "text": [
      "<class 'pandas.core.frame.DataFrame'>\n",
      "RangeIndex: 2930 entries, 0 to 2929\n",
      "Data columns (total 82 columns):\n",
      "Order              2930 non-null int64\n",
      "PID                2930 non-null int64\n",
      "MS SubClass        2930 non-null int64\n",
      "MS Zoning          2930 non-null object\n",
      "Lot Frontage       2440 non-null float64\n",
      "Lot Area           2930 non-null int64\n",
      "Street             2930 non-null object\n",
      "Alley              198 non-null object\n",
      "Lot Shape          2930 non-null object\n",
      "Land Contour       2930 non-null object\n",
      "Utilities          2930 non-null object\n",
      "Lot Config         2930 non-null object\n",
      "Land Slope         2930 non-null object\n",
      "Neighborhood       2930 non-null object\n",
      "Condition 1        2930 non-null object\n",
      "Condition 2        2930 non-null object\n",
      "Bldg Type          2930 non-null object\n",
      "House Style        2930 non-null object\n",
      "Overall Qual       2930 non-null int64\n",
      "Overall Cond       2930 non-null int64\n",
      "Year Built         2930 non-null int64\n",
      "Year Remod/Add     2930 non-null int64\n",
      "Roof Style         2930 non-null object\n",
      "Roof Matl          2930 non-null object\n",
      "Exterior 1st       2930 non-null object\n",
      "Exterior 2nd       2930 non-null object\n",
      "Mas Vnr Type       2907 non-null object\n",
      "Mas Vnr Area       2907 non-null float64\n",
      "Exter Qual         2930 non-null object\n",
      "Exter Cond         2930 non-null object\n",
      "Foundation         2930 non-null object\n",
      "Bsmt Qual          2850 non-null object\n",
      "Bsmt Cond          2850 non-null object\n",
      "Bsmt Exposure      2847 non-null object\n",
      "BsmtFin Type 1     2850 non-null object\n",
      "BsmtFin SF 1       2929 non-null float64\n",
      "BsmtFin Type 2     2849 non-null object\n",
      "BsmtFin SF 2       2929 non-null float64\n",
      "Bsmt Unf SF        2929 non-null float64\n",
      "Total Bsmt SF      2929 non-null float64\n",
      "Heating            2930 non-null object\n",
      "Heating QC         2930 non-null object\n",
      "Central Air        2930 non-null object\n",
      "Electrical         2929 non-null object\n",
      "1st Flr SF         2930 non-null int64\n",
      "2nd Flr SF         2930 non-null int64\n",
      "Low Qual Fin SF    2930 non-null int64\n",
      "Gr Liv Area        2930 non-null int64\n",
      "Bsmt Full Bath     2928 non-null float64\n",
      "Bsmt Half Bath     2928 non-null float64\n",
      "Full Bath          2930 non-null int64\n",
      "Half Bath          2930 non-null int64\n",
      "Bedroom AbvGr      2930 non-null int64\n",
      "Kitchen AbvGr      2930 non-null int64\n",
      "Kitchen Qual       2930 non-null object\n",
      "TotRms AbvGrd      2930 non-null int64\n",
      "Functional         2930 non-null object\n",
      "Fireplaces         2930 non-null int64\n",
      "Fireplace Qu       1508 non-null object\n",
      "Garage Type        2773 non-null object\n",
      "Garage Yr Blt      2771 non-null float64\n",
      "Garage Finish      2771 non-null object\n",
      "Garage Cars        2929 non-null float64\n",
      "Garage Area        2929 non-null float64\n",
      "Garage Qual        2771 non-null object\n",
      "Garage Cond        2771 non-null object\n",
      "Paved Drive        2930 non-null object\n",
      "Wood Deck SF       2930 non-null int64\n",
      "Open Porch SF      2930 non-null int64\n",
      "Enclosed Porch     2930 non-null int64\n",
      "3Ssn Porch         2930 non-null int64\n",
      "Screen Porch       2930 non-null int64\n",
      "Pool Area          2930 non-null int64\n",
      "Pool QC            13 non-null object\n",
      "Fence              572 non-null object\n",
      "Misc Feature       106 non-null object\n",
      "Misc Val           2930 non-null int64\n",
      "Mo Sold            2930 non-null int64\n",
      "Yr Sold            2930 non-null int64\n",
      "Sale Type          2930 non-null object\n",
      "Sale Condition     2930 non-null object\n",
      "SalePrice          2930 non-null int64\n",
      "dtypes: float64(11), int64(28), object(43)\n",
      "memory usage: 1.8+ MB\n"
     ]
    }
   ],
   "source": [
    "# Checking overview of the columns\n",
    "data.info()"
   ]
  },
  {
   "cell_type": "markdown",
   "metadata": {},
   "source": [
    "From the overview, we can see that there are 2930 rows with 82 columns; majority of which are of object dtypes while the rest are numeric (either float or int dtypes)."
   ]
  },
  {
   "cell_type": "markdown",
   "metadata": {},
   "source": [
    "# Creation of Functions in the Pipeline (Skeletal Base)"
   ]
  },
  {
   "cell_type": "code",
   "execution_count": 5,
   "metadata": {
    "collapsed": true
   },
   "outputs": [],
   "source": [
    "# Function to transform the feature columns\n",
    "def transform_features(df):\n",
    "    return df"
   ]
  },
  {
   "cell_type": "code",
   "execution_count": 6,
   "metadata": {
    "collapsed": true
   },
   "outputs": [],
   "source": [
    "# Function to select the appropriate feature columns for training\n",
    "def select_features(df):\n",
    "    return df[['Gr Liv Area', 'SalePrice']]"
   ]
  },
  {
   "cell_type": "code",
   "execution_count": 7,
   "metadata": {
    "collapsed": true
   },
   "outputs": [],
   "source": [
    "# Function to split the dataset into a training set and a test set\n",
    "# followed by instantiating a Linear Regression model, fitting and then predicting\n",
    "# and returning the RMSE for the predictions versus the actual labels\n",
    "def train_and_test(df):\n",
    "    train = df[:1460]\n",
    "    test = df[1460:]\n",
    "    train_features = select_features(train)\n",
    "    train_target = train['SalePrice']\n",
    "    test_features = select_features(test)\n",
    "    test_target = test['SalePrice']\n",
    "    model = LinearRegression()\n",
    "    model.fit(train_features, train_target)\n",
    "    predictions = model.predict(test_features)\n",
    "    mse = mean_squared_error(test_target, predictions)\n",
    "    rmse = np.sqrt(mse)\n",
    "    return rmse"
   ]
  },
  {
   "cell_type": "markdown",
   "metadata": {},
   "source": [
    "# Feature Engineering"
   ]
  },
  {
   "cell_type": "markdown",
   "metadata": {},
   "source": [
    "With the skeletal structure of the pipeline functions in place, we should looked into updating the above 3 functions necessary. First up, feature engineering which is related to the `transform_features` function. Features with many missing values should be revmoed - a cutoff of 25% is set such that the column is dropped if there are more than 25% missing values in the column. Potential categorial features should be explored further as well, and transforming text and numerical columns. Columns that leak information about the sale (e.g. like the year the sale happened) have to be removed as well. In general, the goal of this function is to:\n",
    "* remove features that we don't want to use in the model, just based on the number of missing values or data leakage\n",
    "* transform features into the proper format (numerical to categorical, scaling numerical, filling in missing values, etc)\n",
    "* create new features by combining other features"
   ]
  },
  {
   "cell_type": "markdown",
   "metadata": {},
   "source": [
    "## Exploration and Experimentation with Features"
   ]
  },
  {
   "cell_type": "markdown",
   "metadata": {},
   "source": [
    "### Missing Values"
   ]
  },
  {
   "cell_type": "markdown",
   "metadata": {},
   "source": [
    "First up, let's look at the missing values in all the columns."
   ]
  },
  {
   "cell_type": "code",
   "execution_count": 8,
   "metadata": {
    "collapsed": false
   },
   "outputs": [
    {
     "data": {
      "text/plain": [
       "Order                0\n",
       "PID                  0\n",
       "MS SubClass          0\n",
       "MS Zoning            0\n",
       "Lot Frontage       490\n",
       "Lot Area             0\n",
       "Street               0\n",
       "Alley             2732\n",
       "Lot Shape            0\n",
       "Land Contour         0\n",
       "Utilities            0\n",
       "Lot Config           0\n",
       "Land Slope           0\n",
       "Neighborhood         0\n",
       "Condition 1          0\n",
       "Condition 2          0\n",
       "Bldg Type            0\n",
       "House Style          0\n",
       "Overall Qual         0\n",
       "Overall Cond         0\n",
       "Year Built           0\n",
       "Year Remod/Add       0\n",
       "Roof Style           0\n",
       "Roof Matl            0\n",
       "Exterior 1st         0\n",
       "Exterior 2nd         0\n",
       "Mas Vnr Type        23\n",
       "Mas Vnr Area        23\n",
       "Exter Qual           0\n",
       "Exter Cond           0\n",
       "                  ... \n",
       "Bedroom AbvGr        0\n",
       "Kitchen AbvGr        0\n",
       "Kitchen Qual         0\n",
       "TotRms AbvGrd        0\n",
       "Functional           0\n",
       "Fireplaces           0\n",
       "Fireplace Qu      1422\n",
       "Garage Type        157\n",
       "Garage Yr Blt      159\n",
       "Garage Finish      159\n",
       "Garage Cars          1\n",
       "Garage Area          1\n",
       "Garage Qual        159\n",
       "Garage Cond        159\n",
       "Paved Drive          0\n",
       "Wood Deck SF         0\n",
       "Open Porch SF        0\n",
       "Enclosed Porch       0\n",
       "3Ssn Porch           0\n",
       "Screen Porch         0\n",
       "Pool Area            0\n",
       "Pool QC           2917\n",
       "Fence             2358\n",
       "Misc Feature      2824\n",
       "Misc Val             0\n",
       "Mo Sold              0\n",
       "Yr Sold              0\n",
       "Sale Type            0\n",
       "Sale Condition       0\n",
       "SalePrice            0\n",
       "Length: 82, dtype: int64"
      ]
     },
     "execution_count": 8,
     "metadata": {},
     "output_type": "execute_result"
    }
   ],
   "source": [
    "null_values_count = data.isnull().sum()\n",
    "null_values_count"
   ]
  },
  {
   "cell_type": "code",
   "execution_count": 9,
   "metadata": {
    "collapsed": false
   },
   "outputs": [
    {
     "data": {
      "text/plain": [
       "Alley           93.242321\n",
       "Fireplace Qu    48.532423\n",
       "Pool QC         99.556314\n",
       "Fence           80.477816\n",
       "Misc Feature    96.382253\n",
       "dtype: float64"
      ]
     },
     "execution_count": 9,
     "metadata": {},
     "output_type": "execute_result"
    }
   ],
   "source": [
    "null_values_pct = null_values_count[null_values_count != 0]/len(data) * 100\n",
    "null_values_to_drop = null_values_pct[null_values_pct > 25]\n",
    "null_values_to_drop"
   ]
  },
  {
   "cell_type": "markdown",
   "metadata": {},
   "source": [
    "The above 5 columns have more than 25% missing values and so, ought to be dropped."
   ]
  },
  {
   "cell_type": "code",
   "execution_count": 10,
   "metadata": {
    "collapsed": false
   },
   "outputs": [
    {
     "data": {
      "text/plain": [
       "['Alley', 'Fireplace Qu', 'Pool QC', 'Fence', 'Misc Feature']"
      ]
     },
     "execution_count": 10,
     "metadata": {},
     "output_type": "execute_result"
    }
   ],
   "source": [
    "columns_to_drop = null_values_to_drop.index.tolist()\n",
    "columns_to_drop"
   ]
  },
  {
   "cell_type": "markdown",
   "metadata": {},
   "source": [
    "### Data Leakage"
   ]
  },
  {
   "cell_type": "markdown",
   "metadata": {},
   "source": [
    "Next up, columns that leak information about the sale should also be dropped. Data leakage occurs when the data you are using to train a machine learning algorithm happens to have the information you are trying to predict. That is, the information we would want to train the model on, is actually not available at the point of prediction. Notably, features that would leak to data leakage are information on the actual sale. The columns are `Mo Sold`, `Yr Sold`, `Sale Type` and `Sale Condition`."
   ]
  },
  {
   "cell_type": "code",
   "execution_count": 11,
   "metadata": {
    "collapsed": false
   },
   "outputs": [
    {
     "data": {
      "text/plain": [
       "['Alley',\n",
       " 'Fireplace Qu',\n",
       " 'Pool QC',\n",
       " 'Fence',\n",
       " 'Misc Feature',\n",
       " 'Mo Sold',\n",
       " 'Yr Sold',\n",
       " 'Sale Type',\n",
       " 'Sale Condition']"
      ]
     },
     "execution_count": 11,
     "metadata": {},
     "output_type": "execute_result"
    }
   ],
   "source": [
    "columns_to_drop += ['Mo Sold', 'Yr Sold', 'Sale Type', 'Sale Condition']\n",
    "columns_to_drop"
   ]
  },
  {
   "cell_type": "markdown",
   "metadata": {
    "collapsed": true
   },
   "source": [
    "### Irrelevant Columns"
   ]
  },
  {
   "cell_type": "markdown",
   "metadata": {},
   "source": [
    "Some columns are not useful for machine learning and so, they should be dropped. These columns are usually unique identifiers for each row which do not provide any useful information with regards to the sale price. They are the `Order` and `PID` columns."
   ]
  },
  {
   "cell_type": "code",
   "execution_count": 12,
   "metadata": {
    "collapsed": false
   },
   "outputs": [
    {
     "data": {
      "text/plain": [
       "['Alley',\n",
       " 'Fireplace Qu',\n",
       " 'Pool QC',\n",
       " 'Fence',\n",
       " 'Misc Feature',\n",
       " 'Mo Sold',\n",
       " 'Yr Sold',\n",
       " 'Sale Type',\n",
       " 'Sale Condition',\n",
       " 'Order',\n",
       " 'PID']"
      ]
     },
     "execution_count": 12,
     "metadata": {},
     "output_type": "execute_result"
    }
   ],
   "source": [
    "columns_to_drop += ['Order', 'PID']\n",
    "columns_to_drop"
   ]
  },
  {
   "cell_type": "markdown",
   "metadata": {},
   "source": [
    "### Handling Numeric and Text Columns Separately"
   ]
  },
  {
   "cell_type": "markdown",
   "metadata": {},
   "source": [
    "Now, before transforming some of the existing features to engineer new features that could better capture information, the numeric and text columns need to be handled separately. Firstly, text columns are harder to deal with and so, any columns with missing values would be dropped for now. As for the remaining numeric columns, the missing values would be imputed with the mean within the column."
   ]
  },
  {
   "cell_type": "code",
   "execution_count": 13,
   "metadata": {
    "collapsed": true
   },
   "outputs": [],
   "source": [
    "# Dropping the columns from before first on a copy of the dataframe to avoid making perm changes\n",
    "# to the original dataframe\n",
    "copy = data.copy()\n",
    "copy.drop(columns = columns_to_drop, inplace=True)"
   ]
  },
  {
   "cell_type": "code",
   "execution_count": 14,
   "metadata": {
    "collapsed": false
   },
   "outputs": [
    {
     "name": "stdout",
     "output_type": "stream",
     "text": [
      "<class 'pandas.core.frame.DataFrame'>\n",
      "RangeIndex: 2930 entries, 0 to 2929\n",
      "Data columns (total 36 columns):\n",
      "MS Zoning         2930 non-null object\n",
      "Street            2930 non-null object\n",
      "Lot Shape         2930 non-null object\n",
      "Land Contour      2930 non-null object\n",
      "Utilities         2930 non-null object\n",
      "Lot Config        2930 non-null object\n",
      "Land Slope        2930 non-null object\n",
      "Neighborhood      2930 non-null object\n",
      "Condition 1       2930 non-null object\n",
      "Condition 2       2930 non-null object\n",
      "Bldg Type         2930 non-null object\n",
      "House Style       2930 non-null object\n",
      "Roof Style        2930 non-null object\n",
      "Roof Matl         2930 non-null object\n",
      "Exterior 1st      2930 non-null object\n",
      "Exterior 2nd      2930 non-null object\n",
      "Mas Vnr Type      2907 non-null object\n",
      "Exter Qual        2930 non-null object\n",
      "Exter Cond        2930 non-null object\n",
      "Foundation        2930 non-null object\n",
      "Bsmt Qual         2850 non-null object\n",
      "Bsmt Cond         2850 non-null object\n",
      "Bsmt Exposure     2847 non-null object\n",
      "BsmtFin Type 1    2850 non-null object\n",
      "BsmtFin Type 2    2849 non-null object\n",
      "Heating           2930 non-null object\n",
      "Heating QC        2930 non-null object\n",
      "Central Air       2930 non-null object\n",
      "Electrical        2929 non-null object\n",
      "Kitchen Qual      2930 non-null object\n",
      "Functional        2930 non-null object\n",
      "Garage Type       2773 non-null object\n",
      "Garage Finish     2771 non-null object\n",
      "Garage Qual       2771 non-null object\n",
      "Garage Cond       2771 non-null object\n",
      "Paved Drive       2930 non-null object\n",
      "dtypes: object(36)\n",
      "memory usage: 824.1+ KB\n"
     ]
    }
   ],
   "source": [
    "text_cols = copy.select_dtypes(include='object')\n",
    "text_cols.info()"
   ]
  },
  {
   "cell_type": "code",
   "execution_count": 15,
   "metadata": {
    "collapsed": false
   },
   "outputs": [
    {
     "data": {
      "text/plain": [
       "MS Zoning           0\n",
       "Street              0\n",
       "Lot Shape           0\n",
       "Land Contour        0\n",
       "Utilities           0\n",
       "Lot Config          0\n",
       "Land Slope          0\n",
       "Neighborhood        0\n",
       "Condition 1         0\n",
       "Condition 2         0\n",
       "Bldg Type           0\n",
       "House Style         0\n",
       "Roof Style          0\n",
       "Roof Matl           0\n",
       "Exterior 1st        0\n",
       "Exterior 2nd        0\n",
       "Mas Vnr Type       23\n",
       "Exter Qual          0\n",
       "Exter Cond          0\n",
       "Foundation          0\n",
       "Bsmt Qual          80\n",
       "Bsmt Cond          80\n",
       "Bsmt Exposure      83\n",
       "BsmtFin Type 1     80\n",
       "BsmtFin Type 2     81\n",
       "Heating             0\n",
       "Heating QC          0\n",
       "Central Air         0\n",
       "Electrical          1\n",
       "Kitchen Qual        0\n",
       "Functional          0\n",
       "Garage Type       157\n",
       "Garage Finish     159\n",
       "Garage Qual       159\n",
       "Garage Cond       159\n",
       "Paved Drive         0\n",
       "dtype: int64"
      ]
     },
     "execution_count": 15,
     "metadata": {},
     "output_type": "execute_result"
    }
   ],
   "source": [
    "# Determining the number of null values in the text columns\n",
    "text_cols_mv = text_cols.isnull().sum()\n",
    "text_cols_mv"
   ]
  },
  {
   "cell_type": "code",
   "execution_count": 16,
   "metadata": {
    "collapsed": false
   },
   "outputs": [
    {
     "data": {
      "text/plain": [
       "Index(['Mas Vnr Type', 'Bsmt Qual', 'Bsmt Cond', 'Bsmt Exposure',\n",
       "       'BsmtFin Type 1', 'BsmtFin Type 2', 'Electrical', 'Garage Type',\n",
       "       'Garage Finish', 'Garage Qual', 'Garage Cond'],\n",
       "      dtype='object')"
      ]
     },
     "execution_count": 16,
     "metadata": {},
     "output_type": "execute_result"
    }
   ],
   "source": [
    "# Filtering for text columns with missing values and then dropping these columns\n",
    "text_columns_to_drop = text_cols_mv[text_cols_mv > 0].index\n",
    "text_columns_to_drop"
   ]
  },
  {
   "cell_type": "code",
   "execution_count": 17,
   "metadata": {
    "collapsed": false
   },
   "outputs": [
    {
     "name": "stdout",
     "output_type": "stream",
     "text": [
      "<class 'pandas.core.frame.DataFrame'>\n",
      "RangeIndex: 2930 entries, 0 to 2929\n",
      "Data columns (total 60 columns):\n",
      "MS SubClass        2930 non-null int64\n",
      "MS Zoning          2930 non-null object\n",
      "Lot Frontage       2440 non-null float64\n",
      "Lot Area           2930 non-null int64\n",
      "Street             2930 non-null object\n",
      "Lot Shape          2930 non-null object\n",
      "Land Contour       2930 non-null object\n",
      "Utilities          2930 non-null object\n",
      "Lot Config         2930 non-null object\n",
      "Land Slope         2930 non-null object\n",
      "Neighborhood       2930 non-null object\n",
      "Condition 1        2930 non-null object\n",
      "Condition 2        2930 non-null object\n",
      "Bldg Type          2930 non-null object\n",
      "House Style        2930 non-null object\n",
      "Overall Qual       2930 non-null int64\n",
      "Overall Cond       2930 non-null int64\n",
      "Year Built         2930 non-null int64\n",
      "Year Remod/Add     2930 non-null int64\n",
      "Roof Style         2930 non-null object\n",
      "Roof Matl          2930 non-null object\n",
      "Exterior 1st       2930 non-null object\n",
      "Exterior 2nd       2930 non-null object\n",
      "Mas Vnr Area       2907 non-null float64\n",
      "Exter Qual         2930 non-null object\n",
      "Exter Cond         2930 non-null object\n",
      "Foundation         2930 non-null object\n",
      "BsmtFin SF 1       2929 non-null float64\n",
      "BsmtFin SF 2       2929 non-null float64\n",
      "Bsmt Unf SF        2929 non-null float64\n",
      "Total Bsmt SF      2929 non-null float64\n",
      "Heating            2930 non-null object\n",
      "Heating QC         2930 non-null object\n",
      "Central Air        2930 non-null object\n",
      "1st Flr SF         2930 non-null int64\n",
      "2nd Flr SF         2930 non-null int64\n",
      "Low Qual Fin SF    2930 non-null int64\n",
      "Gr Liv Area        2930 non-null int64\n",
      "Bsmt Full Bath     2928 non-null float64\n",
      "Bsmt Half Bath     2928 non-null float64\n",
      "Full Bath          2930 non-null int64\n",
      "Half Bath          2930 non-null int64\n",
      "Bedroom AbvGr      2930 non-null int64\n",
      "Kitchen AbvGr      2930 non-null int64\n",
      "Kitchen Qual       2930 non-null object\n",
      "TotRms AbvGrd      2930 non-null int64\n",
      "Functional         2930 non-null object\n",
      "Fireplaces         2930 non-null int64\n",
      "Garage Yr Blt      2771 non-null float64\n",
      "Garage Cars        2929 non-null float64\n",
      "Garage Area        2929 non-null float64\n",
      "Paved Drive        2930 non-null object\n",
      "Wood Deck SF       2930 non-null int64\n",
      "Open Porch SF      2930 non-null int64\n",
      "Enclosed Porch     2930 non-null int64\n",
      "3Ssn Porch         2930 non-null int64\n",
      "Screen Porch       2930 non-null int64\n",
      "Pool Area          2930 non-null int64\n",
      "Misc Val           2930 non-null int64\n",
      "SalePrice          2930 non-null int64\n",
      "dtypes: float64(11), int64(24), object(25)\n",
      "memory usage: 1.3+ MB\n"
     ]
    }
   ],
   "source": [
    "# Dropping these text columns with the copy of the dataframe\n",
    "copy.drop(columns = text_columns_to_drop, inplace=True)\n",
    "copy.info()"
   ]
  },
  {
   "cell_type": "markdown",
   "metadata": {},
   "source": [
    "With the text columns out of the way, it's time to impute the missing values in the remaining numeric columns with the mean."
   ]
  },
  {
   "cell_type": "code",
   "execution_count": 18,
   "metadata": {
    "collapsed": false
   },
   "outputs": [
    {
     "name": "stdout",
     "output_type": "stream",
     "text": [
      "<class 'pandas.core.frame.DataFrame'>\n",
      "RangeIndex: 2930 entries, 0 to 2929\n",
      "Data columns (total 35 columns):\n",
      "MS SubClass        2930 non-null int64\n",
      "Lot Frontage       2440 non-null float64\n",
      "Lot Area           2930 non-null int64\n",
      "Overall Qual       2930 non-null int64\n",
      "Overall Cond       2930 non-null int64\n",
      "Year Built         2930 non-null int64\n",
      "Year Remod/Add     2930 non-null int64\n",
      "Mas Vnr Area       2907 non-null float64\n",
      "BsmtFin SF 1       2929 non-null float64\n",
      "BsmtFin SF 2       2929 non-null float64\n",
      "Bsmt Unf SF        2929 non-null float64\n",
      "Total Bsmt SF      2929 non-null float64\n",
      "1st Flr SF         2930 non-null int64\n",
      "2nd Flr SF         2930 non-null int64\n",
      "Low Qual Fin SF    2930 non-null int64\n",
      "Gr Liv Area        2930 non-null int64\n",
      "Bsmt Full Bath     2928 non-null float64\n",
      "Bsmt Half Bath     2928 non-null float64\n",
      "Full Bath          2930 non-null int64\n",
      "Half Bath          2930 non-null int64\n",
      "Bedroom AbvGr      2930 non-null int64\n",
      "Kitchen AbvGr      2930 non-null int64\n",
      "TotRms AbvGrd      2930 non-null int64\n",
      "Fireplaces         2930 non-null int64\n",
      "Garage Yr Blt      2771 non-null float64\n",
      "Garage Cars        2929 non-null float64\n",
      "Garage Area        2929 non-null float64\n",
      "Wood Deck SF       2930 non-null int64\n",
      "Open Porch SF      2930 non-null int64\n",
      "Enclosed Porch     2930 non-null int64\n",
      "3Ssn Porch         2930 non-null int64\n",
      "Screen Porch       2930 non-null int64\n",
      "Pool Area          2930 non-null int64\n",
      "Misc Val           2930 non-null int64\n",
      "SalePrice          2930 non-null int64\n",
      "dtypes: float64(11), int64(24)\n",
      "memory usage: 801.2 KB\n"
     ]
    }
   ],
   "source": [
    "numeric_cols = copy.select_dtypes(include=['float', 'int'])\n",
    "numeric_cols.info()"
   ]
  },
  {
   "cell_type": "code",
   "execution_count": 19,
   "metadata": {
    "collapsed": false
   },
   "outputs": [
    {
     "data": {
      "text/plain": [
       "MS SubClass            57.387372\n",
       "Lot Frontage           69.224590\n",
       "Lot Area            10147.921843\n",
       "Overall Qual            6.094881\n",
       "Overall Cond            5.563140\n",
       "Year Built           1971.356314\n",
       "Year Remod/Add       1984.266553\n",
       "Mas Vnr Area          101.896801\n",
       "BsmtFin SF 1          442.629566\n",
       "BsmtFin SF 2           49.722431\n",
       "Bsmt Unf SF           559.262547\n",
       "Total Bsmt SF        1051.614544\n",
       "1st Flr SF           1159.557679\n",
       "2nd Flr SF            335.455973\n",
       "Low Qual Fin SF         4.676792\n",
       "Gr Liv Area          1499.690444\n",
       "Bsmt Full Bath          0.431352\n",
       "Bsmt Half Bath          0.061134\n",
       "Full Bath               1.566553\n",
       "Half Bath               0.379522\n",
       "Bedroom AbvGr           2.854266\n",
       "Kitchen AbvGr           1.044369\n",
       "TotRms AbvGrd           6.443003\n",
       "Fireplaces              0.599317\n",
       "Garage Yr Blt        1978.132443\n",
       "Garage Cars             1.766815\n",
       "Garage Area           472.819734\n",
       "Wood Deck SF           93.751877\n",
       "Open Porch SF          47.533447\n",
       "Enclosed Porch         23.011604\n",
       "3Ssn Porch              2.592491\n",
       "Screen Porch           16.002048\n",
       "Pool Area               2.243345\n",
       "Misc Val               50.635154\n",
       "SalePrice          180796.060068\n",
       "dtype: float64"
      ]
     },
     "execution_count": 19,
     "metadata": {},
     "output_type": "execute_result"
    }
   ],
   "source": [
    "numeric_cols.mean()"
   ]
  },
  {
   "cell_type": "code",
   "execution_count": 20,
   "metadata": {
    "collapsed": false
   },
   "outputs": [
    {
     "name": "stdout",
     "output_type": "stream",
     "text": [
      "<class 'pandas.core.frame.DataFrame'>\n",
      "RangeIndex: 2930 entries, 0 to 2929\n",
      "Data columns (total 35 columns):\n",
      "MS SubClass        2930 non-null int64\n",
      "Lot Frontage       2930 non-null float64\n",
      "Lot Area           2930 non-null int64\n",
      "Overall Qual       2930 non-null int64\n",
      "Overall Cond       2930 non-null int64\n",
      "Year Built         2930 non-null int64\n",
      "Year Remod/Add     2930 non-null int64\n",
      "Mas Vnr Area       2930 non-null float64\n",
      "BsmtFin SF 1       2930 non-null float64\n",
      "BsmtFin SF 2       2930 non-null float64\n",
      "Bsmt Unf SF        2930 non-null float64\n",
      "Total Bsmt SF      2930 non-null float64\n",
      "1st Flr SF         2930 non-null int64\n",
      "2nd Flr SF         2930 non-null int64\n",
      "Low Qual Fin SF    2930 non-null int64\n",
      "Gr Liv Area        2930 non-null int64\n",
      "Bsmt Full Bath     2930 non-null float64\n",
      "Bsmt Half Bath     2930 non-null float64\n",
      "Full Bath          2930 non-null int64\n",
      "Half Bath          2930 non-null int64\n",
      "Bedroom AbvGr      2930 non-null int64\n",
      "Kitchen AbvGr      2930 non-null int64\n",
      "TotRms AbvGrd      2930 non-null int64\n",
      "Fireplaces         2930 non-null int64\n",
      "Garage Yr Blt      2930 non-null float64\n",
      "Garage Cars        2930 non-null float64\n",
      "Garage Area        2930 non-null float64\n",
      "Wood Deck SF       2930 non-null int64\n",
      "Open Porch SF      2930 non-null int64\n",
      "Enclosed Porch     2930 non-null int64\n",
      "3Ssn Porch         2930 non-null int64\n",
      "Screen Porch       2930 non-null int64\n",
      "Pool Area          2930 non-null int64\n",
      "Misc Val           2930 non-null int64\n",
      "SalePrice          2930 non-null int64\n",
      "dtypes: float64(11), int64(24)\n",
      "memory usage: 801.2 KB\n"
     ]
    }
   ],
   "source": [
    "numeric_cols_imputed = numeric_cols.fillna(numeric_cols.mean())\n",
    "numeric_cols_imputed.info()"
   ]
  },
  {
   "cell_type": "code",
   "execution_count": 21,
   "metadata": {
    "collapsed": false
   },
   "outputs": [],
   "source": [
    "# Updating back the copy with the imputed values\n",
    "copy[numeric_cols_imputed.columns] = numeric_cols_imputed"
   ]
  },
  {
   "cell_type": "code",
   "execution_count": 22,
   "metadata": {
    "collapsed": false
   },
   "outputs": [
    {
     "data": {
      "text/html": [
       "<div>\n",
       "<style scoped>\n",
       "    .dataframe tbody tr th:only-of-type {\n",
       "        vertical-align: middle;\n",
       "    }\n",
       "\n",
       "    .dataframe tbody tr th {\n",
       "        vertical-align: top;\n",
       "    }\n",
       "\n",
       "    .dataframe thead th {\n",
       "        text-align: right;\n",
       "    }\n",
       "</style>\n",
       "<table border=\"1\" class=\"dataframe\">\n",
       "  <thead>\n",
       "    <tr style=\"text-align: right;\">\n",
       "      <th></th>\n",
       "      <th>MS SubClass</th>\n",
       "      <th>MS Zoning</th>\n",
       "      <th>Lot Frontage</th>\n",
       "      <th>Lot Area</th>\n",
       "      <th>Street</th>\n",
       "      <th>Lot Shape</th>\n",
       "      <th>Land Contour</th>\n",
       "      <th>Utilities</th>\n",
       "      <th>Lot Config</th>\n",
       "      <th>Land Slope</th>\n",
       "      <th>...</th>\n",
       "      <th>Garage Area</th>\n",
       "      <th>Paved Drive</th>\n",
       "      <th>Wood Deck SF</th>\n",
       "      <th>Open Porch SF</th>\n",
       "      <th>Enclosed Porch</th>\n",
       "      <th>3Ssn Porch</th>\n",
       "      <th>Screen Porch</th>\n",
       "      <th>Pool Area</th>\n",
       "      <th>Misc Val</th>\n",
       "      <th>SalePrice</th>\n",
       "    </tr>\n",
       "  </thead>\n",
       "  <tbody>\n",
       "    <tr>\n",
       "      <th>0</th>\n",
       "      <td>20</td>\n",
       "      <td>RL</td>\n",
       "      <td>141.0</td>\n",
       "      <td>31770</td>\n",
       "      <td>Pave</td>\n",
       "      <td>IR1</td>\n",
       "      <td>Lvl</td>\n",
       "      <td>AllPub</td>\n",
       "      <td>Corner</td>\n",
       "      <td>Gtl</td>\n",
       "      <td>...</td>\n",
       "      <td>528.0</td>\n",
       "      <td>P</td>\n",
       "      <td>210</td>\n",
       "      <td>62</td>\n",
       "      <td>0</td>\n",
       "      <td>0</td>\n",
       "      <td>0</td>\n",
       "      <td>0</td>\n",
       "      <td>0</td>\n",
       "      <td>215000</td>\n",
       "    </tr>\n",
       "    <tr>\n",
       "      <th>1</th>\n",
       "      <td>20</td>\n",
       "      <td>RH</td>\n",
       "      <td>80.0</td>\n",
       "      <td>11622</td>\n",
       "      <td>Pave</td>\n",
       "      <td>Reg</td>\n",
       "      <td>Lvl</td>\n",
       "      <td>AllPub</td>\n",
       "      <td>Inside</td>\n",
       "      <td>Gtl</td>\n",
       "      <td>...</td>\n",
       "      <td>730.0</td>\n",
       "      <td>Y</td>\n",
       "      <td>140</td>\n",
       "      <td>0</td>\n",
       "      <td>0</td>\n",
       "      <td>0</td>\n",
       "      <td>120</td>\n",
       "      <td>0</td>\n",
       "      <td>0</td>\n",
       "      <td>105000</td>\n",
       "    </tr>\n",
       "    <tr>\n",
       "      <th>2</th>\n",
       "      <td>20</td>\n",
       "      <td>RL</td>\n",
       "      <td>81.0</td>\n",
       "      <td>14267</td>\n",
       "      <td>Pave</td>\n",
       "      <td>IR1</td>\n",
       "      <td>Lvl</td>\n",
       "      <td>AllPub</td>\n",
       "      <td>Corner</td>\n",
       "      <td>Gtl</td>\n",
       "      <td>...</td>\n",
       "      <td>312.0</td>\n",
       "      <td>Y</td>\n",
       "      <td>393</td>\n",
       "      <td>36</td>\n",
       "      <td>0</td>\n",
       "      <td>0</td>\n",
       "      <td>0</td>\n",
       "      <td>0</td>\n",
       "      <td>12500</td>\n",
       "      <td>172000</td>\n",
       "    </tr>\n",
       "    <tr>\n",
       "      <th>3</th>\n",
       "      <td>20</td>\n",
       "      <td>RL</td>\n",
       "      <td>93.0</td>\n",
       "      <td>11160</td>\n",
       "      <td>Pave</td>\n",
       "      <td>Reg</td>\n",
       "      <td>Lvl</td>\n",
       "      <td>AllPub</td>\n",
       "      <td>Corner</td>\n",
       "      <td>Gtl</td>\n",
       "      <td>...</td>\n",
       "      <td>522.0</td>\n",
       "      <td>Y</td>\n",
       "      <td>0</td>\n",
       "      <td>0</td>\n",
       "      <td>0</td>\n",
       "      <td>0</td>\n",
       "      <td>0</td>\n",
       "      <td>0</td>\n",
       "      <td>0</td>\n",
       "      <td>244000</td>\n",
       "    </tr>\n",
       "    <tr>\n",
       "      <th>4</th>\n",
       "      <td>60</td>\n",
       "      <td>RL</td>\n",
       "      <td>74.0</td>\n",
       "      <td>13830</td>\n",
       "      <td>Pave</td>\n",
       "      <td>IR1</td>\n",
       "      <td>Lvl</td>\n",
       "      <td>AllPub</td>\n",
       "      <td>Inside</td>\n",
       "      <td>Gtl</td>\n",
       "      <td>...</td>\n",
       "      <td>482.0</td>\n",
       "      <td>Y</td>\n",
       "      <td>212</td>\n",
       "      <td>34</td>\n",
       "      <td>0</td>\n",
       "      <td>0</td>\n",
       "      <td>0</td>\n",
       "      <td>0</td>\n",
       "      <td>0</td>\n",
       "      <td>189900</td>\n",
       "    </tr>\n",
       "  </tbody>\n",
       "</table>\n",
       "<p>5 rows × 60 columns</p>\n",
       "</div>"
      ],
      "text/plain": [
       "   MS SubClass MS Zoning  Lot Frontage  Lot Area Street Lot Shape  \\\n",
       "0           20        RL         141.0     31770   Pave       IR1   \n",
       "1           20        RH          80.0     11622   Pave       Reg   \n",
       "2           20        RL          81.0     14267   Pave       IR1   \n",
       "3           20        RL          93.0     11160   Pave       Reg   \n",
       "4           60        RL          74.0     13830   Pave       IR1   \n",
       "\n",
       "  Land Contour Utilities Lot Config Land Slope    ...    Garage Area  \\\n",
       "0          Lvl    AllPub     Corner        Gtl    ...          528.0   \n",
       "1          Lvl    AllPub     Inside        Gtl    ...          730.0   \n",
       "2          Lvl    AllPub     Corner        Gtl    ...          312.0   \n",
       "3          Lvl    AllPub     Corner        Gtl    ...          522.0   \n",
       "4          Lvl    AllPub     Inside        Gtl    ...          482.0   \n",
       "\n",
       "  Paved Drive Wood Deck SF Open Porch SF Enclosed Porch  3Ssn Porch  \\\n",
       "0           P          210            62              0           0   \n",
       "1           Y          140             0              0           0   \n",
       "2           Y          393            36              0           0   \n",
       "3           Y            0             0              0           0   \n",
       "4           Y          212            34              0           0   \n",
       "\n",
       "   Screen Porch  Pool Area  Misc Val SalePrice  \n",
       "0             0          0         0    215000  \n",
       "1           120          0         0    105000  \n",
       "2             0          0     12500    172000  \n",
       "3             0          0         0    244000  \n",
       "4             0          0         0    189900  \n",
       "\n",
       "[5 rows x 60 columns]"
      ]
     },
     "execution_count": 22,
     "metadata": {},
     "output_type": "execute_result"
    }
   ],
   "source": [
    "copy.head()"
   ]
  },
  {
   "cell_type": "code",
   "execution_count": 23,
   "metadata": {
    "collapsed": false
   },
   "outputs": [
    {
     "name": "stdout",
     "output_type": "stream",
     "text": [
      "<class 'pandas.core.frame.DataFrame'>\n",
      "RangeIndex: 2930 entries, 0 to 2929\n",
      "Data columns (total 60 columns):\n",
      "MS SubClass        2930 non-null int64\n",
      "MS Zoning          2930 non-null object\n",
      "Lot Frontage       2930 non-null float64\n",
      "Lot Area           2930 non-null int64\n",
      "Street             2930 non-null object\n",
      "Lot Shape          2930 non-null object\n",
      "Land Contour       2930 non-null object\n",
      "Utilities          2930 non-null object\n",
      "Lot Config         2930 non-null object\n",
      "Land Slope         2930 non-null object\n",
      "Neighborhood       2930 non-null object\n",
      "Condition 1        2930 non-null object\n",
      "Condition 2        2930 non-null object\n",
      "Bldg Type          2930 non-null object\n",
      "House Style        2930 non-null object\n",
      "Overall Qual       2930 non-null int64\n",
      "Overall Cond       2930 non-null int64\n",
      "Year Built         2930 non-null int64\n",
      "Year Remod/Add     2930 non-null int64\n",
      "Roof Style         2930 non-null object\n",
      "Roof Matl          2930 non-null object\n",
      "Exterior 1st       2930 non-null object\n",
      "Exterior 2nd       2930 non-null object\n",
      "Mas Vnr Area       2930 non-null float64\n",
      "Exter Qual         2930 non-null object\n",
      "Exter Cond         2930 non-null object\n",
      "Foundation         2930 non-null object\n",
      "BsmtFin SF 1       2930 non-null float64\n",
      "BsmtFin SF 2       2930 non-null float64\n",
      "Bsmt Unf SF        2930 non-null float64\n",
      "Total Bsmt SF      2930 non-null float64\n",
      "Heating            2930 non-null object\n",
      "Heating QC         2930 non-null object\n",
      "Central Air        2930 non-null object\n",
      "1st Flr SF         2930 non-null int64\n",
      "2nd Flr SF         2930 non-null int64\n",
      "Low Qual Fin SF    2930 non-null int64\n",
      "Gr Liv Area        2930 non-null int64\n",
      "Bsmt Full Bath     2930 non-null float64\n",
      "Bsmt Half Bath     2930 non-null float64\n",
      "Full Bath          2930 non-null int64\n",
      "Half Bath          2930 non-null int64\n",
      "Bedroom AbvGr      2930 non-null int64\n",
      "Kitchen AbvGr      2930 non-null int64\n",
      "Kitchen Qual       2930 non-null object\n",
      "TotRms AbvGrd      2930 non-null int64\n",
      "Functional         2930 non-null object\n",
      "Fireplaces         2930 non-null int64\n",
      "Garage Yr Blt      2930 non-null float64\n",
      "Garage Cars        2930 non-null float64\n",
      "Garage Area        2930 non-null float64\n",
      "Paved Drive        2930 non-null object\n",
      "Wood Deck SF       2930 non-null int64\n",
      "Open Porch SF      2930 non-null int64\n",
      "Enclosed Porch     2930 non-null int64\n",
      "3Ssn Porch         2930 non-null int64\n",
      "Screen Porch       2930 non-null int64\n",
      "Pool Area          2930 non-null int64\n",
      "Misc Val           2930 non-null int64\n",
      "SalePrice          2930 non-null int64\n",
      "dtypes: float64(11), int64(24), object(25)\n",
      "memory usage: 1.3+ MB\n"
     ]
    }
   ],
   "source": [
    "copy.info()"
   ]
  },
  {
   "cell_type": "code",
   "execution_count": 24,
   "metadata": {
    "collapsed": false
   },
   "outputs": [
    {
     "data": {
      "text/plain": [
       "MS SubClass        0\n",
       "MS Zoning          0\n",
       "Lot Frontage       0\n",
       "Lot Area           0\n",
       "Street             0\n",
       "Lot Shape          0\n",
       "Land Contour       0\n",
       "Utilities          0\n",
       "Lot Config         0\n",
       "Land Slope         0\n",
       "Neighborhood       0\n",
       "Condition 1        0\n",
       "Condition 2        0\n",
       "Bldg Type          0\n",
       "House Style        0\n",
       "Overall Qual       0\n",
       "Overall Cond       0\n",
       "Year Built         0\n",
       "Year Remod/Add     0\n",
       "Roof Style         0\n",
       "Roof Matl          0\n",
       "Exterior 1st       0\n",
       "Exterior 2nd       0\n",
       "Mas Vnr Area       0\n",
       "Exter Qual         0\n",
       "Exter Cond         0\n",
       "Foundation         0\n",
       "BsmtFin SF 1       0\n",
       "BsmtFin SF 2       0\n",
       "Bsmt Unf SF        0\n",
       "Total Bsmt SF      0\n",
       "Heating            0\n",
       "Heating QC         0\n",
       "Central Air        0\n",
       "1st Flr SF         0\n",
       "2nd Flr SF         0\n",
       "Low Qual Fin SF    0\n",
       "Gr Liv Area        0\n",
       "Bsmt Full Bath     0\n",
       "Bsmt Half Bath     0\n",
       "Full Bath          0\n",
       "Half Bath          0\n",
       "Bedroom AbvGr      0\n",
       "Kitchen AbvGr      0\n",
       "Kitchen Qual       0\n",
       "TotRms AbvGrd      0\n",
       "Functional         0\n",
       "Fireplaces         0\n",
       "Garage Yr Blt      0\n",
       "Garage Cars        0\n",
       "Garage Area        0\n",
       "Paved Drive        0\n",
       "Wood Deck SF       0\n",
       "Open Porch SF      0\n",
       "Enclosed Porch     0\n",
       "3Ssn Porch         0\n",
       "Screen Porch       0\n",
       "Pool Area          0\n",
       "Misc Val           0\n",
       "SalePrice          0\n",
       "dtype: int64"
      ]
     },
     "execution_count": 24,
     "metadata": {},
     "output_type": "execute_result"
    }
   ],
   "source": [
    "# Checking for null values after updating\n",
    "copy.isnull().sum()"
   ]
  },
  {
   "cell_type": "markdown",
   "metadata": {},
   "source": [
    "All the null values of the remaining columns have be dealt with. Now, it's time to engineer some new features based on the existing features."
   ]
  },
  {
   "cell_type": "markdown",
   "metadata": {},
   "source": [
    "### Engineer New Features"
   ]
  },
  {
   "cell_type": "markdown",
   "metadata": {},
   "source": [
    "One possible new feature that can be created would be the `Years Till Remod` which is a difference between the `Year Remod/Add` and `Year Built` columns."
   ]
  },
  {
   "cell_type": "code",
   "execution_count": 25,
   "metadata": {
    "collapsed": false
   },
   "outputs": [],
   "source": [
    "years_till_remod = copy['Year Remod/Add'] - copy['Year Built']"
   ]
  },
  {
   "cell_type": "code",
   "execution_count": 26,
   "metadata": {
    "collapsed": false
   },
   "outputs": [
    {
     "name": "stdout",
     "output_type": "stream",
     "text": [
      "<class 'pandas.core.frame.DataFrame'>\n",
      "RangeIndex: 2930 entries, 0 to 2929\n",
      "Data columns (total 59 columns):\n",
      "MS SubClass         2930 non-null int64\n",
      "MS Zoning           2930 non-null object\n",
      "Lot Frontage        2930 non-null float64\n",
      "Lot Area            2930 non-null int64\n",
      "Street              2930 non-null object\n",
      "Lot Shape           2930 non-null object\n",
      "Land Contour        2930 non-null object\n",
      "Utilities           2930 non-null object\n",
      "Lot Config          2930 non-null object\n",
      "Land Slope          2930 non-null object\n",
      "Neighborhood        2930 non-null object\n",
      "Condition 1         2930 non-null object\n",
      "Condition 2         2930 non-null object\n",
      "Bldg Type           2930 non-null object\n",
      "House Style         2930 non-null object\n",
      "Overall Qual        2930 non-null int64\n",
      "Overall Cond        2930 non-null int64\n",
      "Roof Style          2930 non-null object\n",
      "Roof Matl           2930 non-null object\n",
      "Exterior 1st        2930 non-null object\n",
      "Exterior 2nd        2930 non-null object\n",
      "Mas Vnr Area        2930 non-null float64\n",
      "Exter Qual          2930 non-null object\n",
      "Exter Cond          2930 non-null object\n",
      "Foundation          2930 non-null object\n",
      "BsmtFin SF 1        2930 non-null float64\n",
      "BsmtFin SF 2        2930 non-null float64\n",
      "Bsmt Unf SF         2930 non-null float64\n",
      "Total Bsmt SF       2930 non-null float64\n",
      "Heating             2930 non-null object\n",
      "Heating QC          2930 non-null object\n",
      "Central Air         2930 non-null object\n",
      "1st Flr SF          2930 non-null int64\n",
      "2nd Flr SF          2930 non-null int64\n",
      "Low Qual Fin SF     2930 non-null int64\n",
      "Gr Liv Area         2930 non-null int64\n",
      "Bsmt Full Bath      2930 non-null float64\n",
      "Bsmt Half Bath      2930 non-null float64\n",
      "Full Bath           2930 non-null int64\n",
      "Half Bath           2930 non-null int64\n",
      "Bedroom AbvGr       2930 non-null int64\n",
      "Kitchen AbvGr       2930 non-null int64\n",
      "Kitchen Qual        2930 non-null object\n",
      "TotRms AbvGrd       2930 non-null int64\n",
      "Functional          2930 non-null object\n",
      "Fireplaces          2930 non-null int64\n",
      "Garage Yr Blt       2930 non-null float64\n",
      "Garage Cars         2930 non-null float64\n",
      "Garage Area         2930 non-null float64\n",
      "Paved Drive         2930 non-null object\n",
      "Wood Deck SF        2930 non-null int64\n",
      "Open Porch SF       2930 non-null int64\n",
      "Enclosed Porch      2930 non-null int64\n",
      "3Ssn Porch          2930 non-null int64\n",
      "Screen Porch        2930 non-null int64\n",
      "Pool Area           2930 non-null int64\n",
      "Misc Val            2930 non-null int64\n",
      "SalePrice           2930 non-null int64\n",
      "Years Till Remod    2930 non-null int64\n",
      "dtypes: float64(11), int64(23), object(25)\n",
      "memory usage: 1.3+ MB\n"
     ]
    }
   ],
   "source": [
    "# Dropping these 2 original columns and adding new column for this\n",
    "copy['Years Till Remod'] = years_till_remod\n",
    "copy.drop(columns=['Year Remod/Add', 'Year Built'], inplace=True)\n",
    "copy.info()"
   ]
  },
  {
   "cell_type": "code",
   "execution_count": 27,
   "metadata": {
    "collapsed": false
   },
   "outputs": [
    {
     "data": {
      "text/html": [
       "<div>\n",
       "<style scoped>\n",
       "    .dataframe tbody tr th:only-of-type {\n",
       "        vertical-align: middle;\n",
       "    }\n",
       "\n",
       "    .dataframe tbody tr th {\n",
       "        vertical-align: top;\n",
       "    }\n",
       "\n",
       "    .dataframe thead th {\n",
       "        text-align: right;\n",
       "    }\n",
       "</style>\n",
       "<table border=\"1\" class=\"dataframe\">\n",
       "  <thead>\n",
       "    <tr style=\"text-align: right;\">\n",
       "      <th></th>\n",
       "      <th>MS SubClass</th>\n",
       "      <th>MS Zoning</th>\n",
       "      <th>Lot Frontage</th>\n",
       "      <th>Lot Area</th>\n",
       "      <th>Street</th>\n",
       "      <th>Lot Shape</th>\n",
       "      <th>Land Contour</th>\n",
       "      <th>Utilities</th>\n",
       "      <th>Lot Config</th>\n",
       "      <th>Land Slope</th>\n",
       "      <th>...</th>\n",
       "      <th>Paved Drive</th>\n",
       "      <th>Wood Deck SF</th>\n",
       "      <th>Open Porch SF</th>\n",
       "      <th>Enclosed Porch</th>\n",
       "      <th>3Ssn Porch</th>\n",
       "      <th>Screen Porch</th>\n",
       "      <th>Pool Area</th>\n",
       "      <th>Misc Val</th>\n",
       "      <th>SalePrice</th>\n",
       "      <th>Years Till Remod</th>\n",
       "    </tr>\n",
       "  </thead>\n",
       "  <tbody>\n",
       "    <tr>\n",
       "      <th>850</th>\n",
       "      <td>20</td>\n",
       "      <td>RL</td>\n",
       "      <td>65.0</td>\n",
       "      <td>10739</td>\n",
       "      <td>Pave</td>\n",
       "      <td>IR1</td>\n",
       "      <td>Lvl</td>\n",
       "      <td>AllPub</td>\n",
       "      <td>Inside</td>\n",
       "      <td>Gtl</td>\n",
       "      <td>...</td>\n",
       "      <td>Y</td>\n",
       "      <td>144</td>\n",
       "      <td>40</td>\n",
       "      <td>0</td>\n",
       "      <td>0</td>\n",
       "      <td>0</td>\n",
       "      <td>0</td>\n",
       "      <td>0</td>\n",
       "      <td>203000</td>\n",
       "      <td>-1</td>\n",
       "    </tr>\n",
       "  </tbody>\n",
       "</table>\n",
       "<p>1 rows × 59 columns</p>\n",
       "</div>"
      ],
      "text/plain": [
       "     MS SubClass MS Zoning  Lot Frontage  Lot Area Street Lot Shape  \\\n",
       "850           20        RL          65.0     10739   Pave       IR1   \n",
       "\n",
       "    Land Contour Utilities Lot Config Land Slope       ...        Paved Drive  \\\n",
       "850          Lvl    AllPub     Inside        Gtl       ...                  Y   \n",
       "\n",
       "    Wood Deck SF Open Porch SF Enclosed Porch 3Ssn Porch  Screen Porch  \\\n",
       "850          144            40              0          0             0   \n",
       "\n",
       "     Pool Area Misc Val SalePrice Years Till Remod  \n",
       "850          0        0    203000               -1  \n",
       "\n",
       "[1 rows x 59 columns]"
      ]
     },
     "execution_count": 27,
     "metadata": {},
     "output_type": "execute_result"
    }
   ],
   "source": [
    "# Checking for validity of the new `Years Till Remod` to ensure no negative values,\n",
    "# otherwise row would be dropped\n",
    "copy[copy['Years Till Remod'] < 0]"
   ]
  },
  {
   "cell_type": "code",
   "execution_count": 28,
   "metadata": {
    "collapsed": false
   },
   "outputs": [
    {
     "name": "stdout",
     "output_type": "stream",
     "text": [
      "<class 'pandas.core.frame.DataFrame'>\n",
      "RangeIndex: 2929 entries, 0 to 2928\n",
      "Data columns (total 59 columns):\n",
      "MS SubClass         2929 non-null int64\n",
      "MS Zoning           2929 non-null object\n",
      "Lot Frontage        2929 non-null float64\n",
      "Lot Area            2929 non-null int64\n",
      "Street              2929 non-null object\n",
      "Lot Shape           2929 non-null object\n",
      "Land Contour        2929 non-null object\n",
      "Utilities           2929 non-null object\n",
      "Lot Config          2929 non-null object\n",
      "Land Slope          2929 non-null object\n",
      "Neighborhood        2929 non-null object\n",
      "Condition 1         2929 non-null object\n",
      "Condition 2         2929 non-null object\n",
      "Bldg Type           2929 non-null object\n",
      "House Style         2929 non-null object\n",
      "Overall Qual        2929 non-null int64\n",
      "Overall Cond        2929 non-null int64\n",
      "Roof Style          2929 non-null object\n",
      "Roof Matl           2929 non-null object\n",
      "Exterior 1st        2929 non-null object\n",
      "Exterior 2nd        2929 non-null object\n",
      "Mas Vnr Area        2929 non-null float64\n",
      "Exter Qual          2929 non-null object\n",
      "Exter Cond          2929 non-null object\n",
      "Foundation          2929 non-null object\n",
      "BsmtFin SF 1        2929 non-null float64\n",
      "BsmtFin SF 2        2929 non-null float64\n",
      "Bsmt Unf SF         2929 non-null float64\n",
      "Total Bsmt SF       2929 non-null float64\n",
      "Heating             2929 non-null object\n",
      "Heating QC          2929 non-null object\n",
      "Central Air         2929 non-null object\n",
      "1st Flr SF          2929 non-null int64\n",
      "2nd Flr SF          2929 non-null int64\n",
      "Low Qual Fin SF     2929 non-null int64\n",
      "Gr Liv Area         2929 non-null int64\n",
      "Bsmt Full Bath      2929 non-null float64\n",
      "Bsmt Half Bath      2929 non-null float64\n",
      "Full Bath           2929 non-null int64\n",
      "Half Bath           2929 non-null int64\n",
      "Bedroom AbvGr       2929 non-null int64\n",
      "Kitchen AbvGr       2929 non-null int64\n",
      "Kitchen Qual        2929 non-null object\n",
      "TotRms AbvGrd       2929 non-null int64\n",
      "Functional          2929 non-null object\n",
      "Fireplaces          2929 non-null int64\n",
      "Garage Yr Blt       2929 non-null float64\n",
      "Garage Cars         2929 non-null float64\n",
      "Garage Area         2929 non-null float64\n",
      "Paved Drive         2929 non-null object\n",
      "Wood Deck SF        2929 non-null int64\n",
      "Open Porch SF       2929 non-null int64\n",
      "Enclosed Porch      2929 non-null int64\n",
      "3Ssn Porch          2929 non-null int64\n",
      "Screen Porch        2929 non-null int64\n",
      "Pool Area           2929 non-null int64\n",
      "Misc Val            2929 non-null int64\n",
      "SalePrice           2929 non-null int64\n",
      "Years Till Remod    2929 non-null int64\n",
      "dtypes: float64(11), int64(23), object(25)\n",
      "memory usage: 1.3+ MB\n"
     ]
    }
   ],
   "source": [
    "copy.drop(copy[copy['Years Till Remod'] < 0].index, axis=0, inplace=True)\n",
    "copy.reset_index(drop=True, inplace=True)\n",
    "copy.info()"
   ]
  },
  {
   "cell_type": "markdown",
   "metadata": {},
   "source": [
    "## Updating `transform_features` Function"
   ]
  },
  {
   "cell_type": "markdown",
   "metadata": {},
   "source": [
    "Now, the transform_features function can be updated to incorporate all we've went through above."
   ]
  },
  {
   "cell_type": "code",
   "execution_count": 29,
   "metadata": {
    "collapsed": true
   },
   "outputs": [],
   "source": [
    "# Function to transform the feature columns\n",
    "def transform_features(df):\n",
    "    copy = df.copy()\n",
    "    \n",
    "    null_values_count = df.isnull().sum()\n",
    "    null_values_pct = null_values_count[null_values_count != 0]/len(df) * 100\n",
    "    null_values_to_drop = null_values_pct[null_values_pct > 25]\n",
    "    columns_to_drop = null_values_to_drop.index.tolist()\n",
    "    columns_to_drop += ['Mo Sold', 'Yr Sold', 'Sale Type', 'Sale Condition']\n",
    "    columns_to_drop += ['Order', 'PID']\n",
    "    copy.drop(columns = columns_to_drop, inplace=True)\n",
    "    \n",
    "    text_cols = copy.select_dtypes(include='object')\n",
    "    text_cols_mv = text_cols.isnull().sum()\n",
    "    text_columns_to_drop = text_cols_mv[text_cols_mv > 0].index\n",
    "    copy.drop(columns = text_columns_to_drop, inplace=True)\n",
    "    \n",
    "    numeric_cols = copy.select_dtypes(include=['float', 'int'])\n",
    "    numeric_cols_imputed = numeric_cols.fillna(numeric_cols.mean())\n",
    "    copy[numeric_cols_imputed.columns] = numeric_cols_imputed\n",
    "    \n",
    "    years_till_remod = copy['Year Remod/Add'] - copy['Year Built']\n",
    "    copy['Years Till Remod'] = years_till_remod\n",
    "    copy.drop(columns=['Year Remod/Add', 'Year Built'], inplace=True)\n",
    "    copy.drop(copy[copy['Years Till Remod'] < 0].index, axis=0, inplace=True)\n",
    "    copy.reset_index(drop=True, inplace=True)\n",
    "    \n",
    "    return copy"
   ]
  },
  {
   "cell_type": "markdown",
   "metadata": {},
   "source": [
    "# Feature Selection"
   ]
  },
  {
   "cell_type": "markdown",
   "metadata": {},
   "source": [
    "With feature engineering out of the way, it's time to look to what are the appropriate features to select to be included in the linear regression model. Let's apply the transformation function just created to the original dataframe to create a copy of the transformed dataframe to work with for the feature selection first."
   ]
  },
  {
   "cell_type": "code",
   "execution_count": 30,
   "metadata": {
    "collapsed": false
   },
   "outputs": [
    {
     "data": {
      "text/html": [
       "<div>\n",
       "<style scoped>\n",
       "    .dataframe tbody tr th:only-of-type {\n",
       "        vertical-align: middle;\n",
       "    }\n",
       "\n",
       "    .dataframe tbody tr th {\n",
       "        vertical-align: top;\n",
       "    }\n",
       "\n",
       "    .dataframe thead th {\n",
       "        text-align: right;\n",
       "    }\n",
       "</style>\n",
       "<table border=\"1\" class=\"dataframe\">\n",
       "  <thead>\n",
       "    <tr style=\"text-align: right;\">\n",
       "      <th></th>\n",
       "      <th>MS SubClass</th>\n",
       "      <th>MS Zoning</th>\n",
       "      <th>Lot Frontage</th>\n",
       "      <th>Lot Area</th>\n",
       "      <th>Street</th>\n",
       "      <th>Lot Shape</th>\n",
       "      <th>Land Contour</th>\n",
       "      <th>Utilities</th>\n",
       "      <th>Lot Config</th>\n",
       "      <th>Land Slope</th>\n",
       "      <th>...</th>\n",
       "      <th>Paved Drive</th>\n",
       "      <th>Wood Deck SF</th>\n",
       "      <th>Open Porch SF</th>\n",
       "      <th>Enclosed Porch</th>\n",
       "      <th>3Ssn Porch</th>\n",
       "      <th>Screen Porch</th>\n",
       "      <th>Pool Area</th>\n",
       "      <th>Misc Val</th>\n",
       "      <th>SalePrice</th>\n",
       "      <th>Years Till Remod</th>\n",
       "    </tr>\n",
       "  </thead>\n",
       "  <tbody>\n",
       "    <tr>\n",
       "      <th>0</th>\n",
       "      <td>20</td>\n",
       "      <td>RL</td>\n",
       "      <td>141.0</td>\n",
       "      <td>31770</td>\n",
       "      <td>Pave</td>\n",
       "      <td>IR1</td>\n",
       "      <td>Lvl</td>\n",
       "      <td>AllPub</td>\n",
       "      <td>Corner</td>\n",
       "      <td>Gtl</td>\n",
       "      <td>...</td>\n",
       "      <td>P</td>\n",
       "      <td>210</td>\n",
       "      <td>62</td>\n",
       "      <td>0</td>\n",
       "      <td>0</td>\n",
       "      <td>0</td>\n",
       "      <td>0</td>\n",
       "      <td>0</td>\n",
       "      <td>215000</td>\n",
       "      <td>0</td>\n",
       "    </tr>\n",
       "    <tr>\n",
       "      <th>1</th>\n",
       "      <td>20</td>\n",
       "      <td>RH</td>\n",
       "      <td>80.0</td>\n",
       "      <td>11622</td>\n",
       "      <td>Pave</td>\n",
       "      <td>Reg</td>\n",
       "      <td>Lvl</td>\n",
       "      <td>AllPub</td>\n",
       "      <td>Inside</td>\n",
       "      <td>Gtl</td>\n",
       "      <td>...</td>\n",
       "      <td>Y</td>\n",
       "      <td>140</td>\n",
       "      <td>0</td>\n",
       "      <td>0</td>\n",
       "      <td>0</td>\n",
       "      <td>120</td>\n",
       "      <td>0</td>\n",
       "      <td>0</td>\n",
       "      <td>105000</td>\n",
       "      <td>0</td>\n",
       "    </tr>\n",
       "    <tr>\n",
       "      <th>2</th>\n",
       "      <td>20</td>\n",
       "      <td>RL</td>\n",
       "      <td>81.0</td>\n",
       "      <td>14267</td>\n",
       "      <td>Pave</td>\n",
       "      <td>IR1</td>\n",
       "      <td>Lvl</td>\n",
       "      <td>AllPub</td>\n",
       "      <td>Corner</td>\n",
       "      <td>Gtl</td>\n",
       "      <td>...</td>\n",
       "      <td>Y</td>\n",
       "      <td>393</td>\n",
       "      <td>36</td>\n",
       "      <td>0</td>\n",
       "      <td>0</td>\n",
       "      <td>0</td>\n",
       "      <td>0</td>\n",
       "      <td>12500</td>\n",
       "      <td>172000</td>\n",
       "      <td>0</td>\n",
       "    </tr>\n",
       "    <tr>\n",
       "      <th>3</th>\n",
       "      <td>20</td>\n",
       "      <td>RL</td>\n",
       "      <td>93.0</td>\n",
       "      <td>11160</td>\n",
       "      <td>Pave</td>\n",
       "      <td>Reg</td>\n",
       "      <td>Lvl</td>\n",
       "      <td>AllPub</td>\n",
       "      <td>Corner</td>\n",
       "      <td>Gtl</td>\n",
       "      <td>...</td>\n",
       "      <td>Y</td>\n",
       "      <td>0</td>\n",
       "      <td>0</td>\n",
       "      <td>0</td>\n",
       "      <td>0</td>\n",
       "      <td>0</td>\n",
       "      <td>0</td>\n",
       "      <td>0</td>\n",
       "      <td>244000</td>\n",
       "      <td>0</td>\n",
       "    </tr>\n",
       "    <tr>\n",
       "      <th>4</th>\n",
       "      <td>60</td>\n",
       "      <td>RL</td>\n",
       "      <td>74.0</td>\n",
       "      <td>13830</td>\n",
       "      <td>Pave</td>\n",
       "      <td>IR1</td>\n",
       "      <td>Lvl</td>\n",
       "      <td>AllPub</td>\n",
       "      <td>Inside</td>\n",
       "      <td>Gtl</td>\n",
       "      <td>...</td>\n",
       "      <td>Y</td>\n",
       "      <td>212</td>\n",
       "      <td>34</td>\n",
       "      <td>0</td>\n",
       "      <td>0</td>\n",
       "      <td>0</td>\n",
       "      <td>0</td>\n",
       "      <td>0</td>\n",
       "      <td>189900</td>\n",
       "      <td>1</td>\n",
       "    </tr>\n",
       "  </tbody>\n",
       "</table>\n",
       "<p>5 rows × 59 columns</p>\n",
       "</div>"
      ],
      "text/plain": [
       "   MS SubClass MS Zoning  Lot Frontage  Lot Area Street Lot Shape  \\\n",
       "0           20        RL         141.0     31770   Pave       IR1   \n",
       "1           20        RH          80.0     11622   Pave       Reg   \n",
       "2           20        RL          81.0     14267   Pave       IR1   \n",
       "3           20        RL          93.0     11160   Pave       Reg   \n",
       "4           60        RL          74.0     13830   Pave       IR1   \n",
       "\n",
       "  Land Contour Utilities Lot Config Land Slope       ...        Paved Drive  \\\n",
       "0          Lvl    AllPub     Corner        Gtl       ...                  P   \n",
       "1          Lvl    AllPub     Inside        Gtl       ...                  Y   \n",
       "2          Lvl    AllPub     Corner        Gtl       ...                  Y   \n",
       "3          Lvl    AllPub     Corner        Gtl       ...                  Y   \n",
       "4          Lvl    AllPub     Inside        Gtl       ...                  Y   \n",
       "\n",
       "  Wood Deck SF Open Porch SF Enclosed Porch 3Ssn Porch  Screen Porch  \\\n",
       "0          210            62              0          0             0   \n",
       "1          140             0              0          0           120   \n",
       "2          393            36              0          0             0   \n",
       "3            0             0              0          0             0   \n",
       "4          212            34              0          0             0   \n",
       "\n",
       "   Pool Area Misc Val SalePrice Years Till Remod  \n",
       "0          0        0    215000                0  \n",
       "1          0        0    105000                0  \n",
       "2          0    12500    172000                0  \n",
       "3          0        0    244000                0  \n",
       "4          0        0    189900                1  \n",
       "\n",
       "[5 rows x 59 columns]"
      ]
     },
     "execution_count": 30,
     "metadata": {},
     "output_type": "execute_result"
    }
   ],
   "source": [
    "transformed_data = transform_features(data)\n",
    "transformed_data.head()"
   ]
  },
  {
   "cell_type": "markdown",
   "metadata": {},
   "source": [
    "## Investigating Correlation of Numeric Columns with Target Column"
   ]
  },
  {
   "cell_type": "markdown",
   "metadata": {},
   "source": [
    "It might to worthwhile to only model numeric features that exhibit strong linear correlation with the target `SalePrice` only."
   ]
  },
  {
   "cell_type": "code",
   "execution_count": 31,
   "metadata": {
    "collapsed": false
   },
   "outputs": [
    {
     "data": {
      "text/plain": [
       "BsmtFin SF 2        0.005918\n",
       "Misc Val            0.015683\n",
       "3Ssn Porch          0.032235\n",
       "Bsmt Half Bath      0.035792\n",
       "Low Qual Fin SF     0.037651\n",
       "Pool Area           0.068410\n",
       "MS SubClass         0.085021\n",
       "Overall Cond        0.101655\n",
       "Screen Porch        0.112181\n",
       "Kitchen AbvGr       0.119797\n",
       "Enclosed Porch      0.128758\n",
       "Bedroom AbvGr       0.143899\n",
       "Bsmt Unf SF         0.182915\n",
       "Years Till Remod    0.240129\n",
       "Lot Area            0.266546\n",
       "2nd Flr SF          0.269479\n",
       "Bsmt Full Bath      0.275850\n",
       "Half Bath           0.285159\n",
       "Open Porch SF       0.312966\n",
       "Wood Deck SF        0.327119\n",
       "Lot Frontage        0.340777\n",
       "BsmtFin SF 1        0.432867\n",
       "Fireplaces          0.474722\n",
       "TotRms AbvGrd       0.495514\n",
       "Mas Vnr Area        0.505812\n",
       "Garage Yr Blt       0.510681\n",
       "Full Bath           0.545594\n",
       "1st Flr SF          0.621671\n",
       "Total Bsmt SF       0.632112\n",
       "Garage Area         0.640374\n",
       "Garage Cars         0.647851\n",
       "Gr Liv Area         0.706801\n",
       "Overall Qual        0.799268\n",
       "SalePrice           1.000000\n",
       "Name: SalePrice, dtype: float64"
      ]
     },
     "execution_count": 31,
     "metadata": {},
     "output_type": "execute_result"
    }
   ],
   "source": [
    "numeric = transformed_data.select_dtypes(include=['float', 'int'])\n",
    "correlations_with_price = numeric.corr()['SalePrice']\n",
    "abs_correlations_with_price = correlations_with_price.abs().sort_values(ascending=True)\n",
    "abs_correlations_with_price"
   ]
  },
  {
   "cell_type": "markdown",
   "metadata": {},
   "source": [
    "As a cutoff, columns with absolute correlation value of less than 0.4 ought to be removed. These columns with relatively low correlation coefficient would likely lead to poor predictive capability with respective to the sale price."
   ]
  },
  {
   "cell_type": "code",
   "execution_count": 32,
   "metadata": {
    "collapsed": false
   },
   "outputs": [
    {
     "name": "stdout",
     "output_type": "stream",
     "text": [
      "<class 'pandas.core.frame.DataFrame'>\n",
      "RangeIndex: 2929 entries, 0 to 2928\n",
      "Data columns (total 38 columns):\n",
      "MS Zoning        2929 non-null object\n",
      "Street           2929 non-null object\n",
      "Lot Shape        2929 non-null object\n",
      "Land Contour     2929 non-null object\n",
      "Utilities        2929 non-null object\n",
      "Lot Config       2929 non-null object\n",
      "Land Slope       2929 non-null object\n",
      "Neighborhood     2929 non-null object\n",
      "Condition 1      2929 non-null object\n",
      "Condition 2      2929 non-null object\n",
      "Bldg Type        2929 non-null object\n",
      "House Style      2929 non-null object\n",
      "Overall Qual     2929 non-null int64\n",
      "Roof Style       2929 non-null object\n",
      "Roof Matl        2929 non-null object\n",
      "Exterior 1st     2929 non-null object\n",
      "Exterior 2nd     2929 non-null object\n",
      "Mas Vnr Area     2929 non-null float64\n",
      "Exter Qual       2929 non-null object\n",
      "Exter Cond       2929 non-null object\n",
      "Foundation       2929 non-null object\n",
      "BsmtFin SF 1     2929 non-null float64\n",
      "Total Bsmt SF    2929 non-null float64\n",
      "Heating          2929 non-null object\n",
      "Heating QC       2929 non-null object\n",
      "Central Air      2929 non-null object\n",
      "1st Flr SF       2929 non-null int64\n",
      "Gr Liv Area      2929 non-null int64\n",
      "Full Bath        2929 non-null int64\n",
      "Kitchen Qual     2929 non-null object\n",
      "TotRms AbvGrd    2929 non-null int64\n",
      "Functional       2929 non-null object\n",
      "Fireplaces       2929 non-null int64\n",
      "Garage Yr Blt    2929 non-null float64\n",
      "Garage Cars      2929 non-null float64\n",
      "Garage Area      2929 non-null float64\n",
      "Paved Drive      2929 non-null object\n",
      "SalePrice        2929 non-null int64\n",
      "dtypes: float64(6), int64(7), object(25)\n",
      "memory usage: 869.6+ KB\n"
     ]
    }
   ],
   "source": [
    "transformed_data.drop(abs_correlations_with_price[abs_correlations_with_price < 0.4].index, axis=1, inplace=True)\n",
    "transformed_data.info()"
   ]
  },
  {
   "cell_type": "markdown",
   "metadata": {},
   "source": [
    "## Categorical Columns"
   ]
  },
  {
   "cell_type": "markdown",
   "metadata": {},
   "source": [
    "Columns that can be categorized as nominal variables are candidates that ought to be converted to the categorical data type. Referencing the data documentation and current columns in the `transformed_data`, a list of the candidates to be converted to categorical datatypes is created. Candidates here include ordinal variables but are not in numeric form as well."
   ]
  },
  {
   "cell_type": "code",
   "execution_count": 33,
   "metadata": {
    "collapsed": false
   },
   "outputs": [
    {
     "data": {
      "text/plain": [
       "25"
      ]
     },
     "execution_count": 33,
     "metadata": {},
     "output_type": "execute_result"
    }
   ],
   "source": [
    "cat_candidates = ['MS Zoning', 'Street', 'Lot Shape', 'Land Contour', 'Utilities', 'Lot Config',\n",
    "                  'Land Slope', 'Neighborhood', 'Condition 1', 'Condition 2', 'Bldg Type', 'House Style',\n",
    "                  'Roof Style', 'Roof Matl', 'Exterior 1st', 'Exterior 2nd', 'Exter Qual', 'Exter Cond',\n",
    "                  'Foundation', 'Heating', 'Heating QC', 'Central Air', 'Kitchen Qual', 'Functional',\n",
    "                  'Paved Drive']\n",
    "len(cat_candidates)"
   ]
  },
  {
   "cell_type": "code",
   "execution_count": 34,
   "metadata": {
    "collapsed": false
   },
   "outputs": [
    {
     "data": {
      "text/plain": [
       "Street           2\n",
       "Central Air      2\n",
       "Paved Drive      3\n",
       "Utilities        3\n",
       "Land Slope       3\n",
       "Lot Shape        4\n",
       "Land Contour     4\n",
       "Exter Qual       4\n",
       "Lot Config       5\n",
       "Kitchen Qual     5\n",
       "Heating QC       5\n",
       "Bldg Type        5\n",
       "Exter Cond       5\n",
       "Heating          6\n",
       "Foundation       6\n",
       "Roof Style       6\n",
       "MS Zoning        7\n",
       "Roof Matl        8\n",
       "Functional       8\n",
       "House Style      8\n",
       "Condition 2      8\n",
       "Condition 1      9\n",
       "Exterior 1st    16\n",
       "Exterior 2nd    17\n",
       "Neighborhood    28\n",
       "dtype: int64"
      ]
     },
     "execution_count": 34,
     "metadata": {},
     "output_type": "execute_result"
    }
   ],
   "source": [
    "## Calculating the number of unique values in each of the candidate for categorical columns\n",
    "unique_val_counts = transformed_data[cat_candidates].apply(lambda col: len(col.unique())).sort_values()\n",
    "unique_val_counts"
   ]
  },
  {
   "cell_type": "code",
   "execution_count": 35,
   "metadata": {
    "collapsed": false
   },
   "outputs": [
    {
     "name": "stdout",
     "output_type": "stream",
     "text": [
      "<class 'pandas.core.frame.DataFrame'>\n",
      "RangeIndex: 2929 entries, 0 to 2928\n",
      "Data columns (total 35 columns):\n",
      "MS Zoning        2929 non-null object\n",
      "Street           2929 non-null object\n",
      "Lot Shape        2929 non-null object\n",
      "Land Contour     2929 non-null object\n",
      "Utilities        2929 non-null object\n",
      "Lot Config       2929 non-null object\n",
      "Land Slope       2929 non-null object\n",
      "Condition 1      2929 non-null object\n",
      "Condition 2      2929 non-null object\n",
      "Bldg Type        2929 non-null object\n",
      "House Style      2929 non-null object\n",
      "Overall Qual     2929 non-null int64\n",
      "Roof Style       2929 non-null object\n",
      "Roof Matl        2929 non-null object\n",
      "Mas Vnr Area     2929 non-null float64\n",
      "Exter Qual       2929 non-null object\n",
      "Exter Cond       2929 non-null object\n",
      "Foundation       2929 non-null object\n",
      "BsmtFin SF 1     2929 non-null float64\n",
      "Total Bsmt SF    2929 non-null float64\n",
      "Heating          2929 non-null object\n",
      "Heating QC       2929 non-null object\n",
      "Central Air      2929 non-null object\n",
      "1st Flr SF       2929 non-null int64\n",
      "Gr Liv Area      2929 non-null int64\n",
      "Full Bath        2929 non-null int64\n",
      "Kitchen Qual     2929 non-null object\n",
      "TotRms AbvGrd    2929 non-null int64\n",
      "Functional       2929 non-null object\n",
      "Fireplaces       2929 non-null int64\n",
      "Garage Yr Blt    2929 non-null float64\n",
      "Garage Cars      2929 non-null float64\n",
      "Garage Area      2929 non-null float64\n",
      "Paved Drive      2929 non-null object\n",
      "SalePrice        2929 non-null int64\n",
      "dtypes: float64(6), int64(7), object(22)\n",
      "memory usage: 801.0+ KB\n"
     ]
    }
   ],
   "source": [
    "# Dropping these categorical columns if there are more than 10 unique values to avoid many too many\n",
    "# dummy code columns when applying pd.get_dummies()\n",
    "to_drop = unique_val_counts[unique_val_counts > 10].index\n",
    "transformed_data.drop(columns=to_drop, inplace=True)\n",
    "transformed_data.info()"
   ]
  },
  {
   "cell_type": "markdown",
   "metadata": {},
   "source": [
    "Taking a glance, there appears to be no columns that are currently numerical but need to be encoded as categorical. There are no such columns where the numbers do not have any semantic meaning. With that, we can now proceed to convert the text columns to categorical columns before creating the dummy code columns."
   ]
  },
  {
   "cell_type": "code",
   "execution_count": 36,
   "metadata": {
    "collapsed": false
   },
   "outputs": [],
   "source": [
    "## Select just the remaining text columns and convert to categorical\n",
    "text_cols = transformed_data.select_dtypes(include=['object'])\n",
    "for col in text_cols:\n",
    "    transformed_data[col] = transformed_data[col].astype('category')\n",
    "    \n",
    "## Create dummy columns and add back to the dataframe\n",
    "transformed_data = pd.concat([\n",
    "    transformed_data, \n",
    "    pd.get_dummies(transformed_data.select_dtypes(include=['category']))\n",
    "], axis=1).drop(text_cols,axis=1)"
   ]
  },
  {
   "cell_type": "markdown",
   "metadata": {},
   "source": [
    "## Updating the `select_features` Function"
   ]
  },
  {
   "cell_type": "markdown",
   "metadata": {},
   "source": [
    "With the experimentation above, the logic can now be incorporated into a single function for selecting the features to be trained with the Linear Regression model."
   ]
  },
  {
   "cell_type": "code",
   "execution_count": 37,
   "metadata": {
    "collapsed": true
   },
   "outputs": [],
   "source": [
    "# Function to select the appropriate feature columns for training\n",
    "def select_features(df):\n",
    "    numeric = df.select_dtypes(include=['float', 'int'])\n",
    "    correlations_with_price = numeric.corr()['SalePrice']\n",
    "    abs_correlations_with_price = correlations_with_price.abs().sort_values(ascending=True)\n",
    "    df.drop(abs_correlations_with_price[abs_correlations_with_price < 0.4].index, axis=1, inplace=True)\n",
    "    \n",
    "    cat_candidates = ['MS Zoning', 'Street', 'Lot Shape', 'Land Contour', 'Utilities', 'Lot Config',\n",
    "                  'Land Slope', 'Neighborhood', 'Condition 1', 'Condition 2', 'Bldg Type', 'House Style',\n",
    "                  'Roof Style', 'Roof Matl', 'Exterior 1st', 'Exterior 2nd', 'Exter Qual', 'Exter Cond',\n",
    "                  'Foundation', 'Heating', 'Heating QC', 'Central Air', 'Kitchen Qual', 'Functional',\n",
    "                  'Paved Drive']\n",
    "    unique_val_counts = df[cat_candidates].apply(lambda col: len(col.unique())).sort_values()\n",
    "    to_drop = unique_val_counts[unique_val_counts > 10].index\n",
    "    df.drop(columns=to_drop, inplace=True)\n",
    "    text_cols = df.select_dtypes(include=['object'])\n",
    "    for col in text_cols:\n",
    "        df[col] = df[col].astype('category')\n",
    "    \n",
    "    df = pd.concat([df, pd.get_dummies(df.select_dtypes(include=['category']))\n",
    "    ], axis=1).drop(text_cols,axis=1)\n",
    "    \n",
    "    return df"
   ]
  },
  {
   "cell_type": "code",
   "execution_count": 38,
   "metadata": {
    "collapsed": false
   },
   "outputs": [
    {
     "name": "stdout",
     "output_type": "stream",
     "text": [
      "<class 'pandas.core.frame.DataFrame'>\n",
      "RangeIndex: 2929 entries, 0 to 2928\n",
      "Columns: 129 entries, Overall Qual to Paved Drive_Y\n",
      "dtypes: float64(6), int64(7), uint8(116)\n",
      "memory usage: 629.4 KB\n"
     ]
    }
   ],
   "source": [
    "# Trying out the newly created function to see if the output dataframe consists of all numeric columns\n",
    "try_df = transform_features(data)\n",
    "try_df = select_features(try_df)\n",
    "try_df.info()"
   ]
  },
  {
   "cell_type": "markdown",
   "metadata": {},
   "source": [
    "# Training and Testing"
   ]
  },
  {
   "cell_type": "markdown",
   "metadata": {},
   "source": [
    "## Updating the `train_and_test` function"
   ]
  },
  {
   "cell_type": "markdown",
   "metadata": {},
   "source": [
    "Finally, the `train_and_test` function has to be updated to allow for different type of cross-validation, allowed for an input `k` to control the type of cross validation to be used. If k is greater than 2, K-Fold validation would be applied. Otherwise, if k=1, simple train/test validation is applied. If k=2, holdout validation is used."
   ]
  },
  {
   "cell_type": "code",
   "execution_count": 39,
   "metadata": {
    "collapsed": true
   },
   "outputs": [],
   "source": [
    "def train_and_test(df, k=1):\n",
    "    features = df.columns.drop(\"SalePrice\")\n",
    "    lr = LinearRegression()\n",
    "    \n",
    "    if k < 1:\n",
    "        raise ValueError('parameter k can only take non-zero positive integers')\n",
    "    \n",
    "    if k == 0:\n",
    "        train = df[:1460]\n",
    "        test = df[1460:]\n",
    "\n",
    "        lr.fit(train[features], train[\"SalePrice\"])\n",
    "        predictions = lr.predict(test[features])\n",
    "        mse = mean_squared_error(test[\"SalePrice\"], predictions)\n",
    "        rmse = np.sqrt(mse)\n",
    "\n",
    "        return rmse\n",
    "    \n",
    "    if k == 1:\n",
    "        # Randomize *all* rows (frac=1) from `df` and return\n",
    "        shuffled_df = df.sample(frac=1, )\n",
    "        train = df[:1460]\n",
    "        test = df[1460:]\n",
    "        \n",
    "        lr.fit(train[features], train[\"SalePrice\"])\n",
    "        predictions_one = lr.predict(test[features])        \n",
    "        \n",
    "        mse_one = mean_squared_error(test[\"SalePrice\"], predictions_one)\n",
    "        rmse_one = np.sqrt(mse_one)\n",
    "        \n",
    "        lr.fit(test[features], test[\"SalePrice\"])\n",
    "        predictions_two = lr.predict(train[features])        \n",
    "       \n",
    "        mse_two = mean_squared_error(train[\"SalePrice\"], predictions_two)\n",
    "        rmse_two = np.sqrt(mse_two)\n",
    "        \n",
    "        avg_rmse = np.mean([rmse_one, rmse_two])\n",
    "        print(rmse_one)\n",
    "        print(rmse_two)\n",
    "        return avg_rmse\n",
    "    else:\n",
    "        kf = KFold(n_splits=k, shuffle=True)\n",
    "        rmse_values = []\n",
    "        for train_index, test_index, in kf.split(df):\n",
    "            train = df.iloc[train_index]\n",
    "            test = df.iloc[test_index]\n",
    "            lr.fit(train[features], train[\"SalePrice\"])\n",
    "            predictions = lr.predict(test[features])\n",
    "            mse = mean_squared_error(test[\"SalePrice\"], predictions)\n",
    "            rmse = np.sqrt(mse)\n",
    "            rmse_values.append(rmse)\n",
    "        print(rmse_values)\n",
    "        avg_rmse = np.mean(rmse_values)\n",
    "        return avg_rmse"
   ]
  },
  {
   "cell_type": "markdown",
   "metadata": {},
   "source": [
    "# Conclusion"
   ]
  },
  {
   "cell_type": "markdown",
   "metadata": {},
   "source": [
    "With all 3 functions created for the pipeline, we can put them to use with the dataset, which is as follows:"
   ]
  },
  {
   "cell_type": "code",
   "execution_count": 40,
   "metadata": {
    "collapsed": false
   },
   "outputs": [
    {
     "name": "stdout",
     "output_type": "stream",
     "text": [
      "[37166.19311978606, 25817.606110268895, 27110.59703648638, 54730.665840547, 25938.311728749475, 39544.94026158685, 29892.577885212704, 21462.328067954135, 24390.99889098194, 28175.434587323845, 23825.08998285168, 27048.781307713158, 29954.620541176482, 21644.842547397086, 26508.226927559084, 32194.971893092195, 25810.964487721085, 56369.59874995934, 19402.89370046144, 24614.852038269775]\n"
     ]
    },
    {
     "data": {
      "text/plain": [
       "30080.22478525493"
      ]
     },
     "execution_count": 40,
     "metadata": {},
     "output_type": "execute_result"
    }
   ],
   "source": [
    "transformed_df = transform_features(data)\n",
    "selected_df = select_features(transformed_df)\n",
    "rmse = train_and_test(selected_df, k=20)\n",
    "rmse"
   ]
  }
 ],
 "metadata": {
  "anaconda-cloud": {},
  "kernelspec": {
   "display_name": "Python 3",
   "language": "python",
   "name": "python3"
  },
  "language_info": {
   "codemirror_mode": {
    "name": "ipython",
    "version": 3
   },
   "file_extension": ".py",
   "mimetype": "text/x-python",
   "name": "python",
   "nbconvert_exporter": "python",
   "pygments_lexer": "ipython3",
   "version": "3.4.3"
  }
 },
 "nbformat": 4,
 "nbformat_minor": 2
}
